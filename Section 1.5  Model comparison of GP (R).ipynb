{
 "cells": [
  {
   "cell_type": "markdown",
   "metadata": {},
   "source": [
    "# Section 1.5  Model comparison of GP (R)"
   ]
  },
  {
   "cell_type": "code",
   "execution_count": 1,
   "metadata": {},
   "outputs": [
    {
     "data": {
      "text/html": [
       "'windows'"
      ],
      "text/latex": [
       "'windows'"
      ],
      "text/markdown": [
       "'windows'"
      ],
      "text/plain": [
       "[1] \"windows\""
      ]
     },
     "metadata": {},
     "output_type": "display_data"
    },
    {
     "data": {
      "text/html": [
       "'R version 3.5.1 (2018-07-02)'"
      ],
      "text/latex": [
       "'R version 3.5.1 (2018-07-02)'"
      ],
      "text/markdown": [
       "'R version 3.5.1 (2018-07-02)'"
      ],
      "text/plain": [
       "[1] \"R version 3.5.1 (2018-07-02)\""
      ]
     },
     "metadata": {},
     "output_type": "display_data"
    },
    {
     "data": {
      "text/html": [
       "'Intel(R) Core(TM) i7-7700HQ CPU @ 2.80GHz'"
      ],
      "text/latex": [
       "'Intel(R) Core(TM) i7-7700HQ CPU @ 2.80GHz'"
      ],
      "text/markdown": [
       "'Intel(R) Core(TM) i7-7700HQ CPU @ 2.80GHz'"
      ],
      "text/plain": [
       "[1] \"Intel(R) Core(TM) i7-7700HQ CPU @ 2.80GHz\""
      ]
     },
     "metadata": {},
     "output_type": "display_data"
    },
    {
     "data": {
      "text/html": [
       "8"
      ],
      "text/latex": [
       "8"
      ],
      "text/markdown": [
       "8"
      ],
      "text/plain": [
       "[1] 8"
      ]
     },
     "metadata": {},
     "output_type": "display_data"
    },
    {
     "data": {
      "text/plain": [
       "8.59 GB"
      ]
     },
     "metadata": {},
     "output_type": "display_data"
    }
   ],
   "source": [
    "# Platform information\n",
    "library(benchmarkme)\n",
    "get_platform_info()$OS.type\n",
    "get_r_version()$version.string\n",
    "get_cpu()$model_name;get_cpu()$no_of_cores\n",
    "get_ram()"
   ]
  },
  {
   "cell_type": "code",
   "execution_count": 1,
   "metadata": {},
   "outputs": [
    {
     "name": "stderr",
     "output_type": "stream",
     "text": [
      "Loading required package: foreach\n",
      "Loading required package: iterators\n",
      "Loading required package: parallel\n"
     ]
    }
   ],
   "source": [
    "# Parallel computation\n",
    "library(doParallel)\n",
    "library(foreach)\n",
    "cl<-makeCluster(8) "
   ]
  },
  {
   "cell_type": "code",
   "execution_count": 2,
   "metadata": {},
   "outputs": [],
   "source": [
    "# Loading data\n",
    "geno <-read.table(\"./Hetero_realigned_cov10_filtered3.raw\", row.names=1, header=T)\n",
    "row.names(geno)=1:240\n",
    "x <- as.matrix(geno)-1   \n",
    "pheno <- read.csv(\"./2017heteroPheno.csv\", header=T)\n",
    "attach(pheno)\n",
    "data <- data.frame(tbcw=sqrt(pheno$bcw+1),bcw=pheno$bcw,length=pheno$length,gid=1:240)"
   ]
  },
  {
   "cell_type": "code",
   "execution_count": 3,
   "metadata": {},
   "outputs": [],
   "source": [
    "# Parameters for cross validation\n",
    "repeats <- 10\n",
    "n.fold <- 5 \n",
    "n.sample <- length(pheno$bcw)    \n",
    "CM<-7"
   ]
  },
  {
   "cell_type": "markdown",
   "metadata": {},
   "source": [
    "## GBLUP"
   ]
  },
  {
   "cell_type": "code",
   "execution_count": 4,
   "metadata": {},
   "outputs": [
    {
     "data": {
      "text/plain": [
       "[1] '4.6'"
      ]
     },
     "metadata": {},
     "output_type": "display_data"
    }
   ],
   "source": [
    "# Package\n",
    "library(rrBLUP)\n",
    "packageVersion(\"rrBLUP\")"
   ]
  },
  {
   "cell_type": "code",
   "execution_count": 5,
   "metadata": {},
   "outputs": [],
   "source": [
    "# Marker-based relationship matrix (Endelman at al. 2011)\n",
    "A <- A.mat(x, n.core=8)\n",
    "row.names(A)=1:240;colnames(A)=1:240"
   ]
  },
  {
   "cell_type": "code",
   "execution_count": 6,
   "metadata": {},
   "outputs": [
    {
     "data": {
      "text/plain": [
       "   user  system elapsed \n",
       "   3.75    0.44    1.09 "
      ]
     },
     "metadata": {},
     "output_type": "display_data"
    }
   ],
   "source": [
    "registerDoParallel(cl)\n",
    "system.time({\n",
    "GBLUP<-foreach(j=1:repeats,.combine = \"rbind\") %do% {\n",
    "        set.seed(100+3*j+1)\n",
    "        id <- sample(1:n.sample %% n.fold) + 1 \n",
    "        foreach(i=1:n.fold,.packages=\"rrBLUP\") %do% {\n",
    "         bcw_test <- data\n",
    "         bcw_test$tbcw[id == i] <- NA\n",
    "         res <- kin.blup(bcw_test, K=A, geno=\"gid\", pheno=\"tbcw\")\n",
    "         cor(data$tbcw[id==i],res$pred[id==i])\n",
    "    }\n",
    "   }\n",
    "})\n",
    "stopImplicitCluster()"
   ]
  },
  {
   "cell_type": "markdown",
   "metadata": {},
   "source": [
    "# Bayes A"
   ]
  },
  {
   "cell_type": "code",
   "execution_count": 8,
   "metadata": {},
   "outputs": [
    {
     "data": {
      "text/plain": [
       "[1] '1.0.5'"
      ]
     },
     "metadata": {},
     "output_type": "display_data"
    }
   ],
   "source": [
    "# Package\n",
    "library(\"BGLR\")\n",
    "packageVersion(\"BGLR\")"
   ]
  },
  {
   "cell_type": "code",
   "execution_count": null,
   "metadata": {
    "scrolled": true
   },
   "outputs": [],
   "source": [
    "registerDoParallel(cl)\n",
    "system.time({\n",
    "BA <- foreach(j=1:repeats,.combine = \"rbind\") %do% {\n",
    "        set.seed(100+3*j+1)\n",
    "        id <- sample(1:n.sample %% n.fold) + 1 \n",
    "        foreach(i=1:n.fold,.packages=\"BGLR\") %do% {\n",
    "         bcw_test <- data\n",
    "         bcw_test$tbcw[id == i] <- NA\n",
    "         fmBA=BGLR(y=bcw_test$tbcw,ETA=list(list(X=x,model='BayesA')),nIter=2000,burnIn=1000)\n",
    "         cor(data$tbcw[id == i],fmBA$yHat[id == i])\n",
    "         }  \n",
    "    }\n",
    "})\n",
    "stopImplicitCluster()  "
   ]
  },
  {
   "cell_type": "markdown",
   "metadata": {},
   "source": [
    "# Bayes B"
   ]
  },
  {
   "cell_type": "code",
   "execution_count": null,
   "metadata": {},
   "outputs": [],
   "source": [
    "registerDoParallel(cl)\n",
    "system.time({\n",
    "BB <- foreach(j=1:repeats,.combine = \"rbind\") %do% {\n",
    "        set.seed(100+3*j+1)\n",
    "        id <- sample(1:n.sample %% n.fold) + 1 \n",
    "        foreach(i=1:n.fold,.packages=\"BGLR\") %do% {\n",
    "         bcw_test <- data\n",
    "         bcw_test$tbcw[id == i] <- NA\n",
    "         fmBB=BGLR(y=bcw_test$tbcw,ETA=list(list(X=x,model='BayesB')),nIter=2000,burnIn=1000)\n",
    "         cor(data$tbcw[id == i],fmBB$yHat[id == i])\n",
    "         }  \n",
    "    }\n",
    "})\n",
    "stopImplicitCluster()  "
   ]
  },
  {
   "cell_type": "markdown",
   "metadata": {},
   "source": [
    "# Bayes C"
   ]
  },
  {
   "cell_type": "code",
   "execution_count": null,
   "metadata": {},
   "outputs": [],
   "source": [
    "registerDoParallel(cl)\n",
    "system.time({\n",
    "BC <- foreach(j=1:repeats,.combine = \"rbind\") %do% {\n",
    "        set.seed(100+3*j+1)\n",
    "        id <- sample(1:n.sample %% n.fold) + 1 \n",
    "        foreach(i=1:n.fold,.packages=\"BGLR\") %do% {\n",
    "         bcw_test <- data\n",
    "         bcw_test$tbcw[id == i] <- NA\n",
    "         fmBC=BGLR(y=bcw_test$tbcw,ETA=list(list(X=x,model='BayesC')),nIter=2000,burnIn=1000)\n",
    "         cor(data$tbcw[id == i],fmBC$yHat[id == i])\n",
    "         }  \n",
    "    }\n",
    "})\n",
    "stopImplicitCluster()  "
   ]
  },
  {
   "cell_type": "markdown",
   "metadata": {},
   "source": [
    "# Baces BL"
   ]
  },
  {
   "cell_type": "code",
   "execution_count": null,
   "metadata": {},
   "outputs": [],
   "source": [
    "registerDoParallel(cl)\n",
    "system.time({\n",
    "BL <- foreach(j=1:repeats,.combine = \"rbind\") %do% {\n",
    "        set.seed(100+3*j+1)\n",
    "        id <- sample(1:n.sample %% n.fold) + 1 \n",
    "        foreach(i=1:n.fold,.packages=\"BGLR\") %do% {\n",
    "         bcw_test <- data\n",
    "         bcw_test$tbcw[id == i] <- NA\n",
    "         fmBL=BGLR(y=bcw_test$tbcw,ETA=list(list(X=x,model='BL')),nIter=2000,burnIn=1000)\n",
    "         cor(data$tbcw[id == i],fmBL$yHat[id == i])\n",
    "         }  \n",
    "    }\n",
    "})\n",
    "stopImplicitCluster()  "
   ]
  },
  {
   "cell_type": "markdown",
   "metadata": {},
   "source": [
    "## Bayes RKHS"
   ]
  },
  {
   "cell_type": "code",
   "execution_count": 11,
   "metadata": {},
   "outputs": [],
   "source": [
    "# Reproducing kernel\n",
    "p<-ncol(x)\n",
    "D<-(as.matrix(dist(x,method='euclidean'))^2)/p\n",
    "h<-0.5;K<-exp(-h*D)\n",
    "ETA<-list(list(K=K,model='RKHS'))"
   ]
  },
  {
   "cell_type": "code",
   "execution_count": null,
   "metadata": {},
   "outputs": [],
   "source": [
    "registerDoParallel(cl)\n",
    "system.time({\n",
    "RKHS <- foreach(j=1:repeats,.combine = \"rbind\") %do% {\n",
    "        set.seed(100+3*j+1)\n",
    "        id <- sample(1:n.sample %% n.fold) + 1 \n",
    "        foreach(i=1:n.fold,.packages=\"BGLR\") %do% {\n",
    "         bcw_test <- data\n",
    "         bcw_test$bcw[id == i] <- NA\n",
    "         fmRKHS=BGLR(y=bcw_test$bcw,ETA=ETA,nIter=2000,burnIn=1000)\n",
    "         cor(pheno$bcw[id == i],fmRKHS$yHat[id == i])\n",
    "         }    \n",
    "      }\n",
    "})\n",
    "stopImplicitCluster()  "
   ]
  },
  {
   "cell_type": "markdown",
   "metadata": {},
   "source": [
    "## Comparision "
   ]
  },
  {
   "cell_type": "code",
   "execution_count": 16,
   "metadata": {},
   "outputs": [],
   "source": [
    "#Save result\n",
    "Acc<-data.frame(unlist(GBLUP),unlist(BA), unlist(BB),unlist(BC),unlist(BL),unlist(RKHS))\n",
    "colnames(Acc)<-c(\"GBLUP\",\"BA\",\"BB\",\"BC\",\"BL\",\"RKHS\")\n",
    "library(\"xlsx\")\n",
    "write.xlsx(Acc, \"All_models_Acc.xlsx\") "
   ]
  },
  {
   "cell_type": "code",
   "execution_count": 20,
   "metadata": {
    "scrolled": true
   },
   "outputs": [],
   "source": [
    "#Load data(from this page and deep learning models)\n",
    "library(\"readxl\")\n",
    "data<-read_excel(\"All_models_Acc.xlsx\")\n",
    "Acc_all<-subset(data,select = - c(X__1))"
   ]
  },
  {
   "cell_type": "code",
   "execution_count": 21,
   "metadata": {
    "scrolled": false
   },
   "outputs": [
    {
     "data": {
      "text/html": [
       "<table>\n",
       "<thead><tr><th></th><th scope=col>Acc_mean</th><th scope=col>Acc_SE</th></tr></thead>\n",
       "<tbody>\n",
       "\t<tr><th scope=row>GBLUP</th><td>0.284</td><td>0.017</td></tr>\n",
       "\t<tr><th scope=row>BA</th><td>0.279</td><td>0.017</td></tr>\n",
       "\t<tr><th scope=row>BB</th><td>0.288</td><td>0.016</td></tr>\n",
       "\t<tr><th scope=row>BC</th><td>0.284</td><td>0.016</td></tr>\n",
       "\t<tr><th scope=row>BL</th><td>0.290</td><td>0.016</td></tr>\n",
       "\t<tr><th scope=row>RKHS</th><td>0.280</td><td>0.017</td></tr>\n",
       "</tbody>\n",
       "</table>\n"
      ],
      "text/latex": [
       "\\begin{tabular}{r|ll}\n",
       "  & Acc\\_mean & Acc\\_SE\\\\\n",
       "\\hline\n",
       "\tGBLUP & 0.284 & 0.017\\\\\n",
       "\tBA & 0.279 & 0.017\\\\\n",
       "\tBB & 0.288 & 0.016\\\\\n",
       "\tBC & 0.284 & 0.016\\\\\n",
       "\tBL & 0.290 & 0.016\\\\\n",
       "\tRKHS & 0.280 & 0.017\\\\\n",
       "\\end{tabular}\n"
      ],
      "text/markdown": [
       "\n",
       "| <!--/--> | Acc_mean | Acc_SE | \n",
       "|---|---|---|---|---|---|\n",
       "| GBLUP | 0.284 | 0.017 | \n",
       "| BA | 0.279 | 0.017 | \n",
       "| BB | 0.288 | 0.016 | \n",
       "| BC | 0.284 | 0.016 | \n",
       "| BL | 0.290 | 0.016 | \n",
       "| RKHS | 0.280 | 0.017 | \n",
       "\n",
       "\n"
      ],
      "text/plain": [
       "      Acc_mean Acc_SE\n",
       "GBLUP 0.284    0.017 \n",
       "BA    0.279    0.017 \n",
       "BB    0.288    0.016 \n",
       "BC    0.284    0.016 \n",
       "BL    0.290    0.016 \n",
       "RKHS  0.280    0.017 "
      ]
     },
     "metadata": {},
     "output_type": "display_data"
    }
   ],
   "source": [
    "(summary<-data.frame(Acc_mean=sapply(Acc_all,function(x) round(mean(x),digits = 3)),\n",
    "    Acc_SE=sapply(Acc_all,function(x) round(sd(x)/sqrt(repeats*n.fold),digits = 3))))"
   ]
  },
  {
   "cell_type": "code",
   "execution_count": 22,
   "metadata": {},
   "outputs": [],
   "source": [
    "write.xlsx(summary, \"1.7 summary.xlsx\") "
   ]
  },
  {
   "cell_type": "code",
   "execution_count": null,
   "metadata": {},
   "outputs": [],
   "source": []
  }
 ],
 "metadata": {
  "kernelspec": {
   "display_name": "R",
   "language": "R",
   "name": "ir"
  },
  "language_info": {
   "codemirror_mode": "r",
   "file_extension": ".r",
   "mimetype": "text/x-r-source",
   "name": "R",
   "pygments_lexer": "r",
   "version": "3.5.1"
  }
 },
 "nbformat": 4,
 "nbformat_minor": 2
}
