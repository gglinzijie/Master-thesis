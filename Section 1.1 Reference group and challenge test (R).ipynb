{
 "cells": [
  {
   "cell_type": "markdown",
   "metadata": {},
   "source": [
    "# Section 1.1 Reference group and challenge test (R)"
   ]
  },
  {
   "cell_type": "code",
   "execution_count": 1,
   "metadata": {},
   "outputs": [],
   "source": [
    "# Loading data\n",
    "pheno <- read.csv(\"./2017heteroPheno.csv\", header=T)\n",
    "attach(pheno)"
   ]
  },
  {
   "cell_type": "markdown",
   "metadata": {},
   "source": [
    "## General statistics"
   ]
  },
  {
   "cell_type": "code",
   "execution_count": 2,
   "metadata": {},
   "outputs": [
    {
     "data": {
      "text/html": [
       "<table>\n",
       "<thead><tr><th></th><th scope=col>mean</th><th scope=col>sd</th></tr></thead>\n",
       "<tbody>\n",
       "\t<tr><th scope=row>bcw</th><td>15.85417</td><td>9.165128</td></tr>\n",
       "\t<tr><th scope=row>length</th><td>9.832917</td><td>0.779899</td></tr>\n",
       "</tbody>\n",
       "</table>\n"
      ],
      "text/latex": [
       "\\begin{tabular}{r|ll}\n",
       "  & mean & sd\\\\\n",
       "\\hline\n",
       "\tbcw & 15.85417 & 9.165128\\\\\n",
       "\tlength & 9.832917 & 0.779899\\\\\n",
       "\\end{tabular}\n"
      ],
      "text/markdown": [
       "\n",
       "| <!--/--> | mean | sd | \n",
       "|---|---|\n",
       "| bcw | 15.85417 | 9.165128 | \n",
       "| length | 9.832917 | 0.779899 | \n",
       "\n",
       "\n"
      ],
      "text/plain": [
       "       mean     sd      \n",
       "bcw    15.85417 9.165128\n",
       "length 9.832917 0.779899"
      ]
     },
     "metadata": {},
     "output_type": "display_data"
    }
   ],
   "source": [
    "meanSD <- data.frame(bcw,length)\n",
    "as.data.frame( t(sapply(meanSD, function(cl) \n",
    "list(mean=mean(cl,na.rm=TRUE),sd=sd(cl,na.rm=TRUE)))))"
   ]
  },
  {
   "cell_type": "code",
   "execution_count": 3,
   "metadata": {},
   "outputs": [
    {
     "name": "stdout",
     "output_type": "stream",
     "text": [
      "[1] \"phenotypic correlation 0.162936985198588\"\n"
     ]
    }
   ],
   "source": [
    "print(paste(\"phenotypic correlation\",cor(bcw,length)))"
   ]
  },
  {
   "cell_type": "markdown",
   "metadata": {},
   "source": [
    "##  Histogram"
   ]
  },
  {
   "cell_type": "code",
   "execution_count": 14,
   "metadata": {},
   "outputs": [],
   "source": [
    "# H. okamotoi count \n",
    "library(\"extrafont\")\n",
    "library(ggplot2)\n",
    "options(repr.plot.width=8, repr.plot.height=6)\n",
    "p<-ggplot(pheno, aes(x=bcw))+\n",
    "  geom_histogram(color=\"black\",fill=\"skyblue\", binwidth=1)+\n",
    "  labs(x=\"Number of parasites on the fugu branchial cavity\", y=\"Number of fugu individuals\")+\n",
    "  theme(axis.text.y=element_text(size=10),\n",
    "        text=element_text(size=10, family=\"serif\"))"
   ]
  },
  {
   "cell_type": "code",
   "execution_count": 15,
   "metadata": {},
   "outputs": [],
   "source": [
    "# Transformed data\n",
    "p1<-ggplot(pheno, aes(x=sqrt(bcw+1)))+\n",
    "  geom_histogram(color=\"black\", fill=\"skyblue\", binwidth=0.1)+\n",
    "  labs(x=\"Transformed number of parasites on the fugu branchial cavity\",y=\"Number of fugu individuals\")+\n",
    "  theme(axis.text.y=element_text(size=10),\n",
    "        text=element_text(size=10, family=\"serif\"))"
   ]
  },
  {
   "cell_type": "code",
   "execution_count": 16,
   "metadata": {},
   "outputs": [],
   "source": [
    "library(\"ggpubr\")"
   ]
  },
  {
   "cell_type": "code",
   "execution_count": 17,
   "metadata": {},
   "outputs": [],
   "source": [
    "figure <- ggarrange(p, p1,\n",
    "                    labels = c(\"a\", \"b\"),\n",
    "                    ncol = 1, nrow = 2)"
   ]
  },
  {
   "cell_type": "code",
   "execution_count": 18,
   "metadata": {},
   "outputs": [
    {
     "data": {},
     "metadata": {},
     "output_type": "display_data"
    },
    {
     "data": {
      "text/html": [
       "<strong>png:</strong> 2"
      ],
      "text/latex": [
       "\\textbf{png:} 2"
      ],
      "text/markdown": [
       "**png:** 2"
      ],
      "text/plain": [
       "png \n",
       "  2 "
      ]
     },
     "metadata": {},
     "output_type": "display_data"
    }
   ],
   "source": [
    "png(\"1.1.png\", width=8, height=6, units=\"in\", res=300)\n",
    "figure\n",
    "dev.off()"
   ]
  },
  {
   "cell_type": "code",
   "execution_count": 19,
   "metadata": {},
   "outputs": [
    {
     "data": {},
     "metadata": {},
     "output_type": "display_data"
    },
    {
     "data": {
      "image/png": "[encoded data removed]",
      "text/plain": [
       "plot without title"
      ]
     },
     "metadata": {},
     "output_type": "display_data"
    }
   ],
   "source": [
    "figure"
   ]
  },
  {
   "cell_type": "markdown",
   "metadata": {},
   "source": [
    "## Shapiro-Wilk normality test"
   ]
  },
  {
   "cell_type": "code",
   "execution_count": 32,
   "metadata": {},
   "outputs": [
    {
     "data": {
      "text/plain": [
       "\n",
       "\tShapiro-Wilk normality test\n",
       "\n",
       "data:  bcw\n",
       "W = 0.9607, p-value = 3.788e-06\n"
      ]
     },
     "metadata": {},
     "output_type": "display_data"
    },
    {
     "data": {
      "text/plain": [
       "\n",
       "\tShapiro-Wilk normality test\n",
       "\n",
       "data:  sqrt(bcw + 1)\n",
       "W = 0.99367, p-value = 0.4056\n"
      ]
     },
     "metadata": {},
     "output_type": "display_data"
    }
   ],
   "source": [
    "shapiro.test(bcw)\n",
    "shapiro.test(sqrt(bcw+1))"
   ]
  }
 ],
 "metadata": {
  "kernelspec": {
   "display_name": "R",
   "language": "R",
   "name": "ir"
  },
  "language_info": {
   "codemirror_mode": "r",
   "file_extension": ".r",
   "mimetype": "text/x-r-source",
   "name": "R",
   "pygments_lexer": "r",
   "version": "3.5.1"
  }
 },
 "nbformat": 4,
 "nbformat_minor": 2
}
