{
 "cells": [
  {
   "cell_type": "code",
   "execution_count": 1,
   "metadata": {},
   "outputs": [
    {
     "data": {
      "text/html": [
       "'windows'"
      ],
      "text/latex": [
       "'windows'"
      ],
      "text/markdown": [
       "'windows'"
      ],
      "text/plain": [
       "[1] \"windows\""
      ]
     },
     "metadata": {},
     "output_type": "display_data"
    },
    {
     "data": {
      "text/html": [
       "'R version 3.5.1 (2018-07-02)'"
      ],
      "text/latex": [
       "'R version 3.5.1 (2018-07-02)'"
      ],
      "text/markdown": [
       "'R version 3.5.1 (2018-07-02)'"
      ],
      "text/plain": [
       "[1] \"R version 3.5.1 (2018-07-02)\""
      ]
     },
     "metadata": {},
     "output_type": "display_data"
    },
    {
     "data": {
      "text/html": [
       "'Intel(R) Core(TM) i7-7700HQ CPU @ 2.80GHz'"
      ],
      "text/latex": [
       "'Intel(R) Core(TM) i7-7700HQ CPU @ 2.80GHz'"
      ],
      "text/markdown": [
       "'Intel(R) Core(TM) i7-7700HQ CPU @ 2.80GHz'"
      ],
      "text/plain": [
       "[1] \"Intel(R) Core(TM) i7-7700HQ CPU @ 2.80GHz\""
      ]
     },
     "metadata": {},
     "output_type": "display_data"
    },
    {
     "data": {
      "text/html": [
       "8"
      ],
      "text/latex": [
       "8"
      ],
      "text/markdown": [
       "8"
      ],
      "text/plain": [
       "[1] 8"
      ]
     },
     "metadata": {},
     "output_type": "display_data"
    },
    {
     "data": {
      "text/plain": [
       "8.59 GB"
      ]
     },
     "metadata": {},
     "output_type": "display_data"
    }
   ],
   "source": [
    "library(benchmarkme)\n",
    "get_platform_info()$OS.type\n",
    "get_r_version()$version.string\n",
    "get_cpu()$model_name;get_cpu()$no_of_cores\n",
    "get_ram()"
   ]
  },
  {
   "cell_type": "code",
   "execution_count": 75,
   "metadata": {
    "scrolled": true
   },
   "outputs": [
    {
     "name": "stderr",
     "output_type": "stream",
     "text": [
      "Downloading GitHub repo gglinzijie/xbreed@master\n",
      "from URL https://api.github.com/repos/gglinzijie/xbreed/zipball/master\n",
      "Installing xbreed\n",
      "\"C:/programming_language/R/bin/x64/R\" --no-site-file --no-environ --no-save  \\\n",
      "  --no-restore --quiet CMD INSTALL  \\\n",
      "  \"C:/Users/lin/AppData/Local/Temp/RtmpMLzQof/devtools2c303e127152/gglinzijie-xbreed-f27c408\"  \\\n",
      "  --library=\"C:/programming_language/r/library\" --install-tests \n",
      "\n",
      "Reloading installed xbreed\n",
      "(\"|-----------------------------------------------------|\")\n",
      "(\"|                      xbreed                         |\")\n",
      "(\"|    Genomic simulation of purebreds and crossbreds   |\")\n",
      "(\"|               March 2017 Version 1.0.1              |\")\n",
      "(\"|                                                     |\")\n",
      "(\"|             H.Esfandyari,A.C.Sorensen               |\")\n",
      "(\"| Center for Quantitative Qenetics and Genomics (QGG) |\")\n",
      "(\"|             Aarhus University,Denmark               |\")\n",
      "(\"|                                                     |\")\n",
      "(\"|-----------------------------------------------------|\")\n",
      "(\"|Questions and bugs: esfandyari.hadi@gmail.com        |\")\n",
      "(\"|Development of xbreed was supported by GenSAP.       |\")\n",
      "(\"|-----------------------------------------------------|\")\n"
     ]
    }
   ],
   "source": [
    "library(\"devtools\")\n",
    "install_github(\"gglinzijie/xbreed\",force=TRUE)"
   ]
  },
  {
   "cell_type": "code",
   "execution_count": 76,
   "metadata": {
    "scrolled": true
   },
   "outputs": [],
   "source": [
    "library(\"xbreed\")"
   ]
  },
  {
   "cell_type": "markdown",
   "metadata": {},
   "source": [
    "# Genome specification"
   ]
  },
  {
   "cell_type": "code",
   "execution_count": 3,
   "metadata": {},
   "outputs": [
    {
     "data": {
      "text/html": [
       "3928"
      ],
      "text/latex": [
       "3928"
      ],
      "text/markdown": [
       "3928"
      ],
      "text/plain": [
       "[1] 3928"
      ]
     },
     "metadata": {},
     "output_type": "display_data"
    }
   ],
   "source": [
    "#Number of markers per chr from chapter 1\n",
    "lin_map<-read.table(\"raw.map\")\n",
    "m=1:22\n",
    "for(i in 1:22) {m[i]=dim(lin_map[lin_map$V1==i,])[1]}\n",
    "sum(m)"
   ]
  },
  {
   "cell_type": "code",
   "execution_count": 4,
   "metadata": {},
   "outputs": [],
   "source": [
    "#data from chaptre 1\n",
    "geno<-read.table(\"Hetero_realigned_cov10_filtered3.raw\")\n",
    "pheno<-read.csv(\"2017heteroPheno.csv\", header=T)\n",
    "attach(pheno)"
   ]
  },
  {
   "cell_type": "code",
   "execution_count": 5,
   "metadata": {},
   "outputs": [],
   "source": [
    "#parameter of genome\n",
    "no.chr<-22\n",
    "genome<-data.frame(matrix(NA, nrow=no.chr, ncol=6))\n",
    "names(genome)<-c(\"chr\",\"len\",\"nmrk\",\"mpos\",\"nqtl\",\"qpos\")\n",
    "genome$chr<-c(1:no.chr) #Chromosome id from 1 to 22\n",
    "genome$len<-c(200,rep(100,21))#Chromosome length in cM\n",
    "genome$nmrk<-c(m) #Number of markers, 3928 in total \n",
    "genome$mpos<-c('even') \n",
    "genome$nqtl<-c(40) #Number of qtl  40*22 = 880 in total\n",
    "genome$qpos<-c('rnd')"
   ]
  },
  {
   "cell_type": "markdown",
   "metadata": {},
   "source": [
    "# Historiacal population (additive and dominance)"
   ]
  },
  {
   "cell_type": "code",
   "execution_count": 6,
   "metadata": {},
   "outputs": [
    {
     "name": "stdout",
     "output_type": "stream",
     "text": [
      "---sel_seq_qtl is missing, it has been set to default value of 0\n",
      "---sel_seq_mrk is missing, it has been set to default value of 0\n",
      "Historical pop is initialized...\n",
      "Simulating trait ...\n",
      "Output data preparation ...\n",
      "Establishment of historical population completed\n"
     ]
    }
   ],
   "source": [
    "# Historical population \n",
    "hp<-make_hp(hpsize=1000 ,ng=5000,h2=0.654,phen_var=84,\n",
    "            genome=genome,mutr=2.5*10**-4,laf=1)"
   ]
  },
  {
   "cell_type": "code",
   "execution_count": 7,
   "metadata": {},
   "outputs": [
    {
     "data": {
      "text/html": [
       "0.5"
      ],
      "text/latex": [
       "0.5"
      ],
      "text/markdown": [
       "0.5"
      ],
      "text/plain": [
       "[1] 0.5"
      ]
     },
     "metadata": {},
     "output_type": "display_data"
    },
    {
     "data": {
      "text/html": [
       "0.333333333333333"
      ],
      "text/latex": [
       "0.333333333333333"
      ],
      "text/markdown": [
       "0.333333333333333"
      ],
      "text/plain": [
       "[1] 0.3333333"
      ]
     },
     "metadata": {},
     "output_type": "display_data"
    },
    {
     "data": {
      "text/html": [
       "0.399899753599068"
      ],
      "text/latex": [
       "0.399899753599068"
      ],
      "text/markdown": [
       "0.399899753599068"
      ],
      "text/plain": [
       "[1] 0.3998998"
      ]
     },
     "metadata": {},
     "output_type": "display_data"
    }
   ],
   "source": [
    "# Expected Heterozygosity according to (Kimura and Crow 1964) \n",
    "mutr<-2.5*10**-4\n",
    "ne<-1000 \n",
    "k<-2 \n",
    "Fneu<-4*ne*mutr \n",
    "(Expected_het1<-Fneu/(1+Fneu))\n",
    "(Expected_het2<-1-((1+((Fneu)/(k-1)))/(1+((Fneu*k)/(k-1)))))\n",
    "(het_observed<-mean(2*(hp$freqMrk[,3]*hp$freqMrk[,4])))"
   ]
  },
  {
   "cell_type": "code",
   "execution_count": 77,
   "metadata": {},
   "outputs": [],
   "source": [
    "Male_founders<-data.frame(number=10,select='rnd')\n",
    "Female_founders<-data.frame(number=10,select='rnd')"
   ]
  },
  {
   "cell_type": "code",
   "execution_count": 78,
   "metadata": {},
   "outputs": [],
   "source": [
    "Selection<-data.frame(matrix(NA, nrow=2, ncol=3))\n",
    "names(Selection)<-c('Number','type','Value') \n",
    "Selection$Number[1:2]<-c(10,10)\n",
    "Selection$type[1:2]<-c('gebv','gebv')\n",
    "Selection$Value[1:2]<-c('l','l')"
   ]
  },
  {
   "cell_type": "code",
   "execution_count": 79,
   "metadata": {},
   "outputs": [],
   "source": [
    "# Training parameters\n",
    "Training<-data.frame(matrix(NA, nrow=1, ncol=3))\n",
    "names(Training)<-c('size','sel','method')\n",
    "Training$size<-250\n",
    "Training$sel<-'rnd'\n",
    "Training$method<-'BayesC'"
   ]
  },
  {
   "cell_type": "code",
   "execution_count": 80,
   "metadata": {},
   "outputs": [],
   "source": [
    "sh_output<-data.frame(matrix(NA, nrow=2, ncol=1))\n",
    "names(sh_output)<-c(\"data\")\n",
    "sh_output[,1]<-c(seq(0,1))"
   ]
  },
  {
   "cell_type": "code",
   "execution_count": 101,
   "metadata": {
    "scrolled": true
   },
   "outputs": [
    {
     "name": "stdout",
     "output_type": "stream",
     "text": [
      "Controlling input data ...\n",
      "Intializing base population ...\n",
      "Generation 0 started ......... \n",
      "Generation 0 is finished. Time taken: 12.66722\n",
      "Generation 1 started ......... \n",
      "Generation 1 is finished. Time taken: 13.27656\n",
      "Generation 2 started ......... \n",
      "Generation 2 is finished. Time taken: 14.24483\n",
      "Generation 3 started ......... \n",
      "Generation 3 is finished. Time taken: 13.61957\n",
      "Generation 4 started ......... \n",
      "Generation 4 is finished. Time taken: 13.65703\n",
      "Output data preparation ...\n",
      "Writing output files ...\n",
      "Sampling hp is done!\n"
     ]
    }
   ],
   "source": [
    "#10 sires and 10 dams perform complete cross; 100 combination of mating and each has 10 litters. 1000 intotal\n",
    "RP10A<-sample_hp(hp_out=hp,Male_founders= Male_founders,\n",
    "              Female_founders=Female_founders,ng=4,Selection=Selection,Training=Training,\n",
    "              litter_size=10,saveAt=\"SNP3928\",sh_output=sh_output,Display=FALSE)"
   ]
  },
  {
   "cell_type": "code",
   "execution_count": 109,
   "metadata": {
    "scrolled": true
   },
   "outputs": [],
   "source": [
    "Males<-data.frame(number=10,generation=1,select='gebv',value='l')\n",
    "Females<-data.frame(number=10,generation=0,select='gebv',value='l')\n",
    "Selection<-data.frame(matrix(NA, nrow=2, ncol=3))\n",
    "names(Selection)<-c('Number','type','Value')\n",
    "Selection$Number[1:2]<-c(10,10)\n",
    "Selection$type[1:2]<-c('gebv','gebv')\n",
    "Selection$Value[1:2]<-c('l','l')\n",
    "# Training parameters\n",
    "Training<-data.frame(matrix(NA, nrow=1, ncol=8))\n",
    "names(Training)<-c('size','sel','method','nIter','burnIn','thin','save','show')\n",
    "Training$size<-250\n",
    "Training$sel<-'rnd'\n",
    "Training$method<-'BayesC'\n",
    "Training$nIter<-2000\n",
    "Training$burnIn<-1000 \n",
    "Training$thin<-5 \n",
    "Training$save<-'bayes'\n",
    "Training$show<-FALSE\n",
    "# Save all data for the last two generations of RP2\n",
    "rp2_output<-data.frame(matrix(NA, nrow=1, ncol=6))\n",
    "names(rp2_output)<-c('data','qtl','marker','seq','freq_qtl','freq_mrk')\n",
    "rp2_output[,1]<-c(1)\n",
    "rp2_output[,2]<-c(1)\n",
    "rp2_output[,3]<-c(1)\n",
    "rp2_output[,4]<-c(1)\n",
    "rp2_output[,5]<-c(1)\n",
    "rp2_output[,6]<-c(1)"
   ]
  },
  {
   "cell_type": "code",
   "execution_count": 83,
   "metadata": {},
   "outputs": [
    {
     "name": "stdout",
     "output_type": "stream",
     "text": [
      "Controlling input data ...\n",
      "Intializing base population ...\n",
      "Generation 0 started ........ \n",
      "Generation 0 is finished. Time taken: 15.72487\n",
      "Generation 1 started ........ \n",
      "Generation 1 is finished. Time taken: 13.91298\n",
      "Output data preparation ...\n",
      "  Generation Phenotype   TrueBV     GEBV M_accuracy F_accuracy heritability\n",
      "1          1   15.8245 15.87456 -11.8234  0.7611253  0.6970058    0.5446421\n",
      "Writing output files ...\n",
      "Making RP is done!\n"
     ]
    }
   ],
   "source": [
    "RP10A_F_Back<-make_rp(sh_out=RP10A,sh_out2=RP10A,Male_founders=Males,\n",
    "Female_founders=Females,Selection=Selection,\n",
    "ng=1,litter_size=10,saveAt='RP2',Training=Training,\n",
    "rp_output=rp2_output)"
   ]
  },
  {
   "cell_type": "code",
   "execution_count": 87,
   "metadata": {},
   "outputs": [],
   "source": [
    "Males<-data.frame(number=10,generation=1,select='gebv',value='l')\n",
    "Females<-data.frame(number=10,generation=1,select='gebv',value='l')"
   ]
  },
  {
   "cell_type": "code",
   "execution_count": 88,
   "metadata": {},
   "outputs": [
    {
     "name": "stdout",
     "output_type": "stream",
     "text": [
      "Controlling input data ...\n",
      "Intializing base population ...\n",
      "Generation 0 started ........ \n",
      "Generation 0 is finished. Time taken: 13.32342\n",
      "Generation 1 started ........ \n",
      "Generation 1 is finished. Time taken: 13.99888\n",
      "Output data preparation ...\n",
      "  Generation Phenotype  TrueBV      GEBV M_accuracy F_accuracy heritability\n",
      "1          1   6.30023 6.14264 -5.628635   0.606259  0.6317538    0.5350965\n",
      "Writing output files ...\n",
      "Making RP is done!\n"
     ]
    }
   ],
   "source": [
    "RP3<-make_rp(sh_out=RP10A_F_Back,sh_out2=RP10A,Male_founders=Males,\n",
    "Female_founders=Females,Selection=Selection,\n",
    "ng=1,litter_size=10,saveAt='RP2',Training=Training,\n",
    "rp_output=rp2_output)"
   ]
  },
  {
   "cell_type": "code",
   "execution_count": 95,
   "metadata": {},
   "outputs": [],
   "source": [
    "Males<-data.frame(number=10,generation=2,select='gebv',value='l')\n",
    "Females<-data.frame(number=10,generation=1,select='gebv',value='l')"
   ]
  },
  {
   "cell_type": "code",
   "execution_count": 96,
   "metadata": {},
   "outputs": [
    {
     "name": "stdout",
     "output_type": "stream",
     "text": [
      "Controlling input data ...\n",
      "Intializing base population ...\n",
      "Generation 0 started ........ \n",
      "Generation 0 is finished. Time taken: 12.74297\n",
      "Generation 1 started ........ \n",
      "Generation 1 is finished. Time taken: 13.38585\n",
      "Output data preparation ...\n",
      "  Generation Phenotype   TrueBV      GEBV M_accuracy F_accuracy heritability\n",
      "1          1  2.703135 2.916221 -3.489849  0.6087719  0.5538607    0.5540705\n",
      "Writing output files ...\n",
      "Making RP is done!\n"
     ]
    }
   ],
   "source": [
    "RP4<-make_rp(sh_out=RP10A,sh_out2=RP10A_F_Back,Male_founders=Males,\n",
    "Female_founders=Females,Selection=Selection,\n",
    "ng=1,litter_size=10,saveAt='RP2',Training=Training,\n",
    "rp_output=rp2_output)"
   ]
  },
  {
   "cell_type": "code",
   "execution_count": 92,
   "metadata": {},
   "outputs": [],
   "source": [
    "Males<-data.frame(number=10,generation=1,select='gebv',value='l')\n",
    "Females<-data.frame(number=10,generation=2,select='gebv',value='l')"
   ]
  },
  {
   "cell_type": "code",
   "execution_count": 93,
   "metadata": {},
   "outputs": [
    {
     "name": "stdout",
     "output_type": "stream",
     "text": [
      "Controlling input data ...\n",
      "Intializing base population ...\n",
      "Generation 0 started ........ \n",
      "Generation 0 is finished. Time taken: 12.79031\n",
      "Generation 1 started ........ \n",
      "Generation 1 is finished. Time taken: 13.41175\n",
      "Output data preparation ...\n",
      "  Generation Phenotype    TrueBV      GEBV M_accuracy F_accuracy heritability\n",
      "1          1 -2.598469 -2.444179 -1.742428  0.6857655  0.6838299     0.562832\n",
      "Writing output files ...\n",
      "Making RP is done!\n"
     ]
    }
   ],
   "source": [
    "RP5<-make_rp(sh_out=RP3,sh_out2=RP10A,Male_founders=Males,\n",
    "Female_founders=Females,Selection=Selection,\n",
    "ng=1,litter_size=10,saveAt='RP2',Training=Training,\n",
    "rp_output=rp2_output)"
   ]
  },
  {
   "cell_type": "code",
   "execution_count": 98,
   "metadata": {},
   "outputs": [],
   "source": [
    "Males<-data.frame(number=10,generation=1,select='gebv',value='l')\n",
    "Females<-data.frame(number=10,generation=1,select='gebv',value='l')"
   ]
  },
  {
   "cell_type": "code",
   "execution_count": 103,
   "metadata": {},
   "outputs": [
    {
     "name": "stdout",
     "output_type": "stream",
     "text": [
      "Controlling input data ...\n",
      "Intializing base population ...\n",
      "Generation 0 started ........ \n",
      "Generation 0 is finished. Time taken: 14.03495\n",
      "Generation 1 started ........ \n",
      "Generation 1 is finished. Time taken: 13.77174\n",
      "Output data preparation ...\n",
      "  Generation Phenotype    TrueBV     GEBV M_accuracy F_accuracy heritability\n",
      "1          1  -3.47349 -3.458598 7.467136   0.564066  0.6041563     0.547011\n",
      "Writing output files ...\n",
      "Making RP is done!\n"
     ]
    }
   ],
   "source": [
    "RP6<-make_rp(sh_out=RP4,sh_out2=RP3,Male_founders=Males,\n",
    "Female_founders=Females,Selection=Selection,\n",
    "ng=1,litter_size=10,saveAt='RP2',Training=Training,\n",
    "rp_output=rp2_output)"
   ]
  },
  {
   "cell_type": "code",
   "execution_count": 105,
   "metadata": {},
   "outputs": [
    {
     "name": "stdout",
     "output_type": "stream",
     "text": [
      "Controlling input data ...\n",
      "Intializing base population ...\n",
      "Generation 0 started ........ \n",
      "Generation 0 is finished. Time taken: 14.67965\n",
      "Generation 1 started ........ \n",
      "Generation 1 is finished. Time taken: 14.37391\n",
      "Output data preparation ...\n",
      "  Generation Phenotype    TrueBV      GEBV M_accuracy F_accuracy heritability\n",
      "1          1 -8.243022 -8.207985 -3.953334  0.6961209  0.6556074    0.5717341\n",
      "Writing output files ...\n",
      "Making RP is done!\n"
     ]
    }
   ],
   "source": [
    "RP7<-make_rp(sh_out=RP5,sh_out2=RP4,Male_founders=Males,\n",
    "Female_founders=Females,Selection=Selection,\n",
    "ng=1,litter_size=10,saveAt='RP2',Training=Training,\n",
    "rp_output=rp2_output)"
   ]
  },
  {
   "cell_type": "code",
   "execution_count": 107,
   "metadata": {},
   "outputs": [
    {
     "name": "stdout",
     "output_type": "stream",
     "text": [
      "Controlling input data ...\n",
      "Intializing base population ...\n",
      "Generation 0 started ........ \n",
      "Generation 0 is finished. Time taken: 14.68871\n",
      "Generation 1 started ........ \n",
      "Generation 1 is finished. Time taken: 13.1736\n",
      "Output data preparation ...\n",
      "  Generation Phenotype    TrueBV      GEBV M_accuracy F_accuracy heritability\n",
      "1          1 -12.15729 -11.96275 -16.21501  0.6211454  0.6705304    0.5198144\n",
      "Writing output files ...\n",
      "Making RP is done!\n"
     ]
    }
   ],
   "source": [
    "RP8<-make_rp(sh_out=RP6,sh_out2=RP5,Male_founders=Males,\n",
    "Female_founders=Females,Selection=Selection,\n",
    "ng=1,litter_size=10,saveAt='RP2',Training=Training,\n",
    "rp_output=rp2_output)"
   ]
  },
  {
   "cell_type": "code",
   "execution_count": 110,
   "metadata": {},
   "outputs": [],
   "source": [
    "# Function for calculating the allele coding, which is 0, 1, 2\n",
    "bin_snp<-function(mat){\n",
    "s1<-seq(1,ncol(mat),2)\n",
    "s2<-seq(2,ncol(mat),2)\n",
    "a1<-mat[,s1]+mat[,s2]\n",
    "a1[a1==3]=1\n",
    "a1[a1==4]=0\n",
    "snp_code<-a1\n",
    "return(snp_code)\n",
    " }"
   ]
  },
  {
   "cell_type": "code",
   "execution_count": 124,
   "metadata": {},
   "outputs": [],
   "source": [
    "hete<-list()\n",
    "MAF<-list()\n",
    "for (i in seq(1,4,1)){\n",
    "n<-bin_snp(RP10A$output[[i+1]]$mrk[,3:7858])\n",
    "hete[i]<-sum(n==1)/(dim(n)[1]*dim(n)[2])\n",
    "MAF[i]<-sum(n==0)/(dim(n)[1]*dim(n)[2])   \n",
    "}"
   ]
  },
  {
   "cell_type": "code",
   "execution_count": 129,
   "metadata": {},
   "outputs": [],
   "source": [
    "gain<-list()\n",
    "gain[1]<-0\n",
    "for (i in seq(1,3,1)){\n",
    "gain[i+1]<-abs(RP10A$summary_data$TrueBV[i+1]-RP10A$summary_data$TrueBV[1])\n",
    "}  "
   ]
  },
  {
   "cell_type": "code",
   "execution_count": 150,
   "metadata": {},
   "outputs": [],
   "source": [
    "hete2<-list()\n",
    "chete2<-function(RP,i){\n",
    "n<-bin_snp(RP$output[[i+1]]$mrk[,3:7858])\n",
    "return(sum(n==1)/(dim(n)[1]*dim(n)[2]))}\n",
    "hete2[1]<-chete2(RP10A,1)\n",
    "hete2[2]<-chete2(RP10A_F_Back,1)\n",
    "hete2[3]<-chete2(RP10A,2)\n",
    "hete2[4]<-chete2(RP3,1)\n",
    "hete2[5]<-chete2(RP4,1)\n",
    "hete2[6]<-chete2(RP5,1)\n",
    "hete2[7]<-chete2(RP6,1)\n",
    "hete2[8]<-chete2(RP7,1)\n",
    "hete2[9]<-chete2(RP8,1)"
   ]
  },
  {
   "cell_type": "code",
   "execution_count": 154,
   "metadata": {},
   "outputs": [],
   "source": [
    "MAF2<-list()\n",
    "cMAF2<-function(RP,i){\n",
    "n<-bin_snp(RP$output[[i+1]]$mrk[,3:7858])\n",
    "return(sum(n==0)/(dim(n)[1]*dim(n)[2]))}\n",
    "MAF2[1]<-cMAF2(RP10A,1)\n",
    "MAF2[2]<-cMAF2(RP10A_F_Back,1)\n",
    "MAF2[3]<-cMAF2(RP10A,2)\n",
    "MAF2[4]<-cMAF2(RP3,1)\n",
    "MAF2[5]<-cMAF2(RP4,1)\n",
    "MAF2[6]<-cMAF2(RP5,1)\n",
    "MAF2[7]<-cMAF2(RP6,1)\n",
    "MAF2[8]<-cMAF2(RP7,1)\n",
    "MAF2[9]<-cMAF2(RP8,1)"
   ]
  },
  {
   "cell_type": "code",
   "execution_count": 180,
   "metadata": {},
   "outputs": [],
   "source": [
    "year<-as.numeric(c(0,3,6,9))\n",
    "year2<-as.numeric(c(0,2,3,4,5,6,7,8,9))"
   ]
  },
  {
   "cell_type": "code",
   "execution_count": 183,
   "metadata": {},
   "outputs": [],
   "source": [
    "m<-rbind(RP10A$summary_data[1,],RP10A_F_Back$summary_data,RP10A$summary_data[2,],\n",
    "         RP3$summary_data,RP4$summary_data,RP5$summary_data,RP6$summary_data,\n",
    "         RP7$summary_data,RP8$summary_data)\n",
    "gain2<-list()\n",
    "gain2[1]<-0\n",
    "for (i in seq(1,8,1)){\n",
    "gain2[i+1]<-abs(m$TrueBV[i+1]-m$TrueBV[1])}"
   ]
  },
  {
   "cell_type": "code",
   "execution_count": 182,
   "metadata": {},
   "outputs": [
    {
     "data": {
      "text/html": [
       "<table>\n",
       "<thead><tr><th scope=col>Generation</th><th scope=col>Phenotype</th><th scope=col>TrueBV</th><th scope=col>GEBV</th><th scope=col>M_accuracy</th><th scope=col>F_accuracy</th><th scope=col>heritability</th><th scope=col>unlist(hete)</th><th scope=col>unlist(MAF)</th><th scope=col>unlist(gain)</th><th scope=col>year</th></tr></thead>\n",
       "<tbody>\n",
       "\t<tr><td>1         </td><td>21.143288 </td><td>21.030303 </td><td>-6.2299255</td><td>0.6958713 </td><td>0.7066922 </td><td>0.6165562 </td><td>0.3992749 </td><td>0.2594560 </td><td> 0.000000 </td><td>0         </td></tr>\n",
       "\t<tr><td>2         </td><td>11.618931 </td><td>11.633942 </td><td> 0.1657685</td><td>0.6566293 </td><td>0.6886812 </td><td>0.5531086 </td><td>0.3387839 </td><td>0.2882245 </td><td> 9.396361 </td><td>3         </td></tr>\n",
       "\t<tr><td>3         </td><td> 1.477465 </td><td> 1.476638 </td><td>-5.2141693</td><td>0.6494163 </td><td>0.6188069 </td><td>0.4598107 </td><td>0.2972207 </td><td>0.3109799 </td><td>19.553665 </td><td>6         </td></tr>\n",
       "\t<tr><td>4         </td><td>-4.247442 </td><td>-4.461889 </td><td>-7.2064059</td><td>0.6189117 </td><td>0.6550834 </td><td>0.4785497 </td><td>0.2623386 </td><td>0.3296690 </td><td>25.492192 </td><td>9         </td></tr>\n",
       "</tbody>\n",
       "</table>\n"
      ],
      "text/latex": [
       "\\begin{tabular}{r|lllllllllll}\n",
       " Generation & Phenotype & TrueBV & GEBV & M\\_accuracy & F\\_accuracy & heritability & unlist(hete) & unlist(MAF) & unlist(gain) & year\\\\\n",
       "\\hline\n",
       "\t 1          & 21.143288  & 21.030303  & -6.2299255 & 0.6958713  & 0.7066922  & 0.6165562  & 0.3992749  & 0.2594560  &  0.000000  & 0         \\\\\n",
       "\t 2          & 11.618931  & 11.633942  &  0.1657685 & 0.6566293  & 0.6886812  & 0.5531086  & 0.3387839  & 0.2882245  &  9.396361  & 3         \\\\\n",
       "\t 3          &  1.477465  &  1.476638  & -5.2141693 & 0.6494163  & 0.6188069  & 0.4598107  & 0.2972207  & 0.3109799  & 19.553665  & 6         \\\\\n",
       "\t 4          & -4.247442  & -4.461889  & -7.2064059 & 0.6189117  & 0.6550834  & 0.4785497  & 0.2623386  & 0.3296690  & 25.492192  & 9         \\\\\n",
       "\\end{tabular}\n"
      ],
      "text/markdown": [
       "\n",
       "Generation | Phenotype | TrueBV | GEBV | M_accuracy | F_accuracy | heritability | unlist(hete) | unlist(MAF) | unlist(gain) | year | \n",
       "|---|---|---|---|\n",
       "| 1          | 21.143288  | 21.030303  | -6.2299255 | 0.6958713  | 0.7066922  | 0.6165562  | 0.3992749  | 0.2594560  |  0.000000  | 0          | \n",
       "| 2          | 11.618931  | 11.633942  |  0.1657685 | 0.6566293  | 0.6886812  | 0.5531086  | 0.3387839  | 0.2882245  |  9.396361  | 3          | \n",
       "| 3          |  1.477465  |  1.476638  | -5.2141693 | 0.6494163  | 0.6188069  | 0.4598107  | 0.2972207  | 0.3109799  | 19.553665  | 6          | \n",
       "| 4          | -4.247442  | -4.461889  | -7.2064059 | 0.6189117  | 0.6550834  | 0.4785497  | 0.2623386  | 0.3296690  | 25.492192  | 9          | \n",
       "\n",
       "\n"
      ],
      "text/plain": [
       "  Generation Phenotype TrueBV    GEBV       M_accuracy F_accuracy heritability\n",
       "1 1          21.143288 21.030303 -6.2299255 0.6958713  0.7066922  0.6165562   \n",
       "2 2          11.618931 11.633942  0.1657685 0.6566293  0.6886812  0.5531086   \n",
       "3 3           1.477465  1.476638 -5.2141693 0.6494163  0.6188069  0.4598107   \n",
       "4 4          -4.247442 -4.461889 -7.2064059 0.6189117  0.6550834  0.4785497   \n",
       "  unlist(hete) unlist(MAF) unlist(gain) year\n",
       "1 0.3992749    0.2594560    0.000000    0   \n",
       "2 0.3387839    0.2882245    9.396361    3   \n",
       "3 0.2972207    0.3109799   19.553665    6   \n",
       "4 0.2623386    0.3296690   25.492192    9   "
      ]
     },
     "metadata": {},
     "output_type": "display_data"
    }
   ],
   "source": [
    "(y12<-cbind(RP10A$summary_data,unlist(hete),unlist(MAF),unlist(gain),year))"
   ]
  },
  {
   "cell_type": "code",
   "execution_count": 184,
   "metadata": {},
   "outputs": [
    {
     "data": {
      "text/html": [
       "<table>\n",
       "<thead><tr><th></th><th scope=col>Generation</th><th scope=col>Phenotype</th><th scope=col>TrueBV</th><th scope=col>GEBV</th><th scope=col>M_accuracy</th><th scope=col>F_accuracy</th><th scope=col>heritability</th><th scope=col>unlist(hete2)</th><th scope=col>unlist(MAF2)</th><th scope=col>unlist(gain2)</th><th scope=col>year2</th></tr></thead>\n",
       "<tbody>\n",
       "\t<tr><th scope=row>1</th><td>1          </td><td> 21.143288 </td><td> 21.030303 </td><td> -6.2299255</td><td>0.6958713  </td><td>0.7066922  </td><td>0.6165562  </td><td>0.3992749  </td><td>0.2594560  </td><td> 0.000000  </td><td>0          </td></tr>\n",
       "\t<tr><th scope=row>2</th><td>1          </td><td> 15.824504 </td><td> 15.874556 </td><td>-11.8234004</td><td>0.7611253  </td><td>0.6970058  </td><td>0.5446421  </td><td>0.3866482  </td><td>0.2672230  </td><td> 5.155747  </td><td>2          </td></tr>\n",
       "\t<tr><th scope=row>21</th><td>2          </td><td> 11.618931 </td><td> 11.633942 </td><td>  0.1657685</td><td>0.6566293  </td><td>0.6886812  </td><td>0.5531086  </td><td>0.3387839  </td><td>0.2882245  </td><td> 9.396361  </td><td>3          </td></tr>\n",
       "\t<tr><th scope=row>11</th><td>1          </td><td>  6.300230 </td><td>  6.142640 </td><td> -5.6286346</td><td>0.6062590  </td><td>0.6317538  </td><td>0.5350965  </td><td>0.3992602  </td><td>0.2596622  </td><td>14.887663  </td><td>4          </td></tr>\n",
       "\t<tr><th scope=row>12</th><td>1          </td><td>  2.703135 </td><td>  2.916221 </td><td> -3.4898490</td><td>0.6087719  </td><td>0.5538607  </td><td>0.5540705  </td><td>0.3954908  </td><td>0.2627133  </td><td>18.114082  </td><td>5          </td></tr>\n",
       "\t<tr><th scope=row>13</th><td>1          </td><td> -2.598469 </td><td> -2.444179 </td><td> -1.7424282</td><td>0.6857655  </td><td>0.6838299  </td><td>0.5628320  </td><td>0.3530575  </td><td>0.2836102  </td><td>23.474481  </td><td>6          </td></tr>\n",
       "\t<tr><th scope=row>14</th><td>1          </td><td> -3.473490 </td><td> -3.458598 </td><td>  7.4671364</td><td>0.5640660  </td><td>0.6041563  </td><td>0.5470110  </td><td>0.3465659  </td><td>0.2869404  </td><td>24.488901  </td><td>7          </td></tr>\n",
       "\t<tr><th scope=row>15</th><td>1          </td><td> -8.243022 </td><td> -8.207985 </td><td> -3.9533339</td><td>0.6961209  </td><td>0.6556074  </td><td>0.5717341  </td><td>0.3506815  </td><td>0.2823030  </td><td>29.238287  </td><td>8          </td></tr>\n",
       "\t<tr><th scope=row>16</th><td>1          </td><td>-12.157286 </td><td>-11.962749 </td><td>-16.2150149</td><td>0.6211454  </td><td>0.6705304  </td><td>0.5198144  </td><td>0.3330260  </td><td>0.2937195  </td><td>32.993052  </td><td>9          </td></tr>\n",
       "</tbody>\n",
       "</table>\n"
      ],
      "text/latex": [
       "\\begin{tabular}{r|lllllllllll}\n",
       "  & Generation & Phenotype & TrueBV & GEBV & M\\_accuracy & F\\_accuracy & heritability & unlist(hete2) & unlist(MAF2) & unlist(gain2) & year2\\\\\n",
       "\\hline\n",
       "\t1 & 1           &  21.143288  &  21.030303  &  -6.2299255 & 0.6958713   & 0.7066922   & 0.6165562   & 0.3992749   & 0.2594560   &  0.000000   & 0          \\\\\n",
       "\t2 & 1           &  15.824504  &  15.874556  & -11.8234004 & 0.7611253   & 0.6970058   & 0.5446421   & 0.3866482   & 0.2672230   &  5.155747   & 2          \\\\\n",
       "\t21 & 2           &  11.618931  &  11.633942  &   0.1657685 & 0.6566293   & 0.6886812   & 0.5531086   & 0.3387839   & 0.2882245   &  9.396361   & 3          \\\\\n",
       "\t11 & 1           &   6.300230  &   6.142640  &  -5.6286346 & 0.6062590   & 0.6317538   & 0.5350965   & 0.3992602   & 0.2596622   & 14.887663   & 4          \\\\\n",
       "\t12 & 1           &   2.703135  &   2.916221  &  -3.4898490 & 0.6087719   & 0.5538607   & 0.5540705   & 0.3954908   & 0.2627133   & 18.114082   & 5          \\\\\n",
       "\t13 & 1           &  -2.598469  &  -2.444179  &  -1.7424282 & 0.6857655   & 0.6838299   & 0.5628320   & 0.3530575   & 0.2836102   & 23.474481   & 6          \\\\\n",
       "\t14 & 1           &  -3.473490  &  -3.458598  &   7.4671364 & 0.5640660   & 0.6041563   & 0.5470110   & 0.3465659   & 0.2869404   & 24.488901   & 7          \\\\\n",
       "\t15 & 1           &  -8.243022  &  -8.207985  &  -3.9533339 & 0.6961209   & 0.6556074   & 0.5717341   & 0.3506815   & 0.2823030   & 29.238287   & 8          \\\\\n",
       "\t16 & 1           & -12.157286  & -11.962749  & -16.2150149 & 0.6211454   & 0.6705304   & 0.5198144   & 0.3330260   & 0.2937195   & 32.993052   & 9          \\\\\n",
       "\\end{tabular}\n"
      ],
      "text/markdown": [
       "\n",
       "| <!--/--> | Generation | Phenotype | TrueBV | GEBV | M_accuracy | F_accuracy | heritability | unlist(hete2) | unlist(MAF2) | unlist(gain2) | year2 | \n",
       "|---|---|---|---|---|---|---|---|---|\n",
       "| 1 | 1           |  21.143288  |  21.030303  |  -6.2299255 | 0.6958713   | 0.7066922   | 0.6165562   | 0.3992749   | 0.2594560   |  0.000000   | 0           | \n",
       "| 2 | 1           |  15.824504  |  15.874556  | -11.8234004 | 0.7611253   | 0.6970058   | 0.5446421   | 0.3866482   | 0.2672230   |  5.155747   | 2           | \n",
       "| 21 | 2           |  11.618931  |  11.633942  |   0.1657685 | 0.6566293   | 0.6886812   | 0.5531086   | 0.3387839   | 0.2882245   |  9.396361   | 3           | \n",
       "| 11 | 1           |   6.300230  |   6.142640  |  -5.6286346 | 0.6062590   | 0.6317538   | 0.5350965   | 0.3992602   | 0.2596622   | 14.887663   | 4           | \n",
       "| 12 | 1           |   2.703135  |   2.916221  |  -3.4898490 | 0.6087719   | 0.5538607   | 0.5540705   | 0.3954908   | 0.2627133   | 18.114082   | 5           | \n",
       "| 13 | 1           |  -2.598469  |  -2.444179  |  -1.7424282 | 0.6857655   | 0.6838299   | 0.5628320   | 0.3530575   | 0.2836102   | 23.474481   | 6           | \n",
       "| 14 | 1           |  -3.473490  |  -3.458598  |   7.4671364 | 0.5640660   | 0.6041563   | 0.5470110   | 0.3465659   | 0.2869404   | 24.488901   | 7           | \n",
       "| 15 | 1           |  -8.243022  |  -8.207985  |  -3.9533339 | 0.6961209   | 0.6556074   | 0.5717341   | 0.3506815   | 0.2823030   | 29.238287   | 8           | \n",
       "| 16 | 1           | -12.157286  | -11.962749  | -16.2150149 | 0.6211454   | 0.6705304   | 0.5198144   | 0.3330260   | 0.2937195   | 32.993052   | 9           | \n",
       "\n",
       "\n"
      ],
      "text/plain": [
       "   Generation Phenotype  TrueBV     GEBV        M_accuracy F_accuracy\n",
       "1  1           21.143288  21.030303  -6.2299255 0.6958713  0.7066922 \n",
       "2  1           15.824504  15.874556 -11.8234004 0.7611253  0.6970058 \n",
       "21 2           11.618931  11.633942   0.1657685 0.6566293  0.6886812 \n",
       "11 1            6.300230   6.142640  -5.6286346 0.6062590  0.6317538 \n",
       "12 1            2.703135   2.916221  -3.4898490 0.6087719  0.5538607 \n",
       "13 1           -2.598469  -2.444179  -1.7424282 0.6857655  0.6838299 \n",
       "14 1           -3.473490  -3.458598   7.4671364 0.5640660  0.6041563 \n",
       "15 1           -8.243022  -8.207985  -3.9533339 0.6961209  0.6556074 \n",
       "16 1          -12.157286 -11.962749 -16.2150149 0.6211454  0.6705304 \n",
       "   heritability unlist(hete2) unlist(MAF2) unlist(gain2) year2\n",
       "1  0.6165562    0.3992749     0.2594560     0.000000     0    \n",
       "2  0.5446421    0.3866482     0.2672230     5.155747     2    \n",
       "21 0.5531086    0.3387839     0.2882245     9.396361     3    \n",
       "11 0.5350965    0.3992602     0.2596622    14.887663     4    \n",
       "12 0.5540705    0.3954908     0.2627133    18.114082     5    \n",
       "13 0.5628320    0.3530575     0.2836102    23.474481     6    \n",
       "14 0.5470110    0.3465659     0.2869404    24.488901     7    \n",
       "15 0.5717341    0.3506815     0.2823030    29.238287     8    \n",
       "16 0.5198144    0.3330260     0.2937195    32.993052     9    "
      ]
     },
     "metadata": {},
     "output_type": "display_data"
    }
   ],
   "source": [
    "(y12withb<-cbind(m,unlist(hete2),unlist(MAF2),unlist(gain2),year2))"
   ]
  },
  {
   "cell_type": "code",
   "execution_count": null,
   "metadata": {},
   "outputs": [],
   "source": []
  }
 ],
 "metadata": {
  "kernelspec": {
   "display_name": "R",
   "language": "R",
   "name": "ir"
  },
  "language_info": {
   "codemirror_mode": "r",
   "file_extension": ".r",
   "mimetype": "text/x-r-source",
   "name": "R",
   "pygments_lexer": "r",
   "version": "3.5.1"
  }
 },
 "nbformat": 4,
 "nbformat_minor": 2
}
