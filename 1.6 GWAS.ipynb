{
 "cells": [
  {
   "cell_type": "code",
   "execution_count": 1,
   "metadata": {},
   "outputs": [],
   "source": [
    "# Loading data\n",
    "geno <-read.table(\"./Hetero_realigned_cov10_filtered3.raw\", row.names=1, header=T)\n",
    "row.names(geno)=1:240\n",
    "x <- as.matrix(geno)-1   \n",
    "pheno <- read.csv(\"./2017heteroPheno.csv\", header=T)\n",
    "attach(pheno)"
   ]
  },
  {
   "cell_type": "code",
   "execution_count": 2,
   "metadata": {},
   "outputs": [
    {
     "data": {
      "text/plain": [
       "[1] '4.6'"
      ]
     },
     "metadata": {},
     "output_type": "display_data"
    }
   ],
   "source": [
    "# Pacakge\n",
    "library(rrBLUP)\n",
    "packageVersion(\"rrBLUP\")"
   ]
  },
  {
   "cell_type": "code",
   "execution_count": 3,
   "metadata": {},
   "outputs": [
    {
     "data": {
      "text/html": [
       "4.895"
      ],
      "text/latex": [
       "4.895"
      ],
      "text/markdown": [
       "4.895"
      ],
      "text/plain": [
       "[1] 4.895"
      ]
     },
     "metadata": {},
     "output_type": "display_data"
    }
   ],
   "source": [
    "A=A.mat(x)\n",
    "lin_map<-read.table(\"./raw.map\")\n",
    "row.names(A)=1:240;colnames(A)=1:240\n",
    "g <- data.frame(rownames(lin_map),lin_map$V1, lin_map$V2, t(x))\n",
    "rownames(g) <-1:nrow(g)\n",
    "colnames(g) <-c(\"marker\", \"chrom\", \"pos\", rownames(x))\n",
    "# Bonferroni-corrected significance threshold\n",
    "(thred <- round(-log10(0.05/nrow(g)),3))"
   ]
  },
  {
   "cell_type": "markdown",
   "metadata": {},
   "source": [
    "## GWAS for resistance"
   ]
  },
  {
   "cell_type": "code",
   "execution_count": 4,
   "metadata": {},
   "outputs": [
    {
     "name": "stdout",
     "output_type": "stream",
     "text": [
      "[1] \"GWAS for trait: tbcw\"\n",
      "[1] \"Variance components estimated. Testing markers.\"\n"
     ]
    },
    {
     "data": {
      "text/html": [
       "<ol class=list-inline>\n",
       "\t<li>4</li>\n",
       "\t<li>9</li>\n",
       "\t<li>1</li>\n",
       "</ol>\n"
      ],
      "text/latex": [
       "\\begin{enumerate*}\n",
       "\\item 4\n",
       "\\item 9\n",
       "\\item 1\n",
       "\\end{enumerate*}\n"
      ],
      "text/markdown": [
       "1. 4\n",
       "2. 9\n",
       "3. 1\n",
       "\n",
       "\n"
      ],
      "text/plain": [
       "[1] 4 9 1"
      ]
     },
     "metadata": {},
     "output_type": "display_data"
    },
    {
     "data": {
      "text/html": [
       "<ol class=list-inline>\n",
       "\t<li>8994840</li>\n",
       "\t<li>12024615</li>\n",
       "\t<li>13727873</li>\n",
       "</ol>\n"
      ],
      "text/latex": [
       "\\begin{enumerate*}\n",
       "\\item 8994840\n",
       "\\item 12024615\n",
       "\\item 13727873\n",
       "\\end{enumerate*}\n"
      ],
      "text/markdown": [
       "1. 8994840\n",
       "2. 12024615\n",
       "3. 13727873\n",
       "\n",
       "\n"
      ],
      "text/plain": [
       "[1]  8994840 12024615 13727873"
      ]
     },
     "metadata": {},
     "output_type": "display_data"
    }
   ],
   "source": [
    "bcwframe <-data.frame(1:240, sqrt(pheno$bcw+1))\n",
    "colnames(bcwframe) <-c(\"gid\", \"tbcw\")\n",
    "# Performing GWAS \n",
    "GWAS_bcw <-GWAS(bcwframe, g,K=A, n.PC = 10) \n",
    "# SNP markers with lowest P-values\n",
    "GWAS_bcw$chrom[head(order(GWAS_bcw$tbcw,decreasing = TRUE),3)]\n",
    "# Corresponding position (base pair)\n",
    "GWAS_bcw$pos[head(order(GWAS_bcw$tbcw,decreasing = TRUE),3)]"
   ]
  },
  {
   "cell_type": "code",
   "execution_count": 5,
   "metadata": {},
   "outputs": [
    {
     "data": {},
     "metadata": {},
     "output_type": "display_data"
    },
    {
     "data": {
      "image/png": "[encoded data removed]",
      "text/plain": [
       "plot without title"
      ]
     },
     "metadata": {},
     "output_type": "display_data"
    }
   ],
   "source": [
    "# Manhatan plot\n",
    "library(\"ggplot2\")\n",
    "GWAS_bcw$chrom<-as.factor(GWAS_bcw$chrom)\n",
    "options(repr.plot.width=8, repr.plot.height=4)\n",
    "p1<-ggplot(GWAS_bcw, aes(x=1:3928, y=tbcw, color=chrom))+\n",
    "    geom_point()+\n",
    "    scale_color_manual(values = rep(c(\"black\", \"skyblue\"), 22 ))+\n",
    "    labs(x=\"Markers\", y=\"-log10(P) for H. okamotoi count\")+\n",
    "    theme(legend.position=\"none\",\n",
    "          axis.text.y=element_text(size=10),\n",
    "          axis.text.x=element_text(size=10),\n",
    "          text=element_text(size=10, \n",
    "          family=\"serif\"))+\n",
    "    geom_hline(yintercept=thred, linetype=\"dashed\", color = \"red\")+\n",
    "    geom_text(aes(0,thred,label = thred, vjust = 1.2),color = \"black\")\n",
    "p1"
   ]
  },
  {
   "cell_type": "code",
   "execution_count": 7,
   "metadata": {},
   "outputs": [
    {
     "data": {},
     "metadata": {},
     "output_type": "display_data"
    },
    {
     "data": {
      "text/html": [
       "<strong>png:</strong> 2"
      ],
      "text/latex": [
       "\\textbf{png:} 2"
      ],
      "text/markdown": [
       "**png:** 2"
      ],
      "text/plain": [
       "png \n",
       "  2 "
      ]
     },
     "metadata": {},
     "output_type": "display_data"
    }
   ],
   "source": [
    "# Save\n",
    "png(\"-log10(P) for H. okamotoi count.png\", width=8, height=4, units=\"in\", res=300)\n",
    "p1\n",
    "dev.off()"
   ]
  },
  {
   "cell_type": "markdown",
   "metadata": {},
   "source": [
    "## GWAS for length"
   ]
  },
  {
   "cell_type": "code",
   "execution_count": 8,
   "metadata": {},
   "outputs": [
    {
     "name": "stdout",
     "output_type": "stream",
     "text": [
      "[1] \"GWAS for trait: length\"\n",
      "[1] \"Variance components estimated. Testing markers.\"\n"
     ]
    },
    {
     "data": {
      "text/html": [
       "<ol class=list-inline>\n",
       "\t<li>3</li>\n",
       "\t<li>13</li>\n",
       "\t<li>12</li>\n",
       "</ol>\n"
      ],
      "text/latex": [
       "\\begin{enumerate*}\n",
       "\\item 3\n",
       "\\item 13\n",
       "\\item 12\n",
       "\\end{enumerate*}\n"
      ],
      "text/markdown": [
       "1. 3\n",
       "2. 13\n",
       "3. 12\n",
       "\n",
       "\n"
      ],
      "text/plain": [
       "[1]  3 13 12"
      ]
     },
     "metadata": {},
     "output_type": "display_data"
    },
    {
     "data": {
      "text/html": [
       "<ol class=list-inline>\n",
       "\t<li>9624703</li>\n",
       "\t<li>213839</li>\n",
       "\t<li>8240650</li>\n",
       "</ol>\n"
      ],
      "text/latex": [
       "\\begin{enumerate*}\n",
       "\\item 9624703\n",
       "\\item 213839\n",
       "\\item 8240650\n",
       "\\end{enumerate*}\n"
      ],
      "text/markdown": [
       "1. 9624703\n",
       "2. 213839\n",
       "3. 8240650\n",
       "\n",
       "\n"
      ],
      "text/plain": [
       "[1] 9624703  213839 8240650"
      ]
     },
     "metadata": {},
     "output_type": "display_data"
    }
   ],
   "source": [
    "lengthframe <-data.frame(1:240, length)\n",
    "colnames(lengthframe) <-c(\"gid\", \"length\")\n",
    "# Performing GWAS \n",
    "GWAS_length <-GWAS(lengthframe, g,K=A, n.PC = 10) \n",
    "# SNP markers with lowest P-values\n",
    "GWAS_length$chrom[head(order(GWAS_length$length,decreasing = TRUE),3)]\n",
    "# Corresponding position (base pair)\n",
    "GWAS_length$pos[head(order(GWAS_length$length,decreasing = TRUE),3)]"
   ]
  },
  {
   "cell_type": "code",
   "execution_count": 10,
   "metadata": {},
   "outputs": [
    {
     "data": {},
     "metadata": {},
     "output_type": "display_data"
    },
    {
     "data": {
      "image/png": "[encoded data removed]",
      "text/plain": [
       "plot without title"
      ]
     },
     "metadata": {},
     "output_type": "display_data"
    }
   ],
   "source": [
    "GWAS_length$chrom<-as.factor(GWAS_length$chrom)\n",
    "options(repr.plot.width=8, repr.plot.height=4)\n",
    "p2<-ggplot(GWAS_length, aes(x=1:3928, y=length, color=chrom)) +\n",
    "  geom_point()+\n",
    "  scale_color_manual(values = rep(c(\"black\", \"skyblue\"), 22 )) +\n",
    "  labs(x=\"Markers\", y=\"-log10(P) for body length\")+\n",
    "  theme(legend.position=\"none\",\n",
    "        axis.text.y=element_text(size=10),\n",
    "        axis.text.x=element_text(size=10),\n",
    "        text=element_text(size=10, \n",
    "        family=\"serif\"))+\n",
    "  geom_hline(yintercept=thred, linetype=\"dashed\", color = \"red\")+\n",
    "  geom_text(aes(0,thred,label = thred, vjust = 1.2),color = \"black\")\n",
    "p2"
   ]
  },
  {
   "cell_type": "code",
   "execution_count": 11,
   "metadata": {},
   "outputs": [
    {
     "data": {},
     "metadata": {},
     "output_type": "display_data"
    },
    {
     "data": {
      "text/html": [
       "<strong>png:</strong> 2"
      ],
      "text/latex": [
       "\\textbf{png:} 2"
      ],
      "text/markdown": [
       "**png:** 2"
      ],
      "text/plain": [
       "png \n",
       "  2 "
      ]
     },
     "metadata": {},
     "output_type": "display_data"
    }
   ],
   "source": [
    "png(\"-log10(P) for body length.png\", width=8, height=4, units=\"in\", res=300)\n",
    "p2\n",
    "dev.off()"
   ]
  },
  {
   "cell_type": "code",
   "execution_count": null,
   "metadata": {},
   "outputs": [],
   "source": []
  }
 ],
 "metadata": {
  "kernelspec": {
   "display_name": "R",
   "language": "R",
   "name": "ir"
  },
  "language_info": {
   "codemirror_mode": "r",
   "file_extension": ".r",
   "mimetype": "text/x-r-source",
   "name": "R",
   "pygments_lexer": "r",
   "version": "3.5.1"
  }
 },
 "nbformat": 4,
 "nbformat_minor": 2
}
