{
 "cells": [
  {
   "cell_type": "markdown",
   "metadata": {},
   "source": [
    "# Platform information"
   ]
  },
  {
   "cell_type": "code",
   "execution_count": 1,
   "metadata": {},
   "outputs": [
    {
     "data": {
      "text/html": [
       "'windows'"
      ],
      "text/latex": [
       "'windows'"
      ],
      "text/markdown": [
       "'windows'"
      ],
      "text/plain": [
       "[1] \"windows\""
      ]
     },
     "metadata": {},
     "output_type": "display_data"
    },
    {
     "data": {
      "text/html": [
       "'R version 3.5.1 (2018-07-02)'"
      ],
      "text/latex": [
       "'R version 3.5.1 (2018-07-02)'"
      ],
      "text/markdown": [
       "'R version 3.5.1 (2018-07-02)'"
      ],
      "text/plain": [
       "[1] \"R version 3.5.1 (2018-07-02)\""
      ]
     },
     "metadata": {},
     "output_type": "display_data"
    },
    {
     "data": {
      "text/html": [
       "'Intel(R) Core(TM) i7-7700HQ CPU @ 2.80GHz'"
      ],
      "text/latex": [
       "'Intel(R) Core(TM) i7-7700HQ CPU @ 2.80GHz'"
      ],
      "text/markdown": [
       "'Intel(R) Core(TM) i7-7700HQ CPU @ 2.80GHz'"
      ],
      "text/plain": [
       "[1] \"Intel(R) Core(TM) i7-7700HQ CPU @ 2.80GHz\""
      ]
     },
     "metadata": {},
     "output_type": "display_data"
    },
    {
     "data": {
      "text/html": [
       "8"
      ],
      "text/latex": [
       "8"
      ],
      "text/markdown": [
       "8"
      ],
      "text/plain": [
       "[1] 8"
      ]
     },
     "metadata": {},
     "output_type": "display_data"
    },
    {
     "data": {
      "text/plain": [
       "8.59 GB"
      ]
     },
     "metadata": {},
     "output_type": "display_data"
    }
   ],
   "source": [
    "library(benchmarkme)\n",
    "get_platform_info()$OS.type\n",
    "get_r_version()$version.string\n",
    "get_cpu()$model_name;get_cpu()$no_of_cores\n",
    "get_ram()"
   ]
  },
  {
   "cell_type": "markdown",
   "metadata": {},
   "source": [
    "# Parallel computation"
   ]
  },
  {
   "cell_type": "code",
   "execution_count": 2,
   "metadata": {},
   "outputs": [
    {
     "name": "stderr",
     "output_type": "stream",
     "text": [
      "Loading required package: foreach\n",
      "Loading required package: iterators\n",
      "Loading required package: parallel\n"
     ]
    }
   ],
   "source": [
    "library(doParallel)\n",
    "library(foreach)\n",
    "cl<-makeCluster(8) "
   ]
  },
  {
   "cell_type": "markdown",
   "metadata": {},
   "source": [
    "# Loading data"
   ]
  },
  {
   "cell_type": "code",
   "execution_count": 3,
   "metadata": {},
   "outputs": [],
   "source": [
    "geno <-read.table(\"./Hetero_realigned_cov10_filtered3.raw\", row.names=1, header=T)\n",
    "row.names(geno)=1:240\n",
    "x <- as.matrix(geno)-1   \n",
    "pheno <- read.csv(\"./2017heteroPheno.csv\", header=T)\n",
    "attach(pheno)\n",
    "data <- data.frame(bcw=pheno$bcw,length=pheno$length,gid=1:240)"
   ]
  },
  {
   "cell_type": "markdown",
   "metadata": {},
   "source": [
    "# Parameters for cross validation"
   ]
  },
  {
   "cell_type": "code",
   "execution_count": 4,
   "metadata": {},
   "outputs": [],
   "source": [
    "repeats <- 10\n",
    "n.fold <- 5 \n",
    "n.sample <- length(pheno$bcw)    \n",
    "CM<-7"
   ]
  },
  {
   "cell_type": "markdown",
   "metadata": {},
   "source": [
    "# GBLUP"
   ]
  },
  {
   "cell_type": "code",
   "execution_count": 10,
   "metadata": {},
   "outputs": [
    {
     "data": {
      "text/plain": [
       "[1] '4.6'"
      ]
     },
     "metadata": {},
     "output_type": "display_data"
    }
   ],
   "source": [
    "library(rrBLUP)\n",
    "packageVersion(\"rrBLUP\")"
   ]
  },
  {
   "cell_type": "code",
   "execution_count": 11,
   "metadata": {},
   "outputs": [],
   "source": [
    "#relationship matrix\n",
    "A <- A.mat(x, n.core=8)\n",
    "row.names(A)=1:240;colnames(A)=1:240"
   ]
  },
  {
   "cell_type": "code",
   "execution_count": 12,
   "metadata": {},
   "outputs": [
    {
     "data": {
      "text/plain": [
       "   user  system elapsed \n",
       "   0.25    0.09    0.83 "
      ]
     },
     "metadata": {},
     "output_type": "display_data"
    }
   ],
   "source": [
    "registerDoParallel(cl)\n",
    "system.time({\n",
    "GBLUP<-foreach(j=1:repeats,.combine = \"rbind\") %do% {\n",
    "        set.seed(100+3*j+1)\n",
    "        id <- sample(1:n.sample %% n.fold) + 1 \n",
    "        foreach(i=1:n.fold,.packages=\"rrBLUP\") %dopar% {\n",
    "         bcw_test <- data\n",
    "         bcw_test$bcw[id == i] <- NA\n",
    "         res <- kin.blup(bcw_test, K=A, geno=\"gid\", pheno=\"bcw\")\n",
    "         cor(pheno$bcw[id==i],res$pred[id==i])\n",
    "    }\n",
    "   }\n",
    "})\n",
    "stopImplicitCluster()"
   ]
  },
  {
   "cell_type": "markdown",
   "metadata": {},
   "source": [
    "# Bayes cpi"
   ]
  },
  {
   "cell_type": "markdown",
   "metadata": {},
   "source": [
    "I found the code from this lab\n",
    " http://www.zzlab.net/StaGen/"
   ]
  },
  {
   "cell_type": "code",
   "execution_count": 5,
   "metadata": {
    "scrolled": true
   },
   "outputs": [],
   "source": [
    "source(\"http://www.zzlab.net/sandbox/BAGS.R\")"
   ]
  },
  {
   "cell_type": "code",
   "execution_count": 8,
   "metadata": {},
   "outputs": [
    {
     "data": {
      "text/plain": [
       "    user   system  elapsed \n",
       "    1.36     2.53 14754.27 "
      ]
     },
     "metadata": {},
     "output_type": "display_data"
    }
   ],
   "source": [
    "registerDoParallel(cl)\n",
    "system.time({\n",
    "Cpi<-foreach(j=1:repeats,.combine = \"rbind\") %do% {\n",
    "        set.seed(100+3*j+1)\n",
    "        id <- sample(1:n.sample %% n.fold) + 1 \n",
    "        foreach(i=1:n.fold) %dopar% {\n",
    "         bcw_test <- data\n",
    "         m1<-bcw_test$bcw[id != i] \n",
    "         u1<-as.matrix(geno)[id != i, ]        \n",
    "         ki<-BAGS(u1, y=m1,pi=1,burn.in=1000,burn.out=2000)\n",
    "         pred<-(as.matrix(geno)[id == i, ]) %*% ki$effect\n",
    "         cor(pheno$bcw[id==i],pred)\n",
    "    }\n",
    "   }\n",
    "})\n",
    "stopImplicitCluster()"
   ]
  },
  {
   "cell_type": "code",
   "execution_count": 18,
   "metadata": {},
   "outputs": [
    {
     "data": {
      "text/html": [
       "<table>\n",
       "<tbody>\n",
       "\t<tr><th scope=row>result.1</th><td>0.2219468  </td><td>0.1594255  </td><td>0.1886464  </td><td>0.3257046  </td><td>0.008631627</td></tr>\n",
       "\t<tr><th scope=row>result.2</th><td>0.04603167</td><td>0.329667  </td><td>0.1702699 </td><td>0.05681837</td><td>0.2823873 </td></tr>\n",
       "\t<tr><th scope=row>result.3</th><td>0.1618135  </td><td>0.3293952  </td><td>-0.08750843</td><td>0.1775165  </td><td>-0.01163318</td></tr>\n",
       "\t<tr><th scope=row>result.4</th><td>0.3945332 </td><td>0.4198629 </td><td>0.02603833</td><td>0.01668889</td><td>0.1229961 </td></tr>\n",
       "\t<tr><th scope=row>result.5</th><td>0.3297482 </td><td>0.1469074 </td><td>0.1622235 </td><td>0.07863016</td><td>0.3126024 </td></tr>\n",
       "\t<tr><th scope=row>result.6</th><td>0.3477457 </td><td>0.3905192 </td><td>0.0518323 </td><td>0.07439348</td><td>0.4505462 </td></tr>\n",
       "\t<tr><th scope=row>result.7</th><td>0.3303076</td><td>0.3233216</td><td>0.1655145</td><td>0.1465404</td><td>0.4664679</td></tr>\n",
       "\t<tr><th scope=row>result.8</th><td>0.3482255 </td><td>0.1964356 </td><td>0.07313449</td><td>0.2668536 </td><td>0.2184256 </td></tr>\n",
       "\t<tr><th scope=row>result.9</th><td>0.1701746  </td><td>0.05899124 </td><td>0.2461707  </td><td>-0.09392551</td><td>0.2994342  </td></tr>\n",
       "\t<tr><th scope=row>result.10</th><td>0.1620705</td><td>0.1675907</td><td>0.1824422</td><td>0.2914718</td><td>0.1193513</td></tr>\n",
       "</tbody>\n",
       "</table>\n"
      ],
      "text/latex": [
       "\\begin{tabular}{r|lllll}\n",
       "\tresult.1 & 0.2219468   & 0.1594255   & 0.1886464   & 0.3257046   & 0.008631627\\\\\n",
       "\tresult.2 & 0.04603167 & 0.329667   & 0.1702699  & 0.05681837 & 0.2823873 \\\\\n",
       "\tresult.3 & 0.1618135   & 0.3293952   & -0.08750843 & 0.1775165   & -0.01163318\\\\\n",
       "\tresult.4 & 0.3945332  & 0.4198629  & 0.02603833 & 0.01668889 & 0.1229961 \\\\\n",
       "\tresult.5 & 0.3297482  & 0.1469074  & 0.1622235  & 0.07863016 & 0.3126024 \\\\\n",
       "\tresult.6 & 0.3477457  & 0.3905192  & 0.0518323  & 0.07439348 & 0.4505462 \\\\\n",
       "\tresult.7 & 0.3303076 & 0.3233216 & 0.1655145 & 0.1465404 & 0.4664679\\\\\n",
       "\tresult.8 & 0.3482255  & 0.1964356  & 0.07313449 & 0.2668536  & 0.2184256 \\\\\n",
       "\tresult.9 & 0.1701746   & 0.05899124  & 0.2461707   & -0.09392551 & 0.2994342  \\\\\n",
       "\tresult.10 & 0.1620705 & 0.1675907 & 0.1824422 & 0.2914718 & 0.1193513\\\\\n",
       "\\end{tabular}\n"
      ],
      "text/markdown": [
       "\n",
       "| result.1 | 0.2219468   | 0.1594255   | 0.1886464   | 0.3257046   | 0.008631627 | \n",
       "| result.2 | 0.04603167 | 0.329667   | 0.1702699  | 0.05681837 | 0.2823873  | \n",
       "| result.3 | 0.1618135   | 0.3293952   | -0.08750843 | 0.1775165   | -0.01163318 | \n",
       "| result.4 | 0.3945332  | 0.4198629  | 0.02603833 | 0.01668889 | 0.1229961  | \n",
       "| result.5 | 0.3297482  | 0.1469074  | 0.1622235  | 0.07863016 | 0.3126024  | \n",
       "| result.6 | 0.3477457  | 0.3905192  | 0.0518323  | 0.07439348 | 0.4505462  | \n",
       "| result.7 | 0.3303076 | 0.3233216 | 0.1655145 | 0.1465404 | 0.4664679 | \n",
       "| result.8 | 0.3482255  | 0.1964356  | 0.07313449 | 0.2668536  | 0.2184256  | \n",
       "| result.9 | 0.1701746   | 0.05899124  | 0.2461707   | -0.09392551 | 0.2994342   | \n",
       "| result.10 | 0.1620705 | 0.1675907 | 0.1824422 | 0.2914718 | 0.1193513 | \n",
       "\n",
       "\n"
      ],
      "text/plain": [
       "          [,1]       [,2]       [,3]        [,4]        [,5]       \n",
       "result.1  0.2219468  0.1594255  0.1886464   0.3257046   0.008631627\n",
       "result.2  0.04603167 0.329667   0.1702699   0.05681837  0.2823873  \n",
       "result.3  0.1618135  0.3293952  -0.08750843 0.1775165   -0.01163318\n",
       "result.4  0.3945332  0.4198629  0.02603833  0.01668889  0.1229961  \n",
       "result.5  0.3297482  0.1469074  0.1622235   0.07863016  0.3126024  \n",
       "result.6  0.3477457  0.3905192  0.0518323   0.07439348  0.4505462  \n",
       "result.7  0.3303076  0.3233216  0.1655145   0.1465404   0.4664679  \n",
       "result.8  0.3482255  0.1964356  0.07313449  0.2668536   0.2184256  \n",
       "result.9  0.1701746  0.05899124 0.2461707   -0.09392551 0.2994342  \n",
       "result.10 0.1620705  0.1675907  0.1824422   0.2914718   0.1193513  "
      ]
     },
     "metadata": {},
     "output_type": "display_data"
    }
   ],
   "source": [
    "Cpi"
   ]
  },
  {
   "cell_type": "markdown",
   "metadata": {},
   "source": [
    "# Bayes A, B, C, RR, LASSO, RKHS"
   ]
  },
  {
   "cell_type": "code",
   "execution_count": 11,
   "metadata": {},
   "outputs": [
    {
     "data": {
      "text/plain": [
       "[1] '1.0.5'"
      ]
     },
     "metadata": {},
     "output_type": "display_data"
    }
   ],
   "source": [
    "library(\"BGLR\")\n",
    "packageVersion(\"BGLR\")"
   ]
  },
  {
   "cell_type": "code",
   "execution_count": null,
   "metadata": {},
   "outputs": [],
   "source": [
    "registerDoParallel(cl)\n",
    "system.time({\n",
    "BA <- foreach(j=1:repeats,.combine = \"rbind\") %do% {\n",
    "        set.seed(100+3*j+1)\n",
    "        id <- sample(1:n.sample %% n.fold) + 1 \n",
    "        foreach(i=1:n.fold,.packages=\"BGLR\") %dopar% {\n",
    "         bcw_test <- data\n",
    "         bcw_test$bcw[id == i] <- NA\n",
    "         fmBA=BGLR(y=bcw_test$bcw,ETA=list(list(X=x,model='BayesA')),nIter=2000,burnIn=1000)\n",
    "         cor(pheno$bcw[id == i],fmBA$yHat[id == i])\n",
    "         }    \n",
    "      }\n",
    "})\n",
    "stopImplicitCluster()  "
   ]
  },
  {
   "cell_type": "code",
   "execution_count": 40,
   "metadata": {},
   "outputs": [
    {
     "data": {
      "text/plain": [
       "   user  system elapsed \n",
       "   1.00    1.15   74.03 "
      ]
     },
     "metadata": {},
     "output_type": "display_data"
    }
   ],
   "source": [
    "registerDoParallel(cl)\n",
    "system.time({\n",
    "BB <- foreach(j=1:repeats,.combine = \"rbind\") %do% {\n",
    "        set.seed(100+3*j+1)\n",
    "        id <- sample(1:n.sample %% n.fold) + 1 \n",
    "        foreach(i=1:n.fold,.packages=\"BGLR\") %dopar% {\n",
    "         bcw_test <- data\n",
    "         bcw_test$bcw[id == i] <- NA\n",
    "         fmBB=BGLR(y=bcw_test$bcw,ETA=list(list(X=x,model='BayesB')),nIter=2000,burnIn=1000)\n",
    "         cor(pheno$bcw[id == i],fmBB$yHat[id == i])\n",
    "         }    \n",
    "      }\n",
    "})\n",
    "stopImplicitCluster()  "
   ]
  },
  {
   "cell_type": "code",
   "execution_count": 42,
   "metadata": {},
   "outputs": [
    {
     "data": {
      "text/plain": [
       "   user  system elapsed \n",
       "   0.86    1.27   67.98 "
      ]
     },
     "metadata": {},
     "output_type": "display_data"
    }
   ],
   "source": [
    "registerDoParallel(cl)\n",
    "system.time({\n",
    "BC <- foreach(j=1:repeats,.combine = \"rbind\") %do% {\n",
    "        set.seed(100+3*j+1)\n",
    "        id <- sample(1:n.sample %% n.fold) + 1 \n",
    "        foreach(i=1:n.fold,.packages=\"BGLR\") %dopar% {\n",
    "         bcw_test <- data\n",
    "         bcw_test$bcw[id == i] <- NA\n",
    "         fmBC=BGLR(y=bcw_test$bcw,ETA=list(list(X=x,model='BayesC')),nIter=2000,burnIn=1000)\n",
    "         cor(pheno$bcw[id == i],fmBC$yHat[id == i])\n",
    "         }    \n",
    "      }\n",
    "})\n",
    "stopImplicitCluster()  "
   ]
  },
  {
   "cell_type": "code",
   "execution_count": 43,
   "metadata": {},
   "outputs": [
    {
     "data": {
      "text/plain": [
       "   user  system elapsed \n",
       "   0.72    1.25   63.03 "
      ]
     },
     "metadata": {},
     "output_type": "display_data"
    }
   ],
   "source": [
    "registerDoParallel(cl)\n",
    "system.time({\n",
    "BRR <- foreach(j=1:repeats,.combine = \"rbind\") %do% {\n",
    "        set.seed(100+3*j+1)\n",
    "        id <- sample(1:n.sample %% n.fold) + 1 \n",
    "        foreach(i=1:n.fold,.packages=\"BGLR\") %dopar% {\n",
    "         bcw_test <- data\n",
    "         bcw_test$bcw[id == i] <- NA\n",
    "         fmBRR=BGLR(y=bcw_test$bcw,ETA=list(list(X=x,model='BRR')),nIter=2000,burnIn=1000)\n",
    "         cor(pheno$bcw[id == i],fmBRR$yHat[id == i])\n",
    "         }    \n",
    "      }\n",
    "})\n",
    "stopImplicitCluster()  "
   ]
  },
  {
   "cell_type": "code",
   "execution_count": 44,
   "metadata": {},
   "outputs": [
    {
     "data": {
      "text/plain": [
       "   user  system elapsed \n",
       "   0.91    1.25   91.75 "
      ]
     },
     "metadata": {},
     "output_type": "display_data"
    }
   ],
   "source": [
    "registerDoParallel(cl)\n",
    "system.time({\n",
    "BL <- foreach(j=1:repeats,.combine = \"rbind\") %do% {\n",
    "        set.seed(100+3*j+1)\n",
    "        id <- sample(1:n.sample %% n.fold) + 1 \n",
    "        foreach(i=1:n.fold,.packages=\"BGLR\") %dopar% {\n",
    "         bcw_test <- data\n",
    "         bcw_test$bcw[id == i] <- NA\n",
    "         fmBL=BGLR(y=bcw_test$bcw,ETA=list(list(X=x,model='BL')),nIter=2000,burnIn=1000)\n",
    "         cor(pheno$bcw[id == i],fmBL$yHat[id == i])\n",
    "         }    \n",
    "      }\n",
    "})\n",
    "stopImplicitCluster()  "
   ]
  },
  {
   "cell_type": "code",
   "execution_count": 46,
   "metadata": {
    "scrolled": true
   },
   "outputs": [
    {
     "data": {
      "text/plain": [
       "   user  system elapsed \n",
       "   1.40    0.09   18.25 "
      ]
     },
     "metadata": {},
     "output_type": "display_data"
    }
   ],
   "source": [
    "registerDoParallel(cl)\n",
    "system.time({\n",
    "    p<-ncol(x)\n",
    "    D<-(as.matrix(dist(x,method='euclidean'))^2)/p\n",
    "    h<-0.5\n",
    "    K<-exp(-h*D)\n",
    "    ETA<-list(list(K=K,model='RKHS'))\n",
    "RKHS <- foreach(j=1:repeats,.combine = \"rbind\") %do% {\n",
    "        set.seed(100+3*j+1)\n",
    "        id <- sample(1:n.sample %% n.fold) + 1 \n",
    "        foreach(i=1:n.fold,.packages=\"BGLR\") %dopar% {\n",
    "         bcw_test <- data\n",
    "         bcw_test$bcw[id == i] <- NA\n",
    "         fmRKHS=BGLR(y=bcw_test$bcw,ETA=ETA,nIter=2000,burnIn=1000)\n",
    "         cor(pheno$bcw[id == i],fmRKHS$yHat[id == i])\n",
    "         }    \n",
    "      }\n",
    "})\n",
    "stopImplicitCluster()  "
   ]
  },
  {
   "cell_type": "code",
   "execution_count": 147,
   "metadata": {},
   "outputs": [],
   "source": [
    "#Save result\n",
    "Acc<-data.frame(unlist(GBLUP),unlist(BA),unlist(BB),unlist(BC),unlist(BRR),unlist(BL),unlist(RKHS))\n",
    "colnames(Acc)<-c(\"GBLUP\",\"BA\",\"BB\",\"BC\",\"BRR\",\"BL\",\"RKHS\")\n",
    "library(\"xlsx\")\n",
    "write.xlsx(Acc, \"7models_Acc.xlsx\") "
   ]
  },
  {
   "cell_type": "markdown",
   "metadata": {},
   "source": [
    "# Comprision "
   ]
  },
  {
   "cell_type": "code",
   "execution_count": 21,
   "metadata": {
    "scrolled": true
   },
   "outputs": [],
   "source": [
    "#Load data(from this page and deep learning models)\n",
    "library(\"readxl\")\n",
    "data<-read_excel(\"9_models_comprision.xlsx\")\n",
    "Acc_all<-subset(data,select = - c(X__1))"
   ]
  },
  {
   "cell_type": "code",
   "execution_count": 23,
   "metadata": {},
   "outputs": [],
   "source": [
    "Acc_all$BCpi<-unlist(Cpi)"
   ]
  },
  {
   "cell_type": "code",
   "execution_count": 24,
   "metadata": {},
   "outputs": [
    {
     "data": {
      "text/html": [
       "<dl class=dl-horizontal>\n",
       "\t<dt>GBLUP</dt>\n",
       "\t\t<dd>0.286</dd>\n",
       "\t<dt>BA</dt>\n",
       "\t\t<dd>0.282</dd>\n",
       "\t<dt>BB</dt>\n",
       "\t\t<dd>0.296</dd>\n",
       "\t<dt>BC</dt>\n",
       "\t\t<dd>0.285</dd>\n",
       "\t<dt>BRR</dt>\n",
       "\t\t<dd>0.283</dd>\n",
       "\t<dt>BL</dt>\n",
       "\t\t<dd>0.284</dd>\n",
       "\t<dt>RKHS</dt>\n",
       "\t\t<dd>0.283</dd>\n",
       "\t<dt>NN</dt>\n",
       "\t\t<dd>0.3</dd>\n",
       "\t<dt>MNN</dt>\n",
       "\t\t<dd>0.307</dd>\n",
       "\t<dt>BCpi</dt>\n",
       "\t\t<dd>0.196</dd>\n",
       "</dl>\n"
      ],
      "text/latex": [
       "\\begin{description*}\n",
       "\\item[GBLUP] 0.286\n",
       "\\item[BA] 0.282\n",
       "\\item[BB] 0.296\n",
       "\\item[BC] 0.285\n",
       "\\item[BRR] 0.283\n",
       "\\item[BL] 0.284\n",
       "\\item[RKHS] 0.283\n",
       "\\item[NN] 0.3\n",
       "\\item[MNN] 0.307\n",
       "\\item[BCpi] 0.196\n",
       "\\end{description*}\n"
      ],
      "text/markdown": [
       "GBLUP\n",
       ":   0.286BA\n",
       ":   0.282BB\n",
       ":   0.296BC\n",
       ":   0.285BRR\n",
       ":   0.283BL\n",
       ":   0.284RKHS\n",
       ":   0.283NN\n",
       ":   0.3MNN\n",
       ":   0.307BCpi\n",
       ":   0.196\n",
       "\n"
      ],
      "text/plain": [
       "GBLUP    BA    BB    BC   BRR    BL  RKHS    NN   MNN  BCpi \n",
       "0.286 0.282 0.296 0.285 0.283 0.284 0.283 0.300 0.307 0.196 "
      ]
     },
     "metadata": {},
     "output_type": "display_data"
    }
   ],
   "source": [
    "(Acc_mean<-sapply(Acc_all,function(x) round(mean(x),digits = 3)))"
   ]
  },
  {
   "cell_type": "code",
   "execution_count": 25,
   "metadata": {
    "scrolled": false
   },
   "outputs": [
    {
     "data": {
      "text/html": [
       "<dl class=dl-horizontal>\n",
       "\t<dt>GBLUP</dt>\n",
       "\t\t<dd>0.017</dd>\n",
       "\t<dt>BA</dt>\n",
       "\t\t<dd>0.016</dd>\n",
       "\t<dt>BB</dt>\n",
       "\t\t<dd>0.017</dd>\n",
       "\t<dt>BC</dt>\n",
       "\t\t<dd>0.016</dd>\n",
       "\t<dt>BRR</dt>\n",
       "\t\t<dd>0.018</dd>\n",
       "\t<dt>BL</dt>\n",
       "\t\t<dd>0.017</dd>\n",
       "\t<dt>RKHS</dt>\n",
       "\t\t<dd>0.018</dd>\n",
       "\t<dt>NN</dt>\n",
       "\t\t<dd>0.015</dd>\n",
       "\t<dt>MNN</dt>\n",
       "\t\t<dd>0.016</dd>\n",
       "\t<dt>BCpi</dt>\n",
       "\t\t<dd>0.019</dd>\n",
       "</dl>\n"
      ],
      "text/latex": [
       "\\begin{description*}\n",
       "\\item[GBLUP] 0.017\n",
       "\\item[BA] 0.016\n",
       "\\item[BB] 0.017\n",
       "\\item[BC] 0.016\n",
       "\\item[BRR] 0.018\n",
       "\\item[BL] 0.017\n",
       "\\item[RKHS] 0.018\n",
       "\\item[NN] 0.015\n",
       "\\item[MNN] 0.016\n",
       "\\item[BCpi] 0.019\n",
       "\\end{description*}\n"
      ],
      "text/markdown": [
       "GBLUP\n",
       ":   0.017BA\n",
       ":   0.016BB\n",
       ":   0.017BC\n",
       ":   0.016BRR\n",
       ":   0.018BL\n",
       ":   0.017RKHS\n",
       ":   0.018NN\n",
       ":   0.015MNN\n",
       ":   0.016BCpi\n",
       ":   0.019\n",
       "\n"
      ],
      "text/plain": [
       "GBLUP    BA    BB    BC   BRR    BL  RKHS    NN   MNN  BCpi \n",
       "0.017 0.016 0.017 0.016 0.018 0.017 0.018 0.015 0.016 0.019 "
      ]
     },
     "metadata": {},
     "output_type": "display_data"
    }
   ],
   "source": [
    "(Acc_SE<-sapply(Acc_all,function(x) round(sd(x)/sqrt(repeats*n.fold),digits = 3)))"
   ]
  },
  {
   "cell_type": "code",
   "execution_count": null,
   "metadata": {},
   "outputs": [],
   "source": []
  }
 ],
 "metadata": {
  "kernelspec": {
   "display_name": "R",
   "language": "R",
   "name": "ir"
  },
  "language_info": {
   "codemirror_mode": "r",
   "file_extension": ".r",
   "mimetype": "text/x-r-source",
   "name": "R",
   "pygments_lexer": "r",
   "version": "3.5.1"
  }
 },
 "nbformat": 4,
 "nbformat_minor": 2
}
