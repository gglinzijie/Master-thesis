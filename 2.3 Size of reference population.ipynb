{
 "cells": [
  {
   "cell_type": "code",
   "execution_count": 5,
   "metadata": {},
   "outputs": [
    {
     "data": {
      "text/html": [
       "'windows'"
      ],
      "text/latex": [
       "'windows'"
      ],
      "text/markdown": [
       "'windows'"
      ],
      "text/plain": [
       "[1] \"windows\""
      ]
     },
     "metadata": {},
     "output_type": "display_data"
    },
    {
     "data": {
      "text/html": [
       "'R version 3.5.1 (2018-07-02)'"
      ],
      "text/latex": [
       "'R version 3.5.1 (2018-07-02)'"
      ],
      "text/markdown": [
       "'R version 3.5.1 (2018-07-02)'"
      ],
      "text/plain": [
       "[1] \"R version 3.5.1 (2018-07-02)\""
      ]
     },
     "metadata": {},
     "output_type": "display_data"
    },
    {
     "data": {
      "text/html": [
       "'Intel(R) Core(TM) i7-7700HQ CPU @ 2.80GHz'"
      ],
      "text/latex": [
       "'Intel(R) Core(TM) i7-7700HQ CPU @ 2.80GHz'"
      ],
      "text/markdown": [
       "'Intel(R) Core(TM) i7-7700HQ CPU @ 2.80GHz'"
      ],
      "text/plain": [
       "[1] \"Intel(R) Core(TM) i7-7700HQ CPU @ 2.80GHz\""
      ]
     },
     "metadata": {},
     "output_type": "display_data"
    },
    {
     "data": {
      "text/html": [
       "8"
      ],
      "text/latex": [
       "8"
      ],
      "text/markdown": [
       "8"
      ],
      "text/plain": [
       "[1] 8"
      ]
     },
     "metadata": {},
     "output_type": "display_data"
    },
    {
     "data": {
      "text/plain": [
       "8.59 GB"
      ]
     },
     "metadata": {},
     "output_type": "display_data"
    }
   ],
   "source": [
    "library(benchmarkme)\n",
    "get_platform_info()$OS.type\n",
    "get_r_version()$version.string\n",
    "get_cpu()$model_name;get_cpu()$no_of_cores\n",
    "get_ram()"
   ]
  },
  {
   "cell_type": "code",
   "execution_count": 6,
   "metadata": {},
   "outputs": [],
   "source": [
    "##Package was modified to allow complete cross mating\n",
    "#library(\"devtools\")\n",
    "#install_github(\"gglinzijie/xbreed\")\n",
    "library(\"xbreed\")"
   ]
  },
  {
   "cell_type": "markdown",
   "metadata": {},
   "source": [
    "# Genome specification"
   ]
  },
  {
   "cell_type": "code",
   "execution_count": 7,
   "metadata": {},
   "outputs": [
    {
     "data": {
      "text/html": [
       "3928"
      ],
      "text/latex": [
       "3928"
      ],
      "text/markdown": [
       "3928"
      ],
      "text/plain": [
       "[1] 3928"
      ]
     },
     "metadata": {},
     "output_type": "display_data"
    }
   ],
   "source": [
    "#Number of markers per chr from chapter 1\n",
    "lin_map<-read.table(\"raw.map\")\n",
    "m=1:22\n",
    "for(i in 1:22) {m[i]=dim(lin_map[lin_map$V1==i,])[1]}\n",
    "sum(m)\n",
    "#nf <- layout(1,widths=3, heights=4, TRUE)\n",
    "#barplot(m,col = \"cadetblue1\",ylim=c(0,400),xlim=c(0,23),cex.axis = 1.5,names.arg = )"
   ]
  },
  {
   "cell_type": "code",
   "execution_count": 8,
   "metadata": {},
   "outputs": [],
   "source": [
    "#data from chaptre 1\n",
    "geno<-read.table(\"Hetero_realigned_cov10_filtered3.raw\")\n",
    "pheno<-read.csv(\"2017heteroPheno.csv\", header=T)\n",
    "attach(pheno)"
   ]
  },
  {
   "cell_type": "code",
   "execution_count": 9,
   "metadata": {},
   "outputs": [],
   "source": [
    "#parameter of genome\n",
    "no.chr<-22\n",
    "genome<-data.frame(matrix(NA, nrow=no.chr, ncol=6))\n",
    "names(genome)<-c(\"chr\",\"len\",\"nmrk\",\"mpos\",\"nqtl\",\"qpos\")\n",
    "genome$chr<-c(1:no.chr) #Chromosome id from 1 to 22\n",
    "genome$len<-c(200,rep(100,21))#Chromosome length in cM\n",
    "genome$nmrk<-c(m) #Number of markers, 3928 in total \n",
    "genome$mpos<-c('even') \n",
    "genome$nqtl<-c(40) #Number of qtl  40*22 = 880 in total\n",
    "genome$qpos<-c('rnd')"
   ]
  },
  {
   "cell_type": "markdown",
   "metadata": {},
   "source": [
    "# Historiacal population"
   ]
  },
  {
   "cell_type": "code",
   "execution_count": 10,
   "metadata": {},
   "outputs": [
    {
     "name": "stdout",
     "output_type": "stream",
     "text": [
      "---sel_seq_qtl is missing, it has been set to default value of 0\n",
      "---sel_seq_mrk is missing, it has been set to default value of 0\n",
      "Historical pop is initialized...\n",
      "Simulating trait ...\n",
      "Output data preparation ...\n",
      "Establishment of historical population completed\n"
     ]
    }
   ],
   "source": [
    "#Historical population \n",
    "hp<-make_hp(hpsize=1000 ,ng=1000,h2=0.654,d2=0,phen_var=84,\n",
    "            genome=genome,mutr=2.5*10**-4,laf=1)"
   ]
  },
  {
   "cell_type": "code",
   "execution_count": 11,
   "metadata": {},
   "outputs": [
    {
     "data": {
      "text/html": [
       "0.333333333333333"
      ],
      "text/latex": [
       "0.333333333333333"
      ],
      "text/markdown": [
       "0.333333333333333"
      ],
      "text/plain": [
       "[1] 0.3333333"
      ]
     },
     "metadata": {},
     "output_type": "display_data"
    },
    {
     "data": {
      "text/html": [
       "0.285962320819597"
      ],
      "text/latex": [
       "0.285962320819597"
      ],
      "text/markdown": [
       "0.285962320819597"
      ],
      "text/plain": [
       "[1] 0.2859623"
      ]
     },
     "metadata": {},
     "output_type": "display_data"
    }
   ],
   "source": [
    "#validation\n",
    "mutr<-2.5*10**-4\n",
    "ne<-1000\n",
    "k<-2 \n",
    "Fneu<-4*ne*mutr\n",
    "(Expected_het1<-1-((1+((Fneu)/(k-1)))/(1+((Fneu*k)/(k-1)))))\n",
    "(het_observed<-mean(2*(hp$freqMrk[,3]*hp$freqMrk[,4])))"
   ]
  },
  {
   "cell_type": "code",
   "execution_count": 12,
   "metadata": {},
   "outputs": [],
   "source": [
    "Male_founders<-data.frame(number=10,select='rnd')\n",
    "Female_founders<-data.frame(number=10,select='rnd')"
   ]
  },
  {
   "cell_type": "code",
   "execution_count": 13,
   "metadata": {},
   "outputs": [],
   "source": [
    "Selection<-data.frame(matrix(NA, nrow=2, ncol=3))\n",
    "names(Selection)<-c('Number','type','Value') \n",
    "Selection$Number[1:2]<-c(10,10)\n",
    "Selection$type[1:2]<-c('rnd','rnd')\n",
    "Selection$Value[1:2]<-c('l','l')"
   ]
  },
  {
   "cell_type": "code",
   "execution_count": 14,
   "metadata": {},
   "outputs": [],
   "source": [
    "sh_output<-data.frame(matrix(NA, nrow=1, ncol=4))\n",
    "names(sh_output)<-c(\"data\",\"qtl\",\"freq_mrk\",\"marker\")\n",
    "sh_output[1]<-c(1) \n",
    "sh_output[2]<-c(1) \n",
    "sh_output[3]<-c(1)\n",
    "sh_output[4]<-c(1)"
   ]
  },
  {
   "cell_type": "code",
   "execution_count": 15,
   "metadata": {
    "scrolled": true
   },
   "outputs": [
    {
     "name": "stdout",
     "output_type": "stream",
     "text": [
      "Controlling input data ...\n",
      "Intializing base population ...\n",
      "Generation 0 started ......... \n",
      "Generation 0 is finished. Time taken: 17.03785\n",
      "Generation 1 started ......... \n",
      "Generation 1 is finished. Time taken: 15.43671\n",
      "Output data preparation ...\n",
      "Writing output files ...\n",
      "Sampling hp is done!\n"
     ]
    }
   ],
   "source": [
    "#10 sires and 10 dams perform complete cross; 200 eggs were produced per dam.\n",
    "RP<-sample_hp(hp_out=hp,Male_founders= Male_founders,\n",
    "              Female_founders=Female_founders,ng=1,Selection=Selection, \n",
    "              litter_size=200,saveAt=\"SNP3928\",sh_output=sh_output,Display=FALSE)"
   ]
  },
  {
   "cell_type": "code",
   "execution_count": 16,
   "metadata": {},
   "outputs": [],
   "source": [
    "#function for calculate the allele coding, which is 0, 1, 2\n",
    "bin_snp<-function(mat){\n",
    "s1<-seq(1,ncol(mat),2)\n",
    "s2<-seq(2,ncol(mat),2)\n",
    "a1<-mat[,s1]+mat[,s2]\n",
    "a1[a1==3]=1\n",
    "a1[a1==4]=0\n",
    "snp_code<-a1\n",
    "return(snp_code)\n",
    " }"
   ]
  },
  {
   "cell_type": "code",
   "execution_count": 17,
   "metadata": {},
   "outputs": [],
   "source": [
    "##geno and pheno from simulated data\n",
    "pheno<-RP$output[[2]]$data$phen\n",
    "n<-bin_snp(RP$output[[2]]$mrk[,3:7858])\n",
    "x<-as.matrix(n)-1\n",
    "data <- data.frame(tbcw=pheno,gid=1:2000)"
   ]
  },
  {
   "cell_type": "code",
   "execution_count": 18,
   "metadata": {},
   "outputs": [
    {
     "name": "stderr",
     "output_type": "stream",
     "text": [
      "Loading required package: foreach\n",
      "Loading required package: iterators\n",
      "Loading required package: parallel\n"
     ]
    },
    {
     "data": {
      "text/plain": [
       "[1] '4.6'"
      ]
     },
     "metadata": {},
     "output_type": "display_data"
    }
   ],
   "source": [
    "##load packages\n",
    "library(doParallel)\n",
    "library(foreach)\n",
    "cl<-makeCluster(8) \n",
    "repeats <- 10\n",
    "n.fold <- 5 \n",
    "acc<-list()\n",
    "library(rrBLUP)\n",
    "packageVersion(\"rrBLUP\") "
   ]
  },
  {
   "cell_type": "code",
   "execution_count": 19,
   "metadata": {},
   "outputs": [],
   "source": [
    "#function for calculating the accuracy of GP with varying size of reference population\n",
    "cal_acc<-function(x,n.sample){\n",
    "id<-sample(1:dim(x)[1],n.sample)\n",
    "#relationship matrix (Endelman at al. 2011)\n",
    "A <- A.mat(x[id,], n.core=8)\n",
    "row.names(A)=1:n.sample;colnames(A)=1:n.sample\n",
    "data <- data.frame(tbcw=pheno[id],gid=1:n.sample)\n",
    "registerDoParallel(cl)\n",
    "GBLUP<-foreach(j=1:repeats,.combine = \"rbind\") %do% {\n",
    "        set.seed(100+3*j+1)\n",
    "        id <- sample(1:n.sample %% n.fold) + 1 \n",
    "        foreach(i=1:n.fold,.packages=\"rrBLUP\") %do% {\n",
    "         bcw_test <- data\n",
    "         bcw_test$tbcw[id == i] <- NA\n",
    "         res <- kin.blup(bcw_test, K=A, geno=\"gid\", pheno=\"tbcw\")\n",
    "         cor(data$tbcw[id==i],res$pred[id==i])\n",
    "    }\n",
    "   }\n",
    "stopImplicitCluster()\n",
    "acc<-unlist(GBLUP)\n",
    "return(acc)\n",
    "}"
   ]
  },
  {
   "cell_type": "code",
   "execution_count": 20,
   "metadata": {},
   "outputs": [],
   "source": [
    "#implemente the caculation \n",
    "n.sample<-c(240,500,750,1000,1250,1500,1750,2000)\n",
    "all_acc<-matrix(NA,nrow = length(n.sample),ncol = repeats*n.fold)\n",
    "for (i in 1:length(n.sample)){\n",
    "    m<-n.sample[i]\n",
    "    all_acc[i,]<-cal_acc(x,m)}"
   ]
  },
  {
   "cell_type": "code",
   "execution_count": 58,
   "metadata": {},
   "outputs": [
    {
     "data": {},
     "metadata": {},
     "output_type": "display_data"
    },
    {
     "data": {
      "image/png": "[encoded data removed]",
      "text/plain": [
       "plot without title"
      ]
     },
     "metadata": {},
     "output_type": "display_data"
    }
   ],
   "source": [
    "#Boxplot\n",
    "library(ggplot2)\n",
    "options(repr.plot.width=6, repr.plot.height=4)\n",
    "plot<-data.frame(correlation=as.vector(t(all_acc)),\n",
    "                 no_of_sample=as.factor(rep(n.sample,each = n.fold*repeats)))\n",
    "p <- ggplot(plot, aes(x=no_of_sample, y=correlation))+\n",
    "     geom_boxplot()+\n",
    "     labs(x = \"Size of reference population\",y=\"Accuracy of GP\")+\n",
    "     theme(legend.position=\"none\",\n",
    "           axis.text.y=element_text(size=10),\n",
    "           axis.text.x=element_text(size=10),\n",
    "           text=element_text(size=10, \n",
    "           family=\"serif\"))\n",
    "p"
   ]
  },
  {
   "cell_type": "code",
   "execution_count": 57,
   "metadata": {},
   "outputs": [
    {
     "data": {},
     "metadata": {},
     "output_type": "display_data"
    },
    {
     "data": {
      "text/html": [
       "<strong>png:</strong> 2"
      ],
      "text/latex": [
       "\\textbf{png:} 2"
      ],
      "text/markdown": [
       "**png:** 2"
      ],
      "text/plain": [
       "png \n",
       "  2 "
      ]
     },
     "metadata": {},
     "output_type": "display_data"
    }
   ],
   "source": [
    "# Save\n",
    "png(\"2.1 Size of reference population.png\", width=6, height=4, units=\"in\", res=300)\n",
    "p\n",
    "dev.off()"
   ]
  },
  {
   "cell_type": "code",
   "execution_count": 46,
   "metadata": {
    "scrolled": true
   },
   "outputs": [
    {
     "data": {
      "text/html": [
       "<table>\n",
       "<thead><tr><th scope=col>no_of_sample</th><th scope=col>acc_mean</th><th scope=col>acc_se</th></tr></thead>\n",
       "<tbody>\n",
       "\t<tr><td> 240       </td><td>0.4388824  </td><td>0.030182497</td></tr>\n",
       "\t<tr><td> 500       </td><td>0.5348484  </td><td>0.022595243</td></tr>\n",
       "\t<tr><td> 750       </td><td>0.4809595  </td><td>0.021344959</td></tr>\n",
       "\t<tr><td>1000       </td><td>0.5497540  </td><td>0.012919789</td></tr>\n",
       "\t<tr><td>1250       </td><td>0.5697551  </td><td>0.011575666</td></tr>\n",
       "\t<tr><td>1500       </td><td>0.5655269  </td><td>0.009653200</td></tr>\n",
       "\t<tr><td>1750       </td><td>0.5927709  </td><td>0.008615323</td></tr>\n",
       "\t<tr><td>2000       </td><td>0.5873600  </td><td>0.008948373</td></tr>\n",
       "</tbody>\n",
       "</table>\n"
      ],
      "text/latex": [
       "\\begin{tabular}{r|lll}\n",
       " no\\_of\\_sample & acc\\_mean & acc\\_se\\\\\n",
       "\\hline\n",
       "\t  240        & 0.4388824   & 0.030182497\\\\\n",
       "\t  500        & 0.5348484   & 0.022595243\\\\\n",
       "\t  750        & 0.4809595   & 0.021344959\\\\\n",
       "\t 1000        & 0.5497540   & 0.012919789\\\\\n",
       "\t 1250        & 0.5697551   & 0.011575666\\\\\n",
       "\t 1500        & 0.5655269   & 0.009653200\\\\\n",
       "\t 1750        & 0.5927709   & 0.008615323\\\\\n",
       "\t 2000        & 0.5873600   & 0.008948373\\\\\n",
       "\\end{tabular}\n"
      ],
      "text/markdown": [
       "\n",
       "no_of_sample | acc_mean | acc_se | \n",
       "|---|---|---|---|---|---|---|---|\n",
       "|  240        | 0.4388824   | 0.030182497 | \n",
       "|  500        | 0.5348484   | 0.022595243 | \n",
       "|  750        | 0.4809595   | 0.021344959 | \n",
       "| 1000        | 0.5497540   | 0.012919789 | \n",
       "| 1250        | 0.5697551   | 0.011575666 | \n",
       "| 1500        | 0.5655269   | 0.009653200 | \n",
       "| 1750        | 0.5927709   | 0.008615323 | \n",
       "| 2000        | 0.5873600   | 0.008948373 | \n",
       "\n",
       "\n"
      ],
      "text/plain": [
       "  no_of_sample acc_mean  acc_se     \n",
       "1  240         0.4388824 0.030182497\n",
       "2  500         0.5348484 0.022595243\n",
       "3  750         0.4809595 0.021344959\n",
       "4 1000         0.5497540 0.012919789\n",
       "5 1250         0.5697551 0.011575666\n",
       "6 1500         0.5655269 0.009653200\n",
       "7 1750         0.5927709 0.008615323\n",
       "8 2000         0.5873600 0.008948373"
      ]
     },
     "metadata": {},
     "output_type": "display_data"
    }
   ],
   "source": [
    "#caculate the mean and se of accuracy of GP\n",
    "cal_se<-function(acc){sd(acc)/sqrt(repeats-1)}\n",
    "(sum<-data.frame(no_of_sample=n.sample,\n",
    "                 acc_mean = apply(all_acc, 1, mean),\n",
    "                 acc_se = apply(all_acc, 1, cal_se)))"
   ]
  },
  {
   "cell_type": "code",
   "execution_count": 47,
   "metadata": {},
   "outputs": [],
   "source": [
    "#save to xlsx file\n",
    "library(\"xlsx\")\n",
    "write.xlsx(sum, \"2_1.xlsx\") "
   ]
  },
  {
   "cell_type": "code",
   "execution_count": null,
   "metadata": {},
   "outputs": [],
   "source": []
  }
 ],
 "metadata": {
  "kernelspec": {
   "display_name": "R",
   "language": "R",
   "name": "ir"
  },
  "language_info": {
   "codemirror_mode": "r",
   "file_extension": ".r",
   "mimetype": "text/x-r-source",
   "name": "R",
   "pygments_lexer": "r",
   "version": "3.5.1"
  }
 },
 "nbformat": 4,
 "nbformat_minor": 2
}
