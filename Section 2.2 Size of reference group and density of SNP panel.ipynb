{
 "cells": [
  {
   "cell_type": "markdown",
   "metadata": {},
   "source": [
    "# Section 2.2 Size of reference group and density of SNP panel"
   ]
  },
  {
   "cell_type": "code",
   "execution_count": 2,
   "metadata": {},
   "outputs": [
    {
     "name": "stderr",
     "output_type": "stream",
     "text": [
      "(\"|-----------------------------------------------------|\")\n",
      "(\"|                      xbreed                         |\")\n",
      "(\"|    Genomic simulation of purebreds and crossbreds   |\")\n",
      "(\"|               March 2017 Version 1.0.1              |\")\n",
      "(\"|                                                     |\")\n",
      "(\"|             H.Esfandyari,A.C.Sorensen               |\")\n",
      "(\"| Center for Quantitative Qenetics and Genomics (QGG) |\")\n",
      "(\"|             Aarhus University,Denmark               |\")\n",
      "(\"|                                                     |\")\n",
      "(\"|-----------------------------------------------------|\")\n",
      "(\"|Questions and bugs: esfandyari.hadi@gmail.com        |\")\n",
      "(\"|Development of xbreed was supported by GenSAP.       |\")\n",
      "(\"|-----------------------------------------------------|\")\n"
     ]
    }
   ],
   "source": [
    "## Package was modified to allow complete cross mating\n",
    "# library(\"devtools\")\n",
    "# install_github(\"gglinzijie/xbreed\",ref=\"master\")\n",
    "library(\"xbreed\")"
   ]
  },
  {
   "cell_type": "markdown",
   "metadata": {},
   "source": [
    "# Genome specification"
   ]
  },
  {
   "cell_type": "code",
   "execution_count": 3,
   "metadata": {},
   "outputs": [
    {
     "data": {
      "text/html": [
       "3928"
      ],
      "text/latex": [
       "3928"
      ],
      "text/markdown": [
       "3928"
      ],
      "text/plain": [
       "[1] 3928"
      ]
     },
     "metadata": {},
     "output_type": "display_data"
    }
   ],
   "source": [
    "# Number of markers per chr from chapter 1\n",
    "lin_map<-read.table(\"raw.map\")\n",
    "m=1:22\n",
    "for(i in 1:22) {m[i]=dim(lin_map[lin_map$V1==i,])[1]}\n",
    "sum(m)"
   ]
  },
  {
   "cell_type": "code",
   "execution_count": 4,
   "metadata": {},
   "outputs": [],
   "source": [
    "# Data from chaptre 1\n",
    "geno<-read.table(\"Hetero_realigned_cov10_filtered3.raw\")\n",
    "pheno<-read.csv(\"2017heteroPheno.csv\", header=T)\n",
    "attach(pheno)"
   ]
  },
  {
   "cell_type": "code",
   "execution_count": 6,
   "metadata": {},
   "outputs": [],
   "source": [
    "#parameter of genome\n",
    "no.chr<-22\n",
    "genome<-data.frame(matrix(NA, nrow=no.chr, ncol=6))\n",
    "names(genome)<-c(\"chr\",\"len\",\"nmrk\",\"mpos\",\"nqtl\",\"qpos\")\n",
    "genome$chr<-c(1:no.chr) #Chromosome id from 1 to 22\n",
    "genome$len<-c(200,rep(100,21))#Chromosome length in cM\n",
    "genome$nmrk<-c(2*m) #Number of markers, 3*3928 in total \n",
    "genome$mpos<-c('even') \n",
    "genome$nqtl<-c(40) #Number of qtl  40*22 = 880 in total\n",
    "genome$qpos<-c('rnd')"
   ]
  },
  {
   "cell_type": "markdown",
   "metadata": {},
   "source": [
    "# Historiacal population"
   ]
  },
  {
   "cell_type": "code",
   "execution_count": 7,
   "metadata": {},
   "outputs": [
    {
     "name": "stdout",
     "output_type": "stream",
     "text": [
      "---sel_seq_qtl is missing, it has been set to default value of 0\n",
      "---sel_seq_mrk is missing, it has been set to default value of 0\n",
      "Historical pop is initialized...\n",
      "Simulating trait ...\n",
      "Output data preparation ...\n",
      "Establishment of historical population completed\n"
     ]
    }
   ],
   "source": [
    "# Historical population \n",
    "hp<-make_hp(hpsize=1000 ,ng=5000,h2=0.654,d2=0,phen_var=84,\n",
    "            genome=genome,mutr=2.5*10**-4,laf=1)"
   ]
  },
  {
   "cell_type": "code",
   "execution_count": 8,
   "metadata": {},
   "outputs": [
    {
     "data": {
      "text/html": [
       "0.333333333333333"
      ],
      "text/latex": [
       "0.333333333333333"
      ],
      "text/markdown": [
       "0.333333333333333"
      ],
      "text/plain": [
       "[1] 0.3333333"
      ]
     },
     "metadata": {},
     "output_type": "display_data"
    },
    {
     "data": {
      "text/html": [
       "0.397436322900194"
      ],
      "text/latex": [
       "0.397436322900194"
      ],
      "text/markdown": [
       "0.397436322900194"
      ],
      "text/plain": [
       "[1] 0.3974363"
      ]
     },
     "metadata": {},
     "output_type": "display_data"
    }
   ],
   "source": [
    "# validation\n",
    "mutr<-2.5*10**-4\n",
    "ne<-1000\n",
    "k<-2 \n",
    "Fneu<-4*ne*mutr\n",
    "(Expected_het1<-1-((1+((Fneu)/(k-1)))/(1+((Fneu*k)/(k-1)))))\n",
    "(het_observed<-mean(2*(hp$freqMrk[,3]*hp$freqMrk[,4])))"
   ]
  },
  {
   "cell_type": "code",
   "execution_count": 9,
   "metadata": {},
   "outputs": [],
   "source": [
    "Male_founders<-data.frame(number=10,select='rnd')\n",
    "Female_founders<-data.frame(number=10,select='rnd')"
   ]
  },
  {
   "cell_type": "code",
   "execution_count": 10,
   "metadata": {},
   "outputs": [],
   "source": [
    "Selection<-data.frame(matrix(NA, nrow=2, ncol=3))\n",
    "names(Selection)<-c('Number','type','Value') \n",
    "Selection$Number[1:2]<-c(10,10)\n",
    "Selection$type[1:2]<-c('rnd','rnd')\n",
    "Selection$Value[1:2]<-c('l','l')"
   ]
  },
  {
   "cell_type": "code",
   "execution_count": 11,
   "metadata": {},
   "outputs": [],
   "source": [
    "sh_output<-data.frame(matrix(NA, nrow=1, ncol=4))\n",
    "names(sh_output)<-c(\"data\",\"qtl\",\"freq_mrk\",\"marker\")\n",
    "sh_output[1]<-c(1) \n",
    "sh_output[2]<-c(1) \n",
    "sh_output[3]<-c(1)\n",
    "sh_output[4]<-c(1)"
   ]
  },
  {
   "cell_type": "code",
   "execution_count": 12,
   "metadata": {},
   "outputs": [
    {
     "data": {
      "text/html": [
       "<table>\n",
       "<thead><tr><th></th><th scope=col>used</th><th scope=col>(Mb)</th><th scope=col>gc trigger</th><th scope=col>(Mb)</th><th scope=col>max used</th><th scope=col>(Mb)</th></tr></thead>\n",
       "<tbody>\n",
       "\t<tr><th scope=row>Ncells</th><td> 1662876 </td><td> 88.9    </td><td>  8263554</td><td> 441.4   </td><td> 16397037</td><td> 875.7   </td></tr>\n",
       "\t<tr><th scope=row>Vcells</th><td>70005025 </td><td>534.1    </td><td>271083004</td><td>2068.2   </td><td>338853250</td><td>2585.3   </td></tr>\n",
       "</tbody>\n",
       "</table>\n"
      ],
      "text/latex": [
       "\\begin{tabular}{r|llllll}\n",
       "  & used & (Mb) & gc trigger & (Mb) & max used & (Mb)\\\\\n",
       "\\hline\n",
       "\tNcells &  1662876  &  88.9     &   8263554 &  441.4    &  16397037 &  875.7   \\\\\n",
       "\tVcells & 70005025  & 534.1     & 271083004 & 2068.2    & 338853250 & 2585.3   \\\\\n",
       "\\end{tabular}\n"
      ],
      "text/markdown": [
       "\n",
       "| <!--/--> | used | (Mb) | gc trigger | (Mb) | max used | (Mb) | \n",
       "|---|---|\n",
       "| Ncells |  1662876  |  88.9     |   8263554 |  441.4    |  16397037 |  875.7    | \n",
       "| Vcells | 70005025  | 534.1     | 271083004 | 2068.2    | 338853250 | 2585.3    | \n",
       "\n",
       "\n"
      ],
      "text/plain": [
       "       used     (Mb)  gc trigger (Mb)   max used  (Mb)  \n",
       "Ncells  1662876  88.9   8263554   441.4  16397037  875.7\n",
       "Vcells 70005025 534.1 271083004  2068.2 338853250 2585.3"
      ]
     },
     "metadata": {},
     "output_type": "display_data"
    }
   ],
   "source": [
    "gc()"
   ]
  },
  {
   "cell_type": "code",
   "execution_count": 13,
   "metadata": {
    "scrolled": true
   },
   "outputs": [
    {
     "name": "stdout",
     "output_type": "stream",
     "text": [
      "Controlling input data ...\n",
      "Intializing base population ...\n",
      "Generation 0 started ......... \n",
      "Generation 0 is finished. Time taken: 20.60635\n",
      "Generation 1 started ......... \n",
      "Generation 1 is finished. Time taken: 23.98873\n",
      "Output data preparation ...\n",
      "Writing output files ...\n",
      "Sampling hp is done!\n"
     ]
    }
   ],
   "source": [
    "# 10 sires and 10 dams perform full diallel cressing to produce 10*10*15 = 1,500 progenies.\n",
    "RP<-sample_hp(hp_out=hp,Male_founders= Male_founders,\n",
    "              Female_founders=Female_founders,ng=1,Selection=Selection, \n",
    "              litter_size=15,saveAt=\"SNP3928\",sh_output=sh_output,Display=FALSE)"
   ]
  },
  {
   "cell_type": "code",
   "execution_count": 14,
   "metadata": {},
   "outputs": [],
   "source": [
    "# Function for calculate the allele coding, which is 0, 1, 2\n",
    "bin_snp<-function(mat){\n",
    "s1<-seq(1,ncol(mat),2)\n",
    "s2<-seq(2,ncol(mat),2)\n",
    "a1<-mat[,s1]+mat[,s2]\n",
    "a1[a1==3]=1\n",
    "a1[a1==4]=0\n",
    "snp_code<-a1\n",
    "return(snp_code)\n",
    " }"
   ]
  },
  {
   "cell_type": "code",
   "execution_count": 15,
   "metadata": {},
   "outputs": [],
   "source": [
    "# Genotypes and phenotypes from simulated data\n",
    "pheno<-RP$output[[2]]$data$phen\n",
    "n<-bin_snp(RP$output[[2]]$mrk[,3:15714])\n",
    "x<-as.matrix(n)-1\n",
    "data <- data.frame(tbcw=pheno,gid=1:1500)"
   ]
  },
  {
   "cell_type": "code",
   "execution_count": 16,
   "metadata": {},
   "outputs": [
    {
     "name": "stderr",
     "output_type": "stream",
     "text": [
      "Loading required package: foreach\n",
      "Loading required package: iterators\n",
      "Loading required package: parallel\n"
     ]
    },
    {
     "data": {
      "text/plain": [
       "[1] '4.6'"
      ]
     },
     "metadata": {},
     "output_type": "display_data"
    }
   ],
   "source": [
    "##load packages\n",
    "library(doParallel)\n",
    "library(foreach)\n",
    "cl<-makeCluster(8) \n",
    "repeats <- 10\n",
    "n.fold <- 5 \n",
    "acc<-list()\n",
    "library(rrBLUP)\n",
    "packageVersion(\"rrBLUP\") "
   ]
  },
  {
   "cell_type": "code",
   "execution_count": 139,
   "metadata": {},
   "outputs": [],
   "source": [
    "# Function for calculating the accuracy of GP with \n",
    "# varying size of reference group and varying denstiy of SNP panel\n",
    "cal_acc<-function(x,n.sample,n.snp){\n",
    "set.seed(1)\n",
    "id<-sample(1:dim(x)[1],n.sample)\n",
    "snpId<-sample(1:dim(x)[2],n.snp)\n",
    "#relationship matrix (Endelman at al. 2011)\n",
    "A <- A.mat(x[id,snpId], n.core=8)\n",
    "row.names(A)=1:n.sample;colnames(A)=1:n.sample\n",
    "data <- data.frame(tbcw=pheno[id],gid=1:n.sample)\n",
    "registerDoParallel(cl)\n",
    "GBLUP<-foreach(j=1:repeats,.combine = \"rbind\") %do% {\n",
    "        set.seed(100+3*j+1)\n",
    "        id <- sample(1:n.sample %% n.fold) + 1 \n",
    "        foreach(i=1:n.fold,.packages=\"rrBLUP\") %do% {\n",
    "         bcw_test <- data\n",
    "         bcw_test$tbcw[id == i] <- NA\n",
    "         res <- kin.blup(bcw_test, K=A, geno=\"gid\", pheno=\"tbcw\")\n",
    "         cor(data$tbcw[id==i],res$pred[id==i])\n",
    "    }\n",
    "   }\n",
    "stopImplicitCluster()\n",
    "acc<-unlist(GBLUP)\n",
    "return(acc)\n",
    "}"
   ]
  },
  {
   "cell_type": "code",
   "execution_count": 140,
   "metadata": {},
   "outputs": [],
   "source": [
    "sum_m<-sum(m)\n",
    "n.snp<-rep(c(round(0.2*sum_m), \n",
    "             round(0.4*sum_m),\n",
    "             round(0.6*sum_m),\n",
    "             round(0.8*sum_m),\n",
    "             sum_m,\n",
    "             round(1.2*sum_m),\n",
    "             round(1.4*sum_m),\n",
    "             round(1.6*sum_m),\n",
    "             round(1.8*sum_m),\n",
    "             round(2.0*sum_m)),each=4)             \n",
    "n.sample<-rep(c(250,500,750,1000),10)\n",
    "pair<-data.frame(n.snp=n.snp,n.sample=n.sample)"
   ]
  },
  {
   "cell_type": "code",
   "execution_count": 141,
   "metadata": {},
   "outputs": [],
   "source": [
    "#implemente the caculation \n",
    "all_acc<-matrix(NA,nrow = length(n.sample),ncol = repeats*n.fold)\n",
    "for (i in 1:length(n.sample)){\n",
    "    all_acc[i,]<-cal_acc(x,n.sample[i],n.snp[i])}"
   ]
  },
  {
   "cell_type": "code",
   "execution_count": null,
   "metadata": {},
   "outputs": [],
   "source": [
    "plot<-data.frame(correlation=as.vector(t(all_acc)),\n",
    "                 no_of_sample=as.factor(rep(n.sample,each = n.fold*repeats)),\n",
    "                 n.snp=as.factor(rep(n.snp,each = n.fold*repeats)))\n",
    "library(\"xlsx\")\n",
    "write.xlsx(plot, \"2_2plot.xlsx\") "
   ]
  },
  {
   "cell_type": "code",
   "execution_count": 38,
   "metadata": {},
   "outputs": [],
   "source": [
    "#Boxplot\n",
    "library(ggplot2)\n",
    "options(repr.plot.width=8, repr.plot.height=4)\n",
    "p <- ggplot(plot, aes(x=n.snp, y=correlation,fill=no_of_sample)) + \n",
    "     geom_boxplot()+\n",
    "     scale_fill_manual(values=c(\"red\", \"blue\",\"limegreen\",\"purple\"),\n",
    "                       name=\"Size of \\n Reference\\n Group\")+\n",
    "     labs(x = \"Density of SNP Panel\",y=\"Accuracy of GP\")+\n",
    "     theme(axis.text.y= element_text(size = rel(1.2)),\n",
    "           axis.text.x = element_text(size = rel(1.2)),\n",
    "           text=element_text(size=10, family=\"serif\"))"
   ]
  },
  {
   "cell_type": "code",
   "execution_count": 19,
   "metadata": {},
   "outputs": [],
   "source": [
    "library(\"readxl\")\n",
    "plot<-read_excel(\"2_2plot.xlsx\")"
   ]
  },
  {
   "cell_type": "code",
   "execution_count": 37,
   "metadata": {},
   "outputs": [],
   "source": [
    "plot$no_of_sample<-factor(plot$no_of_sample,levels = c(250,500,750,1000))"
   ]
  },
  {
   "cell_type": "code",
   "execution_count": 39,
   "metadata": {},
   "outputs": [
    {
     "data": {},
     "metadata": {},
     "output_type": "display_data"
    },
    {
     "data": {
      "image/png": "[encoded data removed]",
      "text/plain": [
       "plot without title"
      ]
     },
     "metadata": {},
     "output_type": "display_data"
    }
   ],
   "source": [
    "p"
   ]
  },
  {
   "cell_type": "code",
   "execution_count": 40,
   "metadata": {},
   "outputs": [
    {
     "data": {},
     "metadata": {},
     "output_type": "display_data"
    },
    {
     "data": {
      "text/html": [
       "<strong>png:</strong> 2"
      ],
      "text/latex": [
       "\\textbf{png:} 2"
      ],
      "text/markdown": [
       "**png:** 2"
      ],
      "text/plain": [
       "png \n",
       "  2 "
      ]
     },
     "metadata": {},
     "output_type": "display_data"
    }
   ],
   "source": [
    "png(\"2.2 Density of SNP panel.png\", width=8, height=4, units=\"in\", res=300)\n",
    "p\n",
    "dev.off()"
   ]
  },
  {
   "cell_type": "code",
   "execution_count": 150,
   "metadata": {},
   "outputs": [
    {
     "data": {
      "text/html": [
       "<table>\n",
       "<thead><tr><th scope=col>n.snp</th><th scope=col>no_of_sample</th><th scope=col>acc_mean</th><th scope=col>acc_se</th></tr></thead>\n",
       "<tbody>\n",
       "\t<tr><td> 786 </td><td> 250 </td><td>0.607</td><td>0.028</td></tr>\n",
       "\t<tr><td> 786 </td><td> 500 </td><td>0.600</td><td>0.017</td></tr>\n",
       "\t<tr><td> 786 </td><td> 750 </td><td>0.622</td><td>0.016</td></tr>\n",
       "\t<tr><td> 786 </td><td>1000 </td><td>0.621</td><td>0.015</td></tr>\n",
       "\t<tr><td>1571 </td><td> 250 </td><td>0.585</td><td>0.029</td></tr>\n",
       "\t<tr><td>1571 </td><td> 500 </td><td>0.619</td><td>0.017</td></tr>\n",
       "\t<tr><td>1571 </td><td> 750 </td><td>0.628</td><td>0.016</td></tr>\n",
       "\t<tr><td>1571 </td><td>1000 </td><td>0.635</td><td>0.015</td></tr>\n",
       "\t<tr><td>2357 </td><td> 250 </td><td>0.589</td><td>0.029</td></tr>\n",
       "\t<tr><td>2357 </td><td> 500 </td><td>0.625</td><td>0.016</td></tr>\n",
       "\t<tr><td>2357 </td><td> 750 </td><td>0.628</td><td>0.016</td></tr>\n",
       "\t<tr><td>2357 </td><td>1000 </td><td>0.643</td><td>0.014</td></tr>\n",
       "\t<tr><td>3142 </td><td> 250 </td><td>0.587</td><td>0.030</td></tr>\n",
       "\t<tr><td>3142 </td><td> 500 </td><td>0.630</td><td>0.016</td></tr>\n",
       "\t<tr><td>3142 </td><td> 750 </td><td>0.634</td><td>0.016</td></tr>\n",
       "\t<tr><td>3142 </td><td>1000 </td><td>0.649</td><td>0.014</td></tr>\n",
       "\t<tr><td>3928 </td><td> 250 </td><td>0.586</td><td>0.030</td></tr>\n",
       "\t<tr><td>3928 </td><td> 500 </td><td>0.630</td><td>0.016</td></tr>\n",
       "\t<tr><td>3928 </td><td> 750 </td><td>0.634</td><td>0.016</td></tr>\n",
       "\t<tr><td>3928 </td><td>1000 </td><td>0.651</td><td>0.014</td></tr>\n",
       "\t<tr><td>4714 </td><td> 250 </td><td>0.584</td><td>0.031</td></tr>\n",
       "\t<tr><td>4714 </td><td> 500 </td><td>0.627</td><td>0.016</td></tr>\n",
       "\t<tr><td>4714 </td><td> 750 </td><td>0.637</td><td>0.015</td></tr>\n",
       "\t<tr><td>4714 </td><td>1000 </td><td>0.651</td><td>0.014</td></tr>\n",
       "\t<tr><td>5499 </td><td> 250 </td><td>0.581</td><td>0.030</td></tr>\n",
       "\t<tr><td>5499 </td><td> 500 </td><td>0.627</td><td>0.015</td></tr>\n",
       "\t<tr><td>5499 </td><td> 750 </td><td>0.637</td><td>0.015</td></tr>\n",
       "\t<tr><td>5499 </td><td>1000 </td><td>0.653</td><td>0.014</td></tr>\n",
       "\t<tr><td>6285 </td><td> 250 </td><td>0.580</td><td>0.031</td></tr>\n",
       "\t<tr><td>6285 </td><td> 500 </td><td>0.625</td><td>0.016</td></tr>\n",
       "\t<tr><td>6285 </td><td> 750 </td><td>0.639</td><td>0.015</td></tr>\n",
       "\t<tr><td>6285 </td><td>1000 </td><td>0.656</td><td>0.014</td></tr>\n",
       "\t<tr><td>7070 </td><td> 250 </td><td>0.588</td><td>0.030</td></tr>\n",
       "\t<tr><td>7070 </td><td> 500 </td><td>0.624</td><td>0.016</td></tr>\n",
       "\t<tr><td>7070 </td><td> 750 </td><td>0.639</td><td>0.015</td></tr>\n",
       "\t<tr><td>7070 </td><td>1000 </td><td>0.659</td><td>0.014</td></tr>\n",
       "\t<tr><td>7856 </td><td> 250 </td><td>0.584</td><td>0.030</td></tr>\n",
       "\t<tr><td>7856 </td><td> 500 </td><td>0.626</td><td>0.016</td></tr>\n",
       "\t<tr><td>7856 </td><td> 750 </td><td>0.640</td><td>0.016</td></tr>\n",
       "\t<tr><td>7856 </td><td>1000 </td><td>0.658</td><td>0.014</td></tr>\n",
       "</tbody>\n",
       "</table>\n"
      ],
      "text/latex": [
       "\\begin{tabular}{r|llll}\n",
       " n.snp & no\\_of\\_sample & acc\\_mean & acc\\_se\\\\\n",
       "\\hline\n",
       "\t  786  &  250  & 0.607 & 0.028\\\\\n",
       "\t  786  &  500  & 0.600 & 0.017\\\\\n",
       "\t  786  &  750  & 0.622 & 0.016\\\\\n",
       "\t  786  & 1000  & 0.621 & 0.015\\\\\n",
       "\t 1571  &  250  & 0.585 & 0.029\\\\\n",
       "\t 1571  &  500  & 0.619 & 0.017\\\\\n",
       "\t 1571  &  750  & 0.628 & 0.016\\\\\n",
       "\t 1571  & 1000  & 0.635 & 0.015\\\\\n",
       "\t 2357  &  250  & 0.589 & 0.029\\\\\n",
       "\t 2357  &  500  & 0.625 & 0.016\\\\\n",
       "\t 2357  &  750  & 0.628 & 0.016\\\\\n",
       "\t 2357  & 1000  & 0.643 & 0.014\\\\\n",
       "\t 3142  &  250  & 0.587 & 0.030\\\\\n",
       "\t 3142  &  500  & 0.630 & 0.016\\\\\n",
       "\t 3142  &  750  & 0.634 & 0.016\\\\\n",
       "\t 3142  & 1000  & 0.649 & 0.014\\\\\n",
       "\t 3928  &  250  & 0.586 & 0.030\\\\\n",
       "\t 3928  &  500  & 0.630 & 0.016\\\\\n",
       "\t 3928  &  750  & 0.634 & 0.016\\\\\n",
       "\t 3928  & 1000  & 0.651 & 0.014\\\\\n",
       "\t 4714  &  250  & 0.584 & 0.031\\\\\n",
       "\t 4714  &  500  & 0.627 & 0.016\\\\\n",
       "\t 4714  &  750  & 0.637 & 0.015\\\\\n",
       "\t 4714  & 1000  & 0.651 & 0.014\\\\\n",
       "\t 5499  &  250  & 0.581 & 0.030\\\\\n",
       "\t 5499  &  500  & 0.627 & 0.015\\\\\n",
       "\t 5499  &  750  & 0.637 & 0.015\\\\\n",
       "\t 5499  & 1000  & 0.653 & 0.014\\\\\n",
       "\t 6285  &  250  & 0.580 & 0.031\\\\\n",
       "\t 6285  &  500  & 0.625 & 0.016\\\\\n",
       "\t 6285  &  750  & 0.639 & 0.015\\\\\n",
       "\t 6285  & 1000  & 0.656 & 0.014\\\\\n",
       "\t 7070  &  250  & 0.588 & 0.030\\\\\n",
       "\t 7070  &  500  & 0.624 & 0.016\\\\\n",
       "\t 7070  &  750  & 0.639 & 0.015\\\\\n",
       "\t 7070  & 1000  & 0.659 & 0.014\\\\\n",
       "\t 7856  &  250  & 0.584 & 0.030\\\\\n",
       "\t 7856  &  500  & 0.626 & 0.016\\\\\n",
       "\t 7856  &  750  & 0.640 & 0.016\\\\\n",
       "\t 7856  & 1000  & 0.658 & 0.014\\\\\n",
       "\\end{tabular}\n"
      ],
      "text/markdown": [
       "\n",
       "n.snp | no_of_sample | acc_mean | acc_se | \n",
       "|---|---|---|---|---|---|---|---|---|---|---|---|---|---|---|---|---|---|---|---|---|---|---|---|---|---|---|---|---|---|---|---|---|---|---|---|---|---|---|---|\n",
       "|  786  |  250  | 0.607 | 0.028 | \n",
       "|  786  |  500  | 0.600 | 0.017 | \n",
       "|  786  |  750  | 0.622 | 0.016 | \n",
       "|  786  | 1000  | 0.621 | 0.015 | \n",
       "| 1571  |  250  | 0.585 | 0.029 | \n",
       "| 1571  |  500  | 0.619 | 0.017 | \n",
       "| 1571  |  750  | 0.628 | 0.016 | \n",
       "| 1571  | 1000  | 0.635 | 0.015 | \n",
       "| 2357  |  250  | 0.589 | 0.029 | \n",
       "| 2357  |  500  | 0.625 | 0.016 | \n",
       "| 2357  |  750  | 0.628 | 0.016 | \n",
       "| 2357  | 1000  | 0.643 | 0.014 | \n",
       "| 3142  |  250  | 0.587 | 0.030 | \n",
       "| 3142  |  500  | 0.630 | 0.016 | \n",
       "| 3142  |  750  | 0.634 | 0.016 | \n",
       "| 3142  | 1000  | 0.649 | 0.014 | \n",
       "| 3928  |  250  | 0.586 | 0.030 | \n",
       "| 3928  |  500  | 0.630 | 0.016 | \n",
       "| 3928  |  750  | 0.634 | 0.016 | \n",
       "| 3928  | 1000  | 0.651 | 0.014 | \n",
       "| 4714  |  250  | 0.584 | 0.031 | \n",
       "| 4714  |  500  | 0.627 | 0.016 | \n",
       "| 4714  |  750  | 0.637 | 0.015 | \n",
       "| 4714  | 1000  | 0.651 | 0.014 | \n",
       "| 5499  |  250  | 0.581 | 0.030 | \n",
       "| 5499  |  500  | 0.627 | 0.015 | \n",
       "| 5499  |  750  | 0.637 | 0.015 | \n",
       "| 5499  | 1000  | 0.653 | 0.014 | \n",
       "| 6285  |  250  | 0.580 | 0.031 | \n",
       "| 6285  |  500  | 0.625 | 0.016 | \n",
       "| 6285  |  750  | 0.639 | 0.015 | \n",
       "| 6285  | 1000  | 0.656 | 0.014 | \n",
       "| 7070  |  250  | 0.588 | 0.030 | \n",
       "| 7070  |  500  | 0.624 | 0.016 | \n",
       "| 7070  |  750  | 0.639 | 0.015 | \n",
       "| 7070  | 1000  | 0.659 | 0.014 | \n",
       "| 7856  |  250  | 0.584 | 0.030 | \n",
       "| 7856  |  500  | 0.626 | 0.016 | \n",
       "| 7856  |  750  | 0.640 | 0.016 | \n",
       "| 7856  | 1000  | 0.658 | 0.014 | \n",
       "\n",
       "\n"
      ],
      "text/plain": [
       "   n.snp no_of_sample acc_mean acc_se\n",
       "1   786   250         0.607    0.028 \n",
       "2   786   500         0.600    0.017 \n",
       "3   786   750         0.622    0.016 \n",
       "4   786  1000         0.621    0.015 \n",
       "5  1571   250         0.585    0.029 \n",
       "6  1571   500         0.619    0.017 \n",
       "7  1571   750         0.628    0.016 \n",
       "8  1571  1000         0.635    0.015 \n",
       "9  2357   250         0.589    0.029 \n",
       "10 2357   500         0.625    0.016 \n",
       "11 2357   750         0.628    0.016 \n",
       "12 2357  1000         0.643    0.014 \n",
       "13 3142   250         0.587    0.030 \n",
       "14 3142   500         0.630    0.016 \n",
       "15 3142   750         0.634    0.016 \n",
       "16 3142  1000         0.649    0.014 \n",
       "17 3928   250         0.586    0.030 \n",
       "18 3928   500         0.630    0.016 \n",
       "19 3928   750         0.634    0.016 \n",
       "20 3928  1000         0.651    0.014 \n",
       "21 4714   250         0.584    0.031 \n",
       "22 4714   500         0.627    0.016 \n",
       "23 4714   750         0.637    0.015 \n",
       "24 4714  1000         0.651    0.014 \n",
       "25 5499   250         0.581    0.030 \n",
       "26 5499   500         0.627    0.015 \n",
       "27 5499   750         0.637    0.015 \n",
       "28 5499  1000         0.653    0.014 \n",
       "29 6285   250         0.580    0.031 \n",
       "30 6285   500         0.625    0.016 \n",
       "31 6285   750         0.639    0.015 \n",
       "32 6285  1000         0.656    0.014 \n",
       "33 7070   250         0.588    0.030 \n",
       "34 7070   500         0.624    0.016 \n",
       "35 7070   750         0.639    0.015 \n",
       "36 7070  1000         0.659    0.014 \n",
       "37 7856   250         0.584    0.030 \n",
       "38 7856   500         0.626    0.016 \n",
       "39 7856   750         0.640    0.016 \n",
       "40 7856  1000         0.658    0.014 "
      ]
     },
     "metadata": {},
     "output_type": "display_data"
    }
   ],
   "source": [
    "#caculate the mean and se of accuracy of GP\n",
    "cal_se<-function(acc){sd(acc)/sqrt(repeats-1)}\n",
    "(sum<-data.frame(n.snp=n.snp,\n",
    "                 no_of_sample=n.sample,\n",
    "                 acc_mean = apply(all_acc, 1, function(x) round(mean(x),3)),\n",
    "                 acc_se = apply(all_acc, 1, function(x) round(cal_se(x),3))))"
   ]
  },
  {
   "cell_type": "code",
   "execution_count": 151,
   "metadata": {},
   "outputs": [],
   "source": [
    "#save to xlsx file\n",
    "library(\"xlsx\")\n",
    "write.xlsx(sum, \"2_2.xlsx\") "
   ]
  },
  {
   "cell_type": "code",
   "execution_count": 41,
   "metadata": {},
   "outputs": [],
   "source": [
    "library(\"readxl\")\n",
    "sum<-read_excel(\"2_2.xlsx\")"
   ]
  },
  {
   "cell_type": "code",
   "execution_count": 43,
   "metadata": {},
   "outputs": [],
   "source": [
    "library(ggplot2)\n",
    "options(repr.plot.width=8, repr.plot.height=4)\n",
    "plot<-data.frame(acc_mean=sum$acc_mean,\n",
    "                 no_of_sample=as.factor(sum$no_of_sample),\n",
    "                 n.snp=as.factor(sum$n.snp),\n",
    "                 acc_se=sum$acc_se)\n",
    "p1 <- ggplot(plot, aes(x=n.snp, y=acc_mean,group=no_of_sample)) + \n",
    "       geom_line(aes(color=no_of_sample))+\n",
    "       geom_point(aes(color=no_of_sample))+    \n",
    "       labs(x = \"Number of SNP markers\",y=\"Accuracy of GP\") +\n",
    "       scale_colour_manual(values=c(\"red\", \"blue\",\"limegreen\",\"purple\"),\n",
    "                       name=\"Size of \\n reference \\n group\")+\n",
    "       theme(axis.text.y= element_text(size = rel(1.2)),\n",
    "             axis.text.x = element_text(size = rel(1.2)),\n",
    "                  text=element_text(size=10, family=\"serif\"))"
   ]
  },
  {
   "cell_type": "code",
   "execution_count": 44,
   "metadata": {},
   "outputs": [
    {
     "data": {},
     "metadata": {},
     "output_type": "display_data"
    },
    {
     "data": {
      "image/png": "[encoded data removed]",
      "text/plain": [
       "plot without title"
      ]
     },
     "metadata": {},
     "output_type": "display_data"
    }
   ],
   "source": [
    "p1"
   ]
  },
  {
   "cell_type": "code",
   "execution_count": 45,
   "metadata": {},
   "outputs": [
    {
     "data": {},
     "metadata": {},
     "output_type": "display_data"
    },
    {
     "data": {
      "text/html": [
       "<strong>png:</strong> 2"
      ],
      "text/latex": [
       "\\textbf{png:} 2"
      ],
      "text/markdown": [
       "**png:** 2"
      ],
      "text/plain": [
       "png \n",
       "  2 "
      ]
     },
     "metadata": {},
     "output_type": "display_data"
    }
   ],
   "source": [
    "png(\"2.2.2 Density of SNP panel.png\", width=8, height=4, units=\"in\", res=300)\n",
    "p1\n",
    "dev.off()"
   ]
  },
  {
   "cell_type": "code",
   "execution_count": null,
   "metadata": {},
   "outputs": [],
   "source": []
  }
 ],
 "metadata": {
  "kernelspec": {
   "display_name": "R",
   "language": "R",
   "name": "ir"
  },
  "language_info": {
   "codemirror_mode": "r",
   "file_extension": ".r",
   "mimetype": "text/x-r-source",
   "name": "R",
   "pygments_lexer": "r",
   "version": "3.5.1"
  }
 },
 "nbformat": 4,
 "nbformat_minor": 2
}
