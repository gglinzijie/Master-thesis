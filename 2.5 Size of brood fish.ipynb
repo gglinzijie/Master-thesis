{
 "cells": [
  {
   "cell_type": "code",
   "execution_count": 1,
   "metadata": {},
   "outputs": [
    {
     "data": {
      "text/html": [
       "'windows'"
      ],
      "text/latex": [
       "'windows'"
      ],
      "text/markdown": [
       "'windows'"
      ],
      "text/plain": [
       "[1] \"windows\""
      ]
     },
     "metadata": {},
     "output_type": "display_data"
    },
    {
     "data": {
      "text/html": [
       "'R version 3.5.1 (2018-07-02)'"
      ],
      "text/latex": [
       "'R version 3.5.1 (2018-07-02)'"
      ],
      "text/markdown": [
       "'R version 3.5.1 (2018-07-02)'"
      ],
      "text/plain": [
       "[1] \"R version 3.5.1 (2018-07-02)\""
      ]
     },
     "metadata": {},
     "output_type": "display_data"
    },
    {
     "data": {
      "text/html": [
       "'Intel(R) Core(TM) i7-7700HQ CPU @ 2.80GHz'"
      ],
      "text/latex": [
       "'Intel(R) Core(TM) i7-7700HQ CPU @ 2.80GHz'"
      ],
      "text/markdown": [
       "'Intel(R) Core(TM) i7-7700HQ CPU @ 2.80GHz'"
      ],
      "text/plain": [
       "[1] \"Intel(R) Core(TM) i7-7700HQ CPU @ 2.80GHz\""
      ]
     },
     "metadata": {},
     "output_type": "display_data"
    },
    {
     "data": {
      "text/html": [
       "8"
      ],
      "text/latex": [
       "8"
      ],
      "text/markdown": [
       "8"
      ],
      "text/plain": [
       "[1] 8"
      ]
     },
     "metadata": {},
     "output_type": "display_data"
    },
    {
     "data": {
      "text/plain": [
       "8.59 GB"
      ]
     },
     "metadata": {},
     "output_type": "display_data"
    }
   ],
   "source": [
    "library(benchmarkme)\n",
    "get_platform_info()$OS.type\n",
    "get_r_version()$version.string\n",
    "get_cpu()$model_name;get_cpu()$no_of_cores\n",
    "get_ram()"
   ]
  },
  {
   "cell_type": "code",
   "execution_count": 2,
   "metadata": {},
   "outputs": [],
   "source": [
    "# Loading data\n",
    "geno <-read.table(\"./Hetero_realigned_cov10_filtered3.raw\", \n",
    "                  row.names=1, header=T)\n",
    "row.names(geno)=1:240"
   ]
  },
  {
   "cell_type": "markdown",
   "metadata": {},
   "source": [
    "## Number of SNPs for each chromosome"
   ]
  },
  {
   "cell_type": "code",
   "execution_count": 3,
   "metadata": {},
   "outputs": [],
   "source": [
    "# Position data\n",
    "lin_map<-read.table(\"raw.map\")\n",
    "m<-1:22; chr<-1:22\n",
    "for(i in chr) {m[i]=dim(lin_map[lin_map$V1==i,])[1]}"
   ]
  },
  {
   "cell_type": "markdown",
   "metadata": {},
   "source": [
    "## Simulator"
   ]
  },
  {
   "cell_type": "code",
   "execution_count": 4,
   "metadata": {},
   "outputs": [
    {
     "name": "stderr",
     "output_type": "stream",
     "text": [
      "(\"|-----------------------------------------------------|\")\n",
      "(\"|                      xbreed                         |\")\n",
      "(\"|    Genomic simulation of purebreds and crossbreds   |\")\n",
      "(\"|               March 2017 Version 1.0.1              |\")\n",
      "(\"|                                                     |\")\n",
      "(\"|             H.Esfandyari,A.C.Sorensen               |\")\n",
      "(\"| Center for Quantitative Qenetics and Genomics (QGG) |\")\n",
      "(\"|             Aarhus University,Denmark               |\")\n",
      "(\"|                                                     |\")\n",
      "(\"|-----------------------------------------------------|\")\n",
      "(\"|Questions and bugs: esfandyari.hadi@gmail.com        |\")\n",
      "(\"|Development of xbreed was supported by GenSAP.       |\")\n",
      "(\"|-----------------------------------------------------|\")\n"
     ]
    }
   ],
   "source": [
    "# Modified xbreed\n",
    "# library(\"devtools\")\n",
    "# install_github(\"gglinzijie/xbreed\",force=TRUE)\n",
    "library(\"xbreed\")"
   ]
  },
  {
   "cell_type": "markdown",
   "metadata": {},
   "source": [
    "## Genome specification"
   ]
  },
  {
   "cell_type": "code",
   "execution_count": 5,
   "metadata": {},
   "outputs": [],
   "source": [
    "#parameter of genome\n",
    "genome<-data.frame(matrix(NA, nrow=22, ncol=6))\n",
    "names(genome)<-c(\"chr\",\"len\",\"nmrk\",\"mpos\",\"nqtl\",\"qpos\")\n",
    "genome$chr<-c(1:22) # Chromosome id from 1 to 22\n",
    "genome$len<-c(200,rep(100,21))# Chromosome length in cM\n",
    "genome$nmrk<-c(m) # Number of markers per chr, 3928 in total \n",
    "genome$mpos<-c('even') # Markers are evenly spaced\n",
    "genome$nqtl<-c(40) # Number of qtl  40*22 = 880 in total\n",
    "genome$qpos<-c('rnd') # Position of QTL are random."
   ]
  },
  {
   "cell_type": "markdown",
   "metadata": {},
   "source": [
    "## Build the historical (wild) population"
   ]
  },
  {
   "cell_type": "code",
   "execution_count": 6,
   "metadata": {},
   "outputs": [
    {
     "name": "stdout",
     "output_type": "stream",
     "text": [
      "---sel_seq_qtl is missing, it has been set to default value of 0\n",
      "---sel_seq_mrk is missing, it has been set to default value of 0\n",
      "Historical pop is initialized...\n",
      "Simulating trait ...\n",
      "Output data preparation ...\n",
      "Establishment of historical population completed\n"
     ]
    }
   ],
   "source": [
    "#Historical population \n",
    "hp<-make_hp(hpsize=1000 ,ng=5000,h2=0.654,d2=0,phen_var=84,\n",
    "            genome=genome,mutr=2.5*10**-4,laf=1)"
   ]
  },
  {
   "cell_type": "code",
   "execution_count": 7,
   "metadata": {},
   "outputs": [
    {
     "data": {
      "text/html": [
       "0.5"
      ],
      "text/latex": [
       "0.5"
      ],
      "text/markdown": [
       "0.5"
      ],
      "text/plain": [
       "[1] 0.5"
      ]
     },
     "metadata": {},
     "output_type": "display_data"
    },
    {
     "data": {
      "text/html": [
       "0.333333333333333"
      ],
      "text/latex": [
       "0.333333333333333"
      ],
      "text/markdown": [
       "0.333333333333333"
      ],
      "text/plain": [
       "[1] 0.3333333"
      ]
     },
     "metadata": {},
     "output_type": "display_data"
    },
    {
     "data": {
      "text/html": [
       "0.399721139378805"
      ],
      "text/latex": [
       "0.399721139378805"
      ],
      "text/markdown": [
       "0.399721139378805"
      ],
      "text/plain": [
       "[1] 0.3997211"
      ]
     },
     "metadata": {},
     "output_type": "display_data"
    }
   ],
   "source": [
    "# Expected Heterozygosity according to (Kimura and Crow 1964) \n",
    "mutr<-2.5*10**-4\n",
    "ne<-1000 \n",
    "k<-2 \n",
    "Fneu<-4*ne*mutr \n",
    "(Expected_het1<-Fneu/(1+Fneu))\n",
    "(Expected_het2<-1-((1+((Fneu)/(k-1)))/(1+((Fneu*k)/(k-1)))))\n",
    "(het_observed<-mean(2*(hp$freqMrk[,3]*hp$freqMrk[,4])))"
   ]
  },
  {
   "cell_type": "markdown",
   "metadata": {},
   "source": [
    "## General specification"
   ]
  },
  {
   "cell_type": "code",
   "execution_count": 8,
   "metadata": {},
   "outputs": [],
   "source": [
    "Male_founders<-data.frame(number=10,select='rnd')\n",
    "Female_founders<-data.frame(number=10,select='rnd')"
   ]
  },
  {
   "cell_type": "code",
   "execution_count": 9,
   "metadata": {},
   "outputs": [],
   "source": [
    "Selection<-data.frame(matrix(NA, nrow=2, ncol=3))\n",
    "names(Selection)<-c('Number','type','Value') \n",
    "Selection$Number[1:2]<-c(10,10)\n",
    "Selection$type[1:2]<-c('gebv','gebv')\n",
    "Selection$Value[1:2]<-c('l','l')"
   ]
  },
  {
   "cell_type": "code",
   "execution_count": 10,
   "metadata": {},
   "outputs": [],
   "source": [
    "# Training parameters for the estimation of marker effects. \n",
    "Training<-data.frame(matrix(NA, nrow=1, ncol=8))\n",
    "names(Training)<-c('size','sel','method','nIter','burnIn','thin','save','show')\n",
    "Training$size<-250\n",
    "Training$sel<-'rnd'\n",
    "Training$method<-'BayesC'\n",
    "Training$nIter<-2000\n",
    "Training$burnIn<-1000 \n",
    "Training$thin<-5 \n",
    "Training$save<-'bayes'\n",
    "Training$show<-FALSE"
   ]
  },
  {
   "cell_type": "code",
   "execution_count": 11,
   "metadata": {},
   "outputs": [],
   "source": [
    "sh_output<-data.frame(matrix(NA, nrow=11, ncol=1))\n",
    "names(sh_output)<-c(\"data\")\n",
    "sh_output[,1]<-c(seq(0,10,1))"
   ]
  },
  {
   "cell_type": "code",
   "execution_count": 12,
   "metadata": {},
   "outputs": [],
   "source": [
    "# Function for calculating the allele coding, which is 0, 1, 2\n",
    "bin_snp<-function(mat){\n",
    "s1<-seq(1,ncol(mat),2)\n",
    "s2<-seq(2,ncol(mat),2)\n",
    "a1<-mat[,s1]+mat[,s2]\n",
    "a1[a1==3]=1\n",
    "a1[a1==4]=0\n",
    "snp_code<-a1\n",
    "return(snp_code)\n",
    " }"
   ]
  },
  {
   "cell_type": "code",
   "execution_count": 13,
   "metadata": {},
   "outputs": [],
   "source": [
    "# Function of simulating scenarios with different selection intensity\n",
    "selectionIntensity<-function(u,litter_size){\n",
    "Selection$Number[1:2]<-c(u,u)\n",
    "#20 sires and 20 dams perform complete cross; 200 eggs were produced per dam.\n",
    "RP<-sample_hp(hp_out=hp,Male_founders= Male_founders,\n",
    "              Female_founders=Female_founders,ng=10,Selection=Selection,\n",
    "              Training=Training,\n",
    "              litter_size=litter_size,saveAt=\"SNP3928_20\",sh_output=sh_output,Display=FALSE)\n",
    "hete<-list()\n",
    "gain<-list()\n",
    "gain[1]<-0\n",
    "for (i in seq(1,10,1)){\n",
    "n<-bin_snp(RP$output[[i+1]]$mrk[,3:7858])\n",
    "hete[i]<-sum(n==1)/(dim(n)[1]*dim(n)[2])\n",
    "}\n",
    "for (i in seq(1,9,1)){\n",
    "gain[i+1]<-abs(RP$summary_data$TrueBV[i+1]-RP$summary_data$TrueBV[1])\n",
    "}\n",
    "cbind(RP$summary_data,unlist(hete),unlist(gain))\n",
    "    }"
   ]
  },
  {
   "cell_type": "markdown",
   "metadata": {},
   "source": [
    "## Scenarios with different selection intensity"
   ]
  },
  {
   "cell_type": "code",
   "execution_count": null,
   "metadata": {},
   "outputs": [],
   "source": [
    "summary5<-selectionIntensity(5,30)"
   ]
  },
  {
   "cell_type": "code",
   "execution_count": null,
   "metadata": {
    "scrolled": false
   },
   "outputs": [],
   "source": [
    "summary10<-selectionIntensity(10,8)"
   ]
  },
  {
   "cell_type": "code",
   "execution_count": null,
   "metadata": {},
   "outputs": [],
   "source": [
    "summary15<-selectionIntensity(15,4)"
   ]
  },
  {
   "cell_type": "code",
   "execution_count": null,
   "metadata": {
    "scrolled": true
   },
   "outputs": [
    {
     "name": "stdout",
     "output_type": "stream",
     "text": [
      "Controlling input data ...\n",
      "Intializing base population ...\n",
      "Generation 0 started ......."
     ]
    }
   ],
   "source": [
    "summary20<-selectionIntensity(20,4)"
   ]
  },
  {
   "cell_type": "code",
   "execution_count": 38,
   "metadata": {},
   "outputs": [],
   "source": [
    "library(\"xlsx\")\n",
    "write.xlsx(summary5, \"summary5.xlsx\") \n",
    "write.xlsx(summary10, \"summary10.xlsx\") \n",
    "write.xlsx(summary15, \"summary15.xlsx\") \n",
    "write.xlsx(summary20, \"summary20.xlsx\") "
   ]
  },
  {
   "cell_type": "markdown",
   "metadata": {},
   "source": [
    "## Plot"
   ]
  },
  {
   "cell_type": "code",
   "execution_count": 70,
   "metadata": {
    "scrolled": true
   },
   "outputs": [],
   "source": [
    "# Data frame for plot\n",
    "plot<-data.frame(SelectionResponse=as.numeric(c(summary5[,9],\n",
    "                                             summary10[,9],\n",
    "                                             summary15[,9],\n",
    "                                             summary20[,9])),\n",
    "                 heritability=as.numeric(c(summary5$heritability,\n",
    "                                             summary10$heritability,\n",
    "                                             summary15$heritability,\n",
    "                                             summary20$heritability)),\n",
    "                 heterozygosity=as.numeric(c(summary5[,8],\n",
    "                                             summary10[,8],\n",
    "                                             summary15[,8],\n",
    "                                             summary20[,8])),\n",
    "                 ng=as.factor(rep(seq(1,10,1),4)),\n",
    "                 intensity=as.factor(rep(c(5,10,15,20),each = 10)))"
   ]
  },
  {
   "cell_type": "code",
   "execution_count": 73,
   "metadata": {},
   "outputs": [],
   "source": [
    "write.xlsx(plot, \"plot25.xlsx\") \n",
    "library(\"readxl\")\n",
    "plot<-read_excel(\"plot25.xlsx\")"
   ]
  },
  {
   "cell_type": "code",
   "execution_count": 51,
   "metadata": {},
   "outputs": [],
   "source": [
    "plot$intensity<-factor(plot$intensity,levels = c(5,10,15,20))\n",
    "plot$ng<-factor(plot$ng,levels = c(seq(1,10,1)))"
   ]
  },
  {
   "cell_type": "code",
   "execution_count": 52,
   "metadata": {},
   "outputs": [
    {
     "data": {
      "text/html": [
       "<table>\n",
       "<thead><tr><th scope=col>X__1</th><th scope=col>SelectionResponse</th><th scope=col>heritability</th><th scope=col>heterozygosity</th><th scope=col>ng</th><th scope=col>intensity</th></tr></thead>\n",
       "<tbody>\n",
       "\t<tr><td>1        </td><td> 0.000000</td><td>0.6617558</td><td>0.4023461</td><td>1        </td><td>5        </td></tr>\n",
       "\t<tr><td>2        </td><td>17.738264</td><td>0.5307376</td><td>0.3008282</td><td>2        </td><td>5        </td></tr>\n",
       "\t<tr><td>3        </td><td>25.271771</td><td>0.4876681</td><td>0.2391673</td><td>3        </td><td>5        </td></tr>\n",
       "\t<tr><td>4        </td><td>33.340748</td><td>0.3491821</td><td>0.2207712</td><td>4        </td><td>5        </td></tr>\n",
       "\t<tr><td>5        </td><td>40.980753</td><td>0.3661178</td><td>0.1975927</td><td>5        </td><td>5        </td></tr>\n",
       "\t<tr><td>6        </td><td>47.814221</td><td>0.2667079</td><td>0.1678265</td><td>6        </td><td>5        </td></tr>\n",
       "\t<tr><td>7        </td><td>52.157453</td><td>0.2260765</td><td>0.1487957</td><td>7        </td><td>5        </td></tr>\n",
       "\t<tr><td>8        </td><td>55.987811</td><td>0.1791554</td><td>0.1334742</td><td>8        </td><td>5        </td></tr>\n",
       "\t<tr><td>9        </td><td>58.763893</td><td>0.1245893</td><td>0.1268598</td><td>9        </td><td>5        </td></tr>\n",
       "\t<tr><td>10       </td><td>60.652799</td><td>0.1427275</td><td>0.1140353</td><td>10       </td><td>5        </td></tr>\n",
       "\t<tr><td>11       </td><td> 0.000000</td><td>0.6145715</td><td>0.4008990</td><td>1        </td><td>10       </td></tr>\n",
       "\t<tr><td>12       </td><td>12.828384</td><td>0.4968156</td><td>0.3625461</td><td>2        </td><td>10       </td></tr>\n",
       "\t<tr><td>13       </td><td>21.073581</td><td>0.4858272</td><td>0.3159709</td><td>3        </td><td>10       </td></tr>\n",
       "\t<tr><td>14       </td><td>28.818963</td><td>0.4550064</td><td>0.2850404</td><td>4        </td><td>10       </td></tr>\n",
       "\t<tr><td>15       </td><td>36.157704</td><td>0.3666000</td><td>0.2607886</td><td>5        </td><td>10       </td></tr>\n",
       "\t<tr><td>16       </td><td>39.967460</td><td>0.3552936</td><td>0.2454885</td><td>6        </td><td>10       </td></tr>\n",
       "\t<tr><td>17       </td><td>44.750905</td><td>0.3518259</td><td>0.2280149</td><td>7        </td><td>10       </td></tr>\n",
       "\t<tr><td>18       </td><td>48.927954</td><td>0.3104198</td><td>0.1618126</td><td>8        </td><td>10       </td></tr>\n",
       "\t<tr><td>19       </td><td>54.450957</td><td>0.2297156</td><td>0.1456050</td><td>9        </td><td>10       </td></tr>\n",
       "\t<tr><td>20       </td><td>57.829436</td><td>0.2317922</td><td>0.1451760</td><td>10       </td><td>10       </td></tr>\n",
       "\t<tr><td>21       </td><td> 0.000000</td><td>0.6365007</td><td>0.4014925</td><td>1        </td><td>15       </td></tr>\n",
       "\t<tr><td>22       </td><td>10.641698</td><td>0.5415812</td><td>0.3755304</td><td>2        </td><td>15       </td></tr>\n",
       "\t<tr><td>23       </td><td>19.427487</td><td>0.4973752</td><td>0.3436518</td><td>3        </td><td>15       </td></tr>\n",
       "\t<tr><td>24       </td><td>27.083539</td><td>0.4949933</td><td>0.3149726</td><td>4        </td><td>15       </td></tr>\n",
       "\t<tr><td>25       </td><td>32.085582</td><td>0.4555012</td><td>0.2735002</td><td>5        </td><td>15       </td></tr>\n",
       "\t<tr><td>26       </td><td>39.907983</td><td>0.4071077</td><td>0.2621224</td><td>6        </td><td>15       </td></tr>\n",
       "\t<tr><td>27       </td><td>45.229957</td><td>0.3622580</td><td>0.2484448</td><td>7        </td><td>15       </td></tr>\n",
       "\t<tr><td>28       </td><td>49.242799</td><td>0.3865928</td><td>0.2432086</td><td>8        </td><td>15       </td></tr>\n",
       "\t<tr><td>29       </td><td>56.008007</td><td>0.3327961</td><td>0.2261516</td><td>9        </td><td>15       </td></tr>\n",
       "\t<tr><td>30       </td><td>59.901206</td><td>0.3617656</td><td>0.2014941</td><td>10       </td><td>15       </td></tr>\n",
       "\t<tr><td>31       </td><td> 0.000000</td><td>0.6354703</td><td>0.4028793</td><td>1        </td><td>20       </td></tr>\n",
       "\t<tr><td>32       </td><td> 8.340565</td><td>0.5307727</td><td>0.3857517</td><td>2        </td><td>20       </td></tr>\n",
       "\t<tr><td>33       </td><td>16.774242</td><td>0.5246162</td><td>0.3397336</td><td>3        </td><td>20       </td></tr>\n",
       "\t<tr><td>34       </td><td>24.010941</td><td>0.5219624</td><td>0.3286674</td><td>4        </td><td>20       </td></tr>\n",
       "\t<tr><td>35       </td><td>32.844264</td><td>0.5369746</td><td>0.3209246</td><td>5        </td><td>20       </td></tr>\n",
       "\t<tr><td>36       </td><td>40.394976</td><td>0.4831104</td><td>0.3094961</td><td>6        </td><td>20       </td></tr>\n",
       "\t<tr><td>37       </td><td>47.735759</td><td>0.4164806</td><td>0.2695406</td><td>7        </td><td>20       </td></tr>\n",
       "\t<tr><td>38       </td><td>52.077861</td><td>0.4350838</td><td>0.2614153</td><td>8        </td><td>20       </td></tr>\n",
       "\t<tr><td>39       </td><td>58.743875</td><td>0.3837431</td><td>0.2492571</td><td>9        </td><td>20       </td></tr>\n",
       "\t<tr><td>40       </td><td>63.100694</td><td>0.3014352</td><td>0.2286200</td><td>10       </td><td>20       </td></tr>\n",
       "</tbody>\n",
       "</table>\n"
      ],
      "text/latex": [
       "\\begin{tabular}{r|llllll}\n",
       " X\\_\\_1 & SelectionResponse & heritability & heterozygosity & ng & intensity\\\\\n",
       "\\hline\n",
       "\t 1         &  0.000000 & 0.6617558 & 0.4023461 & 1         & 5        \\\\\n",
       "\t 2         & 17.738264 & 0.5307376 & 0.3008282 & 2         & 5        \\\\\n",
       "\t 3         & 25.271771 & 0.4876681 & 0.2391673 & 3         & 5        \\\\\n",
       "\t 4         & 33.340748 & 0.3491821 & 0.2207712 & 4         & 5        \\\\\n",
       "\t 5         & 40.980753 & 0.3661178 & 0.1975927 & 5         & 5        \\\\\n",
       "\t 6         & 47.814221 & 0.2667079 & 0.1678265 & 6         & 5        \\\\\n",
       "\t 7         & 52.157453 & 0.2260765 & 0.1487957 & 7         & 5        \\\\\n",
       "\t 8         & 55.987811 & 0.1791554 & 0.1334742 & 8         & 5        \\\\\n",
       "\t 9         & 58.763893 & 0.1245893 & 0.1268598 & 9         & 5        \\\\\n",
       "\t 10        & 60.652799 & 0.1427275 & 0.1140353 & 10        & 5        \\\\\n",
       "\t 11        &  0.000000 & 0.6145715 & 0.4008990 & 1         & 10       \\\\\n",
       "\t 12        & 12.828384 & 0.4968156 & 0.3625461 & 2         & 10       \\\\\n",
       "\t 13        & 21.073581 & 0.4858272 & 0.3159709 & 3         & 10       \\\\\n",
       "\t 14        & 28.818963 & 0.4550064 & 0.2850404 & 4         & 10       \\\\\n",
       "\t 15        & 36.157704 & 0.3666000 & 0.2607886 & 5         & 10       \\\\\n",
       "\t 16        & 39.967460 & 0.3552936 & 0.2454885 & 6         & 10       \\\\\n",
       "\t 17        & 44.750905 & 0.3518259 & 0.2280149 & 7         & 10       \\\\\n",
       "\t 18        & 48.927954 & 0.3104198 & 0.1618126 & 8         & 10       \\\\\n",
       "\t 19        & 54.450957 & 0.2297156 & 0.1456050 & 9         & 10       \\\\\n",
       "\t 20        & 57.829436 & 0.2317922 & 0.1451760 & 10        & 10       \\\\\n",
       "\t 21        &  0.000000 & 0.6365007 & 0.4014925 & 1         & 15       \\\\\n",
       "\t 22        & 10.641698 & 0.5415812 & 0.3755304 & 2         & 15       \\\\\n",
       "\t 23        & 19.427487 & 0.4973752 & 0.3436518 & 3         & 15       \\\\\n",
       "\t 24        & 27.083539 & 0.4949933 & 0.3149726 & 4         & 15       \\\\\n",
       "\t 25        & 32.085582 & 0.4555012 & 0.2735002 & 5         & 15       \\\\\n",
       "\t 26        & 39.907983 & 0.4071077 & 0.2621224 & 6         & 15       \\\\\n",
       "\t 27        & 45.229957 & 0.3622580 & 0.2484448 & 7         & 15       \\\\\n",
       "\t 28        & 49.242799 & 0.3865928 & 0.2432086 & 8         & 15       \\\\\n",
       "\t 29        & 56.008007 & 0.3327961 & 0.2261516 & 9         & 15       \\\\\n",
       "\t 30        & 59.901206 & 0.3617656 & 0.2014941 & 10        & 15       \\\\\n",
       "\t 31        &  0.000000 & 0.6354703 & 0.4028793 & 1         & 20       \\\\\n",
       "\t 32        &  8.340565 & 0.5307727 & 0.3857517 & 2         & 20       \\\\\n",
       "\t 33        & 16.774242 & 0.5246162 & 0.3397336 & 3         & 20       \\\\\n",
       "\t 34        & 24.010941 & 0.5219624 & 0.3286674 & 4         & 20       \\\\\n",
       "\t 35        & 32.844264 & 0.5369746 & 0.3209246 & 5         & 20       \\\\\n",
       "\t 36        & 40.394976 & 0.4831104 & 0.3094961 & 6         & 20       \\\\\n",
       "\t 37        & 47.735759 & 0.4164806 & 0.2695406 & 7         & 20       \\\\\n",
       "\t 38        & 52.077861 & 0.4350838 & 0.2614153 & 8         & 20       \\\\\n",
       "\t 39        & 58.743875 & 0.3837431 & 0.2492571 & 9         & 20       \\\\\n",
       "\t 40        & 63.100694 & 0.3014352 & 0.2286200 & 10        & 20       \\\\\n",
       "\\end{tabular}\n"
      ],
      "text/markdown": [
       "\n",
       "X__1 | SelectionResponse | heritability | heterozygosity | ng | intensity | \n",
       "|---|---|---|---|---|---|---|---|---|---|---|---|---|---|---|---|---|---|---|---|---|---|---|---|---|---|---|---|---|---|---|---|---|---|---|---|---|---|---|---|\n",
       "| 1         |  0.000000 | 0.6617558 | 0.4023461 | 1         | 5         | \n",
       "| 2         | 17.738264 | 0.5307376 | 0.3008282 | 2         | 5         | \n",
       "| 3         | 25.271771 | 0.4876681 | 0.2391673 | 3         | 5         | \n",
       "| 4         | 33.340748 | 0.3491821 | 0.2207712 | 4         | 5         | \n",
       "| 5         | 40.980753 | 0.3661178 | 0.1975927 | 5         | 5         | \n",
       "| 6         | 47.814221 | 0.2667079 | 0.1678265 | 6         | 5         | \n",
       "| 7         | 52.157453 | 0.2260765 | 0.1487957 | 7         | 5         | \n",
       "| 8         | 55.987811 | 0.1791554 | 0.1334742 | 8         | 5         | \n",
       "| 9         | 58.763893 | 0.1245893 | 0.1268598 | 9         | 5         | \n",
       "| 10        | 60.652799 | 0.1427275 | 0.1140353 | 10        | 5         | \n",
       "| 11        |  0.000000 | 0.6145715 | 0.4008990 | 1         | 10        | \n",
       "| 12        | 12.828384 | 0.4968156 | 0.3625461 | 2         | 10        | \n",
       "| 13        | 21.073581 | 0.4858272 | 0.3159709 | 3         | 10        | \n",
       "| 14        | 28.818963 | 0.4550064 | 0.2850404 | 4         | 10        | \n",
       "| 15        | 36.157704 | 0.3666000 | 0.2607886 | 5         | 10        | \n",
       "| 16        | 39.967460 | 0.3552936 | 0.2454885 | 6         | 10        | \n",
       "| 17        | 44.750905 | 0.3518259 | 0.2280149 | 7         | 10        | \n",
       "| 18        | 48.927954 | 0.3104198 | 0.1618126 | 8         | 10        | \n",
       "| 19        | 54.450957 | 0.2297156 | 0.1456050 | 9         | 10        | \n",
       "| 20        | 57.829436 | 0.2317922 | 0.1451760 | 10        | 10        | \n",
       "| 21        |  0.000000 | 0.6365007 | 0.4014925 | 1         | 15        | \n",
       "| 22        | 10.641698 | 0.5415812 | 0.3755304 | 2         | 15        | \n",
       "| 23        | 19.427487 | 0.4973752 | 0.3436518 | 3         | 15        | \n",
       "| 24        | 27.083539 | 0.4949933 | 0.3149726 | 4         | 15        | \n",
       "| 25        | 32.085582 | 0.4555012 | 0.2735002 | 5         | 15        | \n",
       "| 26        | 39.907983 | 0.4071077 | 0.2621224 | 6         | 15        | \n",
       "| 27        | 45.229957 | 0.3622580 | 0.2484448 | 7         | 15        | \n",
       "| 28        | 49.242799 | 0.3865928 | 0.2432086 | 8         | 15        | \n",
       "| 29        | 56.008007 | 0.3327961 | 0.2261516 | 9         | 15        | \n",
       "| 30        | 59.901206 | 0.3617656 | 0.2014941 | 10        | 15        | \n",
       "| 31        |  0.000000 | 0.6354703 | 0.4028793 | 1         | 20        | \n",
       "| 32        |  8.340565 | 0.5307727 | 0.3857517 | 2         | 20        | \n",
       "| 33        | 16.774242 | 0.5246162 | 0.3397336 | 3         | 20        | \n",
       "| 34        | 24.010941 | 0.5219624 | 0.3286674 | 4         | 20        | \n",
       "| 35        | 32.844264 | 0.5369746 | 0.3209246 | 5         | 20        | \n",
       "| 36        | 40.394976 | 0.4831104 | 0.3094961 | 6         | 20        | \n",
       "| 37        | 47.735759 | 0.4164806 | 0.2695406 | 7         | 20        | \n",
       "| 38        | 52.077861 | 0.4350838 | 0.2614153 | 8         | 20        | \n",
       "| 39        | 58.743875 | 0.3837431 | 0.2492571 | 9         | 20        | \n",
       "| 40        | 63.100694 | 0.3014352 | 0.2286200 | 10        | 20        | \n",
       "\n",
       "\n"
      ],
      "text/plain": [
       "   X__1 SelectionResponse heritability heterozygosity ng intensity\n",
       "1  1     0.000000         0.6617558    0.4023461      1  5        \n",
       "2  2    17.738264         0.5307376    0.3008282      2  5        \n",
       "3  3    25.271771         0.4876681    0.2391673      3  5        \n",
       "4  4    33.340748         0.3491821    0.2207712      4  5        \n",
       "5  5    40.980753         0.3661178    0.1975927      5  5        \n",
       "6  6    47.814221         0.2667079    0.1678265      6  5        \n",
       "7  7    52.157453         0.2260765    0.1487957      7  5        \n",
       "8  8    55.987811         0.1791554    0.1334742      8  5        \n",
       "9  9    58.763893         0.1245893    0.1268598      9  5        \n",
       "10 10   60.652799         0.1427275    0.1140353      10 5        \n",
       "11 11    0.000000         0.6145715    0.4008990      1  10       \n",
       "12 12   12.828384         0.4968156    0.3625461      2  10       \n",
       "13 13   21.073581         0.4858272    0.3159709      3  10       \n",
       "14 14   28.818963         0.4550064    0.2850404      4  10       \n",
       "15 15   36.157704         0.3666000    0.2607886      5  10       \n",
       "16 16   39.967460         0.3552936    0.2454885      6  10       \n",
       "17 17   44.750905         0.3518259    0.2280149      7  10       \n",
       "18 18   48.927954         0.3104198    0.1618126      8  10       \n",
       "19 19   54.450957         0.2297156    0.1456050      9  10       \n",
       "20 20   57.829436         0.2317922    0.1451760      10 10       \n",
       "21 21    0.000000         0.6365007    0.4014925      1  15       \n",
       "22 22   10.641698         0.5415812    0.3755304      2  15       \n",
       "23 23   19.427487         0.4973752    0.3436518      3  15       \n",
       "24 24   27.083539         0.4949933    0.3149726      4  15       \n",
       "25 25   32.085582         0.4555012    0.2735002      5  15       \n",
       "26 26   39.907983         0.4071077    0.2621224      6  15       \n",
       "27 27   45.229957         0.3622580    0.2484448      7  15       \n",
       "28 28   49.242799         0.3865928    0.2432086      8  15       \n",
       "29 29   56.008007         0.3327961    0.2261516      9  15       \n",
       "30 30   59.901206         0.3617656    0.2014941      10 15       \n",
       "31 31    0.000000         0.6354703    0.4028793      1  20       \n",
       "32 32    8.340565         0.5307727    0.3857517      2  20       \n",
       "33 33   16.774242         0.5246162    0.3397336      3  20       \n",
       "34 34   24.010941         0.5219624    0.3286674      4  20       \n",
       "35 35   32.844264         0.5369746    0.3209246      5  20       \n",
       "36 36   40.394976         0.4831104    0.3094961      6  20       \n",
       "37 37   47.735759         0.4164806    0.2695406      7  20       \n",
       "38 38   52.077861         0.4350838    0.2614153      8  20       \n",
       "39 39   58.743875         0.3837431    0.2492571      9  20       \n",
       "40 40   63.100694         0.3014352    0.2286200      10 20       "
      ]
     },
     "metadata": {},
     "output_type": "display_data"
    }
   ],
   "source": [
    "plot"
   ]
  },
  {
   "cell_type": "code",
   "execution_count": 53,
   "metadata": {},
   "outputs": [
    {
     "data": {},
     "metadata": {},
     "output_type": "display_data"
    },
    {
     "data": {
      "image/png": "[encoded data removed]",
      "text/plain": [
       "plot without title"
      ]
     },
     "metadata": {},
     "output_type": "display_data"
    }
   ],
   "source": [
    "library(ggplot2)\n",
    "options(repr.plot.width=6, repr.plot.height=4)\n",
    "p1 <- ggplot(plot, aes(x=ng, y=SelectionResponse,group=intensity)) + \n",
    "       geom_line(aes(color=intensity))+\n",
    "       geom_point(aes(color=intensity))+    \n",
    "       labs(x = \"Number of generation\",y=\"Abosolute accumulated selection response\")+\n",
    "       theme(axis.text.y= element_text(size = rel(1.2)),\n",
    "             axis.text.x = element_text(size = rel(1.2)),\n",
    "                  text=element_text(size=10, family=\"serif\"))\n",
    "p1"
   ]
  },
  {
   "cell_type": "code",
   "execution_count": 45,
   "metadata": {},
   "outputs": [
    {
     "data": {},
     "metadata": {},
     "output_type": "display_data"
    },
    {
     "data": {
      "image/png": "[encoded data removed]",
      "text/plain": [
       "plot without title"
      ]
     },
     "metadata": {},
     "output_type": "display_data"
    }
   ],
   "source": [
    "p2 <- ggplot(plot, aes(x=ng, y=heritability,group=intensity)) + \n",
    "       geom_line(aes(color=intensity))+\n",
    "       geom_point(aes(color=intensity))+    \n",
    "       labs(x = \"Number of generation\",y=\"heritability\")+\n",
    "       theme(axis.text.y= element_text(size = rel(1.2)),\n",
    "             axis.text.x = element_text(size = rel(1.2)),\n",
    "                  text=element_text(size=10, family=\"serif\"))\n",
    "p2"
   ]
  },
  {
   "cell_type": "code",
   "execution_count": 48,
   "metadata": {},
   "outputs": [
    {
     "data": {},
     "metadata": {},
     "output_type": "display_data"
    },
    {
     "data": {
      "image/png": "[encoded data removed]",
      "text/plain": [
       "plot without title"
      ]
     },
     "metadata": {},
     "output_type": "display_data"
    }
   ],
   "source": [
    "p3 <- ggplot(plot, aes(x=ng, y=heterozygosity,group=intensity)) + \n",
    "       geom_line(aes(color=intensity))+\n",
    "       geom_point(aes(color=intensity))+    \n",
    "       labs(x = \"Number of generation\",y=\"heterozygosity\")+\n",
    "       theme(axis.text.y= element_text(size = rel(1.2)),\n",
    "             axis.text.x = element_text(size = rel(1.2)),\n",
    "                  text=element_text(size=10, family=\"serif\"))\n",
    "p3"
   ]
  },
  {
   "cell_type": "code",
   "execution_count": 54,
   "metadata": {},
   "outputs": [
    {
     "data": {},
     "metadata": {},
     "output_type": "display_data"
    },
    {
     "data": {
      "text/html": [
       "<strong>png:</strong> 2"
      ],
      "text/latex": [
       "\\textbf{png:} 2"
      ],
      "text/markdown": [
       "**png:** 2"
      ],
      "text/plain": [
       "png \n",
       "  2 "
      ]
     },
     "metadata": {},
     "output_type": "display_data"
    },
    {
     "data": {},
     "metadata": {},
     "output_type": "display_data"
    },
    {
     "data": {
      "text/html": [
       "<strong>png:</strong> 2"
      ],
      "text/latex": [
       "\\textbf{png:} 2"
      ],
      "text/markdown": [
       "**png:** 2"
      ],
      "text/plain": [
       "png \n",
       "  2 "
      ]
     },
     "metadata": {},
     "output_type": "display_data"
    },
    {
     "data": {},
     "metadata": {},
     "output_type": "display_data"
    },
    {
     "data": {
      "text/html": [
       "<strong>png:</strong> 2"
      ],
      "text/latex": [
       "\\textbf{png:} 2"
      ],
      "text/markdown": [
       "**png:** 2"
      ],
      "text/plain": [
       "png \n",
       "  2 "
      ]
     },
     "metadata": {},
     "output_type": "display_data"
    }
   ],
   "source": [
    "png(\"2_5 accumulated selection response.png\", width=6, height=4, units=\"in\", res=300)\n",
    "p1\n",
    "dev.off()\n",
    "png(\"2_5 heritability.png\", width=6, height=4, units=\"in\", res=300)\n",
    "p2\n",
    "dev.off()\n",
    "png(\"2_5 heterozygosity.png\", width=6, height=4, units=\"in\", res=300)\n",
    "p3\n",
    "dev.off()"
   ]
  },
  {
   "cell_type": "code",
   "execution_count": null,
   "metadata": {},
   "outputs": [],
   "source": []
  }
 ],
 "metadata": {
  "kernelspec": {
   "display_name": "R",
   "language": "R",
   "name": "ir"
  },
  "language_info": {
   "codemirror_mode": "r",
   "file_extension": ".r",
   "mimetype": "text/x-r-source",
   "name": "R",
   "pygments_lexer": "r",
   "version": "3.5.1"
  }
 },
 "nbformat": 4,
 "nbformat_minor": 2
}
