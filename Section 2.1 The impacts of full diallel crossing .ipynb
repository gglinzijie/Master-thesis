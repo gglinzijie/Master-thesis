{
 "cells": [
  {
   "cell_type": "markdown",
   "metadata": {},
   "source": [
    "# Section 2.1 The impacts of full diallel crossing "
   ]
  },
  {
   "cell_type": "markdown",
   "metadata": {},
   "source": [
    "## Package was modified to allow complete cross mating\n"
   ]
  },
  {
   "cell_type": "code",
   "execution_count": 3,
   "metadata": {},
   "outputs": [
    {
     "name": "stderr",
     "output_type": "stream",
     "text": [
      "Downloading GitHub repo gglinzijie/xbreed@master\n",
      "from URL https://api.github.com/repos/gglinzijie/xbreed/zipball/master\n",
      "Installing xbreed\n",
      "\"C:/programming_language/R/bin/x64/R\" --no-site-file --no-environ --no-save  \\\n",
      "  --no-restore --quiet CMD INSTALL  \\\n",
      "  \"C:/Users/lin/AppData/Local/Temp/RtmpopddIv/devtools2f241765e37/gglinzijie-xbreed-e32db83\"  \\\n",
      "  --library=\"C:/programming_language/r/library\" --install-tests \n",
      "\n",
      "(\"|-----------------------------------------------------|\")\n",
      "(\"|                      xbreed                         |\")\n",
      "(\"|    Genomic simulation of purebreds and crossbreds   |\")\n",
      "(\"|               March 2017 Version 1.0.1              |\")\n",
      "(\"|                                                     |\")\n",
      "(\"|             H.Esfandyari,A.C.Sorensen               |\")\n",
      "(\"| Center for Quantitative Qenetics and Genomics (QGG) |\")\n",
      "(\"|             Aarhus University,Denmark               |\")\n",
      "(\"|                                                     |\")\n",
      "(\"|-----------------------------------------------------|\")\n",
      "(\"|Questions and bugs: esfandyari.hadi@gmail.com        |\")\n",
      "(\"|Development of xbreed was supported by GenSAP.       |\")\n",
      "(\"|-----------------------------------------------------|\")\n"
     ]
    }
   ],
   "source": [
    "library(\"devtools\")\n",
    "install_github(\"gglinzijie/xbreed\")\n",
    "library(\"xbreed\")"
   ]
  },
  {
   "cell_type": "markdown",
   "metadata": {},
   "source": [
    "### Genome specification"
   ]
  },
  {
   "cell_type": "code",
   "execution_count": 4,
   "metadata": {},
   "outputs": [
    {
     "data": {
      "text/html": [
       "3928"
      ],
      "text/latex": [
       "3928"
      ],
      "text/markdown": [
       "3928"
      ],
      "text/plain": [
       "[1] 3928"
      ]
     },
     "metadata": {},
     "output_type": "display_data"
    }
   ],
   "source": [
    "#Number of markers per chr from chapter 1\n",
    "lin_map<-read.table(\"raw.map\")\n",
    "m=1:22\n",
    "for(i in 1:22) {m[i]=dim(lin_map[lin_map$V1==i,])[1]}\n",
    "sum(m)"
   ]
  },
  {
   "cell_type": "code",
   "execution_count": 5,
   "metadata": {},
   "outputs": [],
   "source": [
    "#data from chaptre 1\n",
    "geno<-read.table(\"Hetero_realigned_cov10_filtered3.raw\")\n",
    "pheno<-read.csv(\"2017heteroPheno.csv\", header=T)\n",
    "attach(pheno)"
   ]
  },
  {
   "cell_type": "code",
   "execution_count": 6,
   "metadata": {},
   "outputs": [],
   "source": [
    "#parameter of genome\n",
    "no.chr<-22\n",
    "genome<-data.frame(matrix(NA, nrow=no.chr, ncol=6))\n",
    "names(genome)<-c(\"chr\",\"len\",\"nmrk\",\"mpos\",\"nqtl\",\"qpos\")\n",
    "genome$chr<-c(1:no.chr) #Chromosome id from 1 to 22\n",
    "genome$len<-c(200,rep(100,21))#Chromosome length in cM\n",
    "genome$nmrk<-c(m) #Number of markers, 3928 in total \n",
    "genome$mpos<-c('even') \n",
    "genome$nqtl<-c(40) #Number of qtl  40*22 = 880 in total\n",
    "genome$qpos<-c('rnd')"
   ]
  },
  {
   "cell_type": "markdown",
   "metadata": {},
   "source": [
    "### Historiacal population"
   ]
  },
  {
   "cell_type": "code",
   "execution_count": 7,
   "metadata": {},
   "outputs": [
    {
     "name": "stdout",
     "output_type": "stream",
     "text": [
      "---sel_seq_qtl is missing, it has been set to default value of 0\n",
      "---sel_seq_mrk is missing, it has been set to default value of 0\n",
      "Historical pop is initialized...\n",
      "Simulating trait ...\n",
      "Output data preparation ...\n",
      "Establishment of historical population completed\n"
     ]
    }
   ],
   "source": [
    "#Historical population \n",
    "hp<-make_hp(hpsize=1000 ,ng=5000,h2=0.654,d2=0,phen_var=84,\n",
    "            genome=genome,mutr=2.5*10**-4,laf=1)"
   ]
  },
  {
   "cell_type": "code",
   "execution_count": 19,
   "metadata": {},
   "outputs": [
    {
     "data": {
      "text/html": [
       "0.5"
      ],
      "text/latex": [
       "0.5"
      ],
      "text/markdown": [
       "0.5"
      ],
      "text/plain": [
       "[1] 0.5"
      ]
     },
     "metadata": {},
     "output_type": "display_data"
    },
    {
     "data": {
      "text/html": [
       "0.333333333333333"
      ],
      "text/latex": [
       "0.333333333333333"
      ],
      "text/markdown": [
       "0.333333333333333"
      ],
      "text/plain": [
       "[1] 0.3333333"
      ]
     },
     "metadata": {},
     "output_type": "display_data"
    },
    {
     "data": {
      "text/html": [
       "0.395366295338649"
      ],
      "text/latex": [
       "0.395366295338649"
      ],
      "text/markdown": [
       "0.395366295338649"
      ],
      "text/plain": [
       "[1] 0.3953663"
      ]
     },
     "metadata": {},
     "output_type": "display_data"
    }
   ],
   "source": [
    "# Expected Heterozygosity according to (Kimura and Crow 1964) \n",
    "mutr<-2.5*10**-4\n",
    "ne<-1000 \n",
    "k<-2 \n",
    "Fneu<-4*ne*mutr \n",
    "(Expected_het1<-Fneu/(1+Fneu))\n",
    "(Expected_het2<-1-((1+((Fneu)/(k-1)))/(1+((Fneu*k)/(k-1)))))\n",
    "(het_observed<-mean(2*(hp$freqMrk[,3]*hp$freqMrk[,4])))"
   ]
  },
  {
   "cell_type": "code",
   "execution_count": 9,
   "metadata": {},
   "outputs": [],
   "source": [
    "Male_founders<-data.frame(number=10,select='rnd')\n",
    "Female_founders<-data.frame(number=10,select='rnd')"
   ]
  },
  {
   "cell_type": "code",
   "execution_count": 10,
   "metadata": {},
   "outputs": [],
   "source": [
    "Selection<-data.frame(matrix(NA, nrow=2, ncol=3))\n",
    "names(Selection)<-c('Number','type','Value') \n",
    "Selection$Number[1:2]<-c(10,10)\n",
    "Selection$type[1:2]<-c('gebv','gebv')\n",
    "Selection$Value[1:2]<-c('l','l')"
   ]
  },
  {
   "cell_type": "code",
   "execution_count": 11,
   "metadata": {},
   "outputs": [],
   "source": [
    "# Training parameters for the estimation of marker effects. \n",
    "Training<-data.frame(matrix(NA, nrow=1, ncol=8))\n",
    "names(Training)<-c('size','sel','method','nIter','burnIn','thin','save','show')\n",
    "Training$size<-250\n",
    "Training$sel<-'rnd'\n",
    "Training$method<-'BayesC'\n",
    "Training$nIter<-2000\n",
    "Training$burnIn<-1000 \n",
    "Training$thin<-5 \n",
    "Training$save<-'bayes'\n",
    "Training$show<-FALSE"
   ]
  },
  {
   "cell_type": "code",
   "execution_count": 12,
   "metadata": {},
   "outputs": [],
   "source": [
    "sh_output<-data.frame(matrix(NA, nrow=11, ncol=1))\n",
    "names(sh_output)<-c(\"data\")\n",
    "sh_output[,1]<-c(seq(0,10,1))"
   ]
  },
  {
   "cell_type": "code",
   "execution_count": 13,
   "metadata": {},
   "outputs": [
    {
     "name": "stdout",
     "output_type": "stream",
     "text": [
      "Controlling input data ...\n",
      "Intializing base population ...\n",
      "Generation 0 started ......... \n",
      "Generation 0 is finished. Time taken: 12.54022\n",
      "Generation 1 started ......... \n",
      "Generation 1 is finished. Time taken: 13.23952\n",
      "Generation 2 started ......... \n",
      "Generation 2 is finished. Time taken: 12.49406\n",
      "Generation 3 started ......... \n",
      "Generation 3 is finished. Time taken: 13.35129\n",
      "Generation 4 started ......... \n",
      "Generation 4 is finished. Time taken: 12.7748\n",
      "Generation 5 started ......... \n",
      "Generation 5 is finished. Time taken: 12.35735\n",
      "Generation 6 started ......... \n",
      "Generation 6 is finished. Time taken: 12.53043\n",
      "Generation 7 started ......... \n",
      "Generation 7 is finished. Time taken: 12.67322\n",
      "Generation 8 started ......... \n",
      "Generation 8 is finished. Time taken: 12.99144\n",
      "Generation 9 started ......... \n",
      "Generation 9 is finished. Time taken: 12.25433\n",
      "Generation 10 started ......... \n",
      "Generation 10 is finished. Time taken: 12.69127\n",
      "Output data preparation ...\n",
      "Writing output files ...\n",
      "Sampling hp is done!\n"
     ]
    }
   ],
   "source": [
    "Selection$Number[1:2]<-c(10,10)\n",
    "# 10 sires and 10 dams perform full diallel cressing to produce 10*10*10 = 1000 progenies.\n",
    "RP10_cc<-sample_hp(hp_out=hp,Male_founders= Male_founders,\n",
    "              Female_founders=Female_founders,ng=10,Selection=Selection,\n",
    "              Training=Training,\n",
    "              litter_size=10,saveAt=\"SNP3928_10\",sh_output=sh_output,Display=FALSE)"
   ]
  },
  {
   "cell_type": "code",
   "execution_count": 14,
   "metadata": {},
   "outputs": [],
   "source": [
    "# Function for calculate the allele coding, which is 0, 1, 2\n",
    "bin_snp<-function(mat){\n",
    "s1<-seq(1,ncol(mat),2)\n",
    "s2<-seq(2,ncol(mat),2)\n",
    "a1<-mat[,s1]+mat[,s2]\n",
    "a1[a1==3]=1\n",
    "a1[a1==4]=0\n",
    "snp_code<-a1\n",
    "return(snp_code)\n",
    " }"
   ]
  },
  {
   "cell_type": "code",
   "execution_count": 15,
   "metadata": {},
   "outputs": [],
   "source": [
    "# Function for calculation of heterozigosity\n",
    "hetero_loci<-function(geno){\n",
    "   n<-list()   \n",
    "   n<-sum(geno==1)/(dim(geno)[1]*dim(geno)[2])\n",
    "    return(n)\n",
    "    }"
   ]
  },
  {
   "cell_type": "code",
   "execution_count": 16,
   "metadata": {
    "scrolled": true
   },
   "outputs": [
    {
     "data": {
      "text/html": [
       "<table>\n",
       "<thead><tr><th scope=col>Generation</th><th scope=col>Phenotype</th><th scope=col>TrueBV</th><th scope=col>GEBV</th><th scope=col>M_accuracy</th><th scope=col>F_accuracy</th><th scope=col>heritability</th><th scope=col>unlist(hetecc)</th><th scope=col>unlist(gain)</th></tr></thead>\n",
       "<tbody>\n",
       "\t<tr><td> 1         </td><td> 14.7080872</td><td> 14.578930 </td><td> -1.305986 </td><td>0.7657465  </td><td>0.7621859  </td><td>0.6671791  </td><td>0.3952195  </td><td> 0.00000   </td></tr>\n",
       "\t<tr><td> 2         </td><td>  0.6009845</td><td>  0.889738 </td><td> -8.301450 </td><td>0.6288753  </td><td>0.6190406  </td><td>0.4934025  </td><td>0.3493139  </td><td>14.10710   </td></tr>\n",
       "\t<tr><td> 3         </td><td> -8.4068410</td><td> -8.309596 </td><td>-12.086170 </td><td>0.7237761  </td><td>0.6478737  </td><td>0.6134671  </td><td>0.3237103  </td><td>23.11493   </td></tr>\n",
       "\t<tr><td> 4         </td><td>-17.6602505</td><td>-17.382533 </td><td>  2.349311 </td><td>0.5966040  </td><td>0.5665035  </td><td>0.5156925  </td><td>0.2990568  </td><td>32.36834   </td></tr>\n",
       "\t<tr><td> 5         </td><td>-27.1716577</td><td>-27.191669 </td><td> -2.441701 </td><td>0.6813819  </td><td>0.6996391  </td><td>0.4900132  </td><td>0.2592355  </td><td>41.87974   </td></tr>\n",
       "\t<tr><td> 6         </td><td>-36.4420880</td><td>-36.325715 </td><td> -6.717956 </td><td>0.6819225  </td><td>0.6321561  </td><td>0.3691684  </td><td>0.2110771  </td><td>51.15018   </td></tr>\n",
       "\t<tr><td> 7         </td><td>-42.4574955</td><td>-42.596793 </td><td> -7.079054 </td><td>0.5137389  </td><td>0.5600004  </td><td>0.3184227  </td><td>0.1940293  </td><td>57.16558   </td></tr>\n",
       "\t<tr><td> 8         </td><td>-48.0566081</td><td>-47.982156 </td><td> -3.216162 </td><td>0.7455471  </td><td>0.7182144  </td><td>0.3704608  </td><td>0.1823220  </td><td>62.76470   </td></tr>\n",
       "\t<tr><td> 9         </td><td>-54.0146376</td><td>-54.038654 </td><td>  1.851814 </td><td>0.5488063  </td><td>0.5504276  </td><td>0.2239618  </td><td>0.1710188  </td><td>68.72272   </td></tr>\n",
       "\t<tr><td>10         </td><td>-58.4085007</td><td>-58.150932 </td><td> -6.388326 </td><td>0.5681872  </td><td>0.6514194  </td><td>0.2686808  </td><td>0.1520005  </td><td>73.11659   </td></tr>\n",
       "</tbody>\n",
       "</table>\n"
      ],
      "text/latex": [
       "\\begin{tabular}{r|lllllllll}\n",
       " Generation & Phenotype & TrueBV & GEBV & M\\_accuracy & F\\_accuracy & heritability & unlist(hetecc) & unlist(gain)\\\\\n",
       "\\hline\n",
       "\t  1          &  14.7080872 &  14.578930  &  -1.305986  & 0.7657465   & 0.7621859   & 0.6671791   & 0.3952195   &  0.00000   \\\\\n",
       "\t  2          &   0.6009845 &   0.889738  &  -8.301450  & 0.6288753   & 0.6190406   & 0.4934025   & 0.3493139   & 14.10710   \\\\\n",
       "\t  3          &  -8.4068410 &  -8.309596  & -12.086170  & 0.7237761   & 0.6478737   & 0.6134671   & 0.3237103   & 23.11493   \\\\\n",
       "\t  4          & -17.6602505 & -17.382533  &   2.349311  & 0.5966040   & 0.5665035   & 0.5156925   & 0.2990568   & 32.36834   \\\\\n",
       "\t  5          & -27.1716577 & -27.191669  &  -2.441701  & 0.6813819   & 0.6996391   & 0.4900132   & 0.2592355   & 41.87974   \\\\\n",
       "\t  6          & -36.4420880 & -36.325715  &  -6.717956  & 0.6819225   & 0.6321561   & 0.3691684   & 0.2110771   & 51.15018   \\\\\n",
       "\t  7          & -42.4574955 & -42.596793  &  -7.079054  & 0.5137389   & 0.5600004   & 0.3184227   & 0.1940293   & 57.16558   \\\\\n",
       "\t  8          & -48.0566081 & -47.982156  &  -3.216162  & 0.7455471   & 0.7182144   & 0.3704608   & 0.1823220   & 62.76470   \\\\\n",
       "\t  9          & -54.0146376 & -54.038654  &   1.851814  & 0.5488063   & 0.5504276   & 0.2239618   & 0.1710188   & 68.72272   \\\\\n",
       "\t 10          & -58.4085007 & -58.150932  &  -6.388326  & 0.5681872   & 0.6514194   & 0.2686808   & 0.1520005   & 73.11659   \\\\\n",
       "\\end{tabular}\n"
      ],
      "text/markdown": [
       "\n",
       "Generation | Phenotype | TrueBV | GEBV | M_accuracy | F_accuracy | heritability | unlist(hetecc) | unlist(gain) | \n",
       "|---|---|---|---|---|---|---|---|---|---|\n",
       "|  1          |  14.7080872 |  14.578930  |  -1.305986  | 0.7657465   | 0.7621859   | 0.6671791   | 0.3952195   |  0.00000    | \n",
       "|  2          |   0.6009845 |   0.889738  |  -8.301450  | 0.6288753   | 0.6190406   | 0.4934025   | 0.3493139   | 14.10710    | \n",
       "|  3          |  -8.4068410 |  -8.309596  | -12.086170  | 0.7237761   | 0.6478737   | 0.6134671   | 0.3237103   | 23.11493    | \n",
       "|  4          | -17.6602505 | -17.382533  |   2.349311  | 0.5966040   | 0.5665035   | 0.5156925   | 0.2990568   | 32.36834    | \n",
       "|  5          | -27.1716577 | -27.191669  |  -2.441701  | 0.6813819   | 0.6996391   | 0.4900132   | 0.2592355   | 41.87974    | \n",
       "|  6          | -36.4420880 | -36.325715  |  -6.717956  | 0.6819225   | 0.6321561   | 0.3691684   | 0.2110771   | 51.15018    | \n",
       "|  7          | -42.4574955 | -42.596793  |  -7.079054  | 0.5137389   | 0.5600004   | 0.3184227   | 0.1940293   | 57.16558    | \n",
       "|  8          | -48.0566081 | -47.982156  |  -3.216162  | 0.7455471   | 0.7182144   | 0.3704608   | 0.1823220   | 62.76470    | \n",
       "|  9          | -54.0146376 | -54.038654  |   1.851814  | 0.5488063   | 0.5504276   | 0.2239618   | 0.1710188   | 68.72272    | \n",
       "| 10          | -58.4085007 | -58.150932  |  -6.388326  | 0.5681872   | 0.6514194   | 0.2686808   | 0.1520005   | 73.11659    | \n",
       "\n",
       "\n"
      ],
      "text/plain": [
       "   Generation Phenotype   TrueBV     GEBV       M_accuracy F_accuracy\n",
       "1   1          14.7080872  14.578930  -1.305986 0.7657465  0.7621859 \n",
       "2   2           0.6009845   0.889738  -8.301450 0.6288753  0.6190406 \n",
       "3   3          -8.4068410  -8.309596 -12.086170 0.7237761  0.6478737 \n",
       "4   4         -17.6602505 -17.382533   2.349311 0.5966040  0.5665035 \n",
       "5   5         -27.1716577 -27.191669  -2.441701 0.6813819  0.6996391 \n",
       "6   6         -36.4420880 -36.325715  -6.717956 0.6819225  0.6321561 \n",
       "7   7         -42.4574955 -42.596793  -7.079054 0.5137389  0.5600004 \n",
       "8   8         -48.0566081 -47.982156  -3.216162 0.7455471  0.7182144 \n",
       "9   9         -54.0146376 -54.038654   1.851814 0.5488063  0.5504276 \n",
       "10 10         -58.4085007 -58.150932  -6.388326 0.5681872  0.6514194 \n",
       "   heritability unlist(hetecc) unlist(gain)\n",
       "1  0.6671791    0.3952195       0.00000    \n",
       "2  0.4934025    0.3493139      14.10710    \n",
       "3  0.6134671    0.3237103      23.11493    \n",
       "4  0.5156925    0.2990568      32.36834    \n",
       "5  0.4900132    0.2592355      41.87974    \n",
       "6  0.3691684    0.2110771      51.15018    \n",
       "7  0.3184227    0.1940293      57.16558    \n",
       "8  0.3704608    0.1823220      62.76470    \n",
       "9  0.2239618    0.1710188      68.72272    \n",
       "10 0.2686808    0.1520005      73.11659    "
      ]
     },
     "metadata": {},
     "output_type": "display_data"
    }
   ],
   "source": [
    "hetecc<-list()\n",
    "for (i in seq(1,10,1)){\n",
    "n<-bin_snp(RP10_cc$output[[i+1]]$mrk[,3:7858])\n",
    "hetecc[i]<-hetero_loci(n)}\n",
    "gain<-list()\n",
    "gain[1]<-0\n",
    "for (i in seq(1,9,1)){\n",
    "gain[i+1]<-abs(RP10_cc$summary_data$Phenotype[i+1]-RP10_cc$summary_data$Phenotype[1])\n",
    "}\n",
    "(fcc<-cbind(RP10_cc$summary_data,unlist(hetecc),unlist(gain)))"
   ]
  },
  {
   "cell_type": "code",
   "execution_count": 20,
   "metadata": {},
   "outputs": [],
   "source": [
    "library(\"xlsx\")\n",
    "write.xlsx(fcc, \"2.2fcc.xlsx\") "
   ]
  },
  {
   "cell_type": "markdown",
   "metadata": {},
   "source": [
    "## Original xbreed\n"
   ]
  },
  {
   "cell_type": "code",
   "execution_count": 21,
   "metadata": {},
   "outputs": [
    {
     "name": "stderr",
     "output_type": "stream",
     "text": [
      "Downloading GitHub repo cran/xbreed@master\n",
      "from URL https://api.github.com/repos/cran/xbreed/zipball/master\n",
      "Installing xbreed\n",
      "\"C:/programming_language/R/bin/x64/R\" --no-site-file --no-environ --no-save  \\\n",
      "  --no-restore --quiet CMD INSTALL  \\\n",
      "  \"C:/Users/lin/AppData/Local/Temp/RtmpopddIv/devtools2f242c009a/cran-xbreed-264fb94\"  \\\n",
      "  --library=\"C:/programming_language/r/library\" --install-tests \n",
      "\n",
      "Reloading installed xbreed\n",
      "(\"|-----------------------------------------------------|\")\n",
      "(\"|                      xbreed                         |\")\n",
      "(\"|    Genomic simulation of purebreds and crossbreds   |\")\n",
      "(\"|               March 2017 Version 1.0.1              |\")\n",
      "(\"|                                                     |\")\n",
      "(\"|             H.Esfandyari,A.C.Sorensen               |\")\n",
      "(\"| Center for Quantitative Qenetics and Genomics (QGG) |\")\n",
      "(\"|             Aarhus University,Denmark               |\")\n",
      "(\"|                                                     |\")\n",
      "(\"|-----------------------------------------------------|\")\n",
      "(\"|Questions and bugs: esfandyari.hadi@gmail.com        |\")\n",
      "(\"|Development of xbreed was supported by GenSAP.       |\")\n",
      "(\"|-----------------------------------------------------|\")\n"
     ]
    }
   ],
   "source": [
    "library(\"devtools\")\n",
    "install_github(\"cran/xbreed\")\n",
    "library(\"xbreed\")"
   ]
  },
  {
   "cell_type": "code",
   "execution_count": null,
   "metadata": {},
   "outputs": [],
   "source": [
    "# 10 sires and 10 dams perform single pair mating to produce 10*100 = 100 progenies.\n",
    "RP10_nocc<-sample_hp(hp_out=hp,Male_founders= Male_founders,\n",
    "              Female_founders=Female_founders,ng=10,Selection=Selection,\n",
    "              Training=Training,\n",
    "              litter_size=100,saveAt=\"SNP3928_ncc\",sh_output=sh_output,Display=FALSE)"
   ]
  },
  {
   "cell_type": "code",
   "execution_count": 53,
   "metadata": {},
   "outputs": [
    {
     "data": {
      "text/html": [
       "<table>\n",
       "<thead><tr><th scope=col>Generation</th><th scope=col>Phenotype</th><th scope=col>TrueBV</th><th scope=col>GEBV</th><th scope=col>M_accuracy</th><th scope=col>F_accuracy</th><th scope=col>heritability</th><th scope=col>unlist(hete)</th><th scope=col>unlist(gain)</th></tr></thead>\n",
       "<tbody>\n",
       "\t<tr><td> 1        </td><td> 14.682569</td><td> 14.478334</td><td>-0.3628455</td><td>0.8176792 </td><td>0.8198696 </td><td>0.6829073 </td><td>0.39590631</td><td> 0.00000  </td></tr>\n",
       "\t<tr><td> 2        </td><td>  2.232497</td><td>  2.060189</td><td> 4.9574035</td><td>0.7659951 </td><td>0.7315190 </td><td>0.4758015 </td><td>0.28593024</td><td>12.45007  </td></tr>\n",
       "\t<tr><td> 3        </td><td> -5.621684</td><td> -5.613904</td><td>-7.1633135</td><td>0.6278530 </td><td>0.5902660 </td><td>0.3706593 </td><td>0.23830117</td><td>20.30425  </td></tr>\n",
       "\t<tr><td> 4        </td><td>-11.438713</td><td>-11.274532</td><td>-6.9337312</td><td>0.6796939 </td><td>0.7187948 </td><td>0.3979275 </td><td>0.22675662</td><td>26.12128  </td></tr>\n",
       "\t<tr><td> 5        </td><td>-15.785809</td><td>-15.778707</td><td>-2.6606829</td><td>0.5999974 </td><td>0.5757610 </td><td>0.3167830 </td><td>0.19705957</td><td>30.46838  </td></tr>\n",
       "\t<tr><td> 6        </td><td>-23.271197</td><td>-23.131492</td><td>-6.2074202</td><td>0.6291051 </td><td>0.6249988 </td><td>0.2959675 </td><td>0.16693075</td><td>37.95377  </td></tr>\n",
       "\t<tr><td> 7        </td><td>-28.782729</td><td>-28.873011</td><td>-8.2783810</td><td>0.6739883 </td><td>0.6812832 </td><td>0.3040785 </td><td>0.13938595</td><td>43.46530  </td></tr>\n",
       "\t<tr><td> 8        </td><td>-35.334361</td><td>-35.329185</td><td>-7.9526510</td><td>0.5513620 </td><td>0.5435248 </td><td>0.2496089 </td><td>0.10525407</td><td>50.01693  </td></tr>\n",
       "\t<tr><td> 9        </td><td>-36.839918</td><td>-37.022392</td><td>15.5210121</td><td>0.5788379 </td><td>0.5681730 </td><td>0.2247094 </td><td>0.10429735</td><td>51.52249  </td></tr>\n",
       "\t<tr><td>10        </td><td>-38.755593</td><td>-38.896725</td><td>24.3612179</td><td>0.6648804 </td><td>0.6473467 </td><td>0.1877287 </td><td>0.09371385</td><td>53.43816  </td></tr>\n",
       "</tbody>\n",
       "</table>\n"
      ],
      "text/latex": [
       "\\begin{tabular}{r|lllllllll}\n",
       " Generation & Phenotype & TrueBV & GEBV & M\\_accuracy & F\\_accuracy & heritability & unlist(hete) & unlist(gain)\\\\\n",
       "\\hline\n",
       "\t  1         &  14.682569 &  14.478334 & -0.3628455 & 0.8176792  & 0.8198696  & 0.6829073  & 0.39590631 &  0.00000  \\\\\n",
       "\t  2         &   2.232497 &   2.060189 &  4.9574035 & 0.7659951  & 0.7315190  & 0.4758015  & 0.28593024 & 12.45007  \\\\\n",
       "\t  3         &  -5.621684 &  -5.613904 & -7.1633135 & 0.6278530  & 0.5902660  & 0.3706593  & 0.23830117 & 20.30425  \\\\\n",
       "\t  4         & -11.438713 & -11.274532 & -6.9337312 & 0.6796939  & 0.7187948  & 0.3979275  & 0.22675662 & 26.12128  \\\\\n",
       "\t  5         & -15.785809 & -15.778707 & -2.6606829 & 0.5999974  & 0.5757610  & 0.3167830  & 0.19705957 & 30.46838  \\\\\n",
       "\t  6         & -23.271197 & -23.131492 & -6.2074202 & 0.6291051  & 0.6249988  & 0.2959675  & 0.16693075 & 37.95377  \\\\\n",
       "\t  7         & -28.782729 & -28.873011 & -8.2783810 & 0.6739883  & 0.6812832  & 0.3040785  & 0.13938595 & 43.46530  \\\\\n",
       "\t  8         & -35.334361 & -35.329185 & -7.9526510 & 0.5513620  & 0.5435248  & 0.2496089  & 0.10525407 & 50.01693  \\\\\n",
       "\t  9         & -36.839918 & -37.022392 & 15.5210121 & 0.5788379  & 0.5681730  & 0.2247094  & 0.10429735 & 51.52249  \\\\\n",
       "\t 10         & -38.755593 & -38.896725 & 24.3612179 & 0.6648804  & 0.6473467  & 0.1877287  & 0.09371385 & 53.43816  \\\\\n",
       "\\end{tabular}\n"
      ],
      "text/markdown": [
       "\n",
       "Generation | Phenotype | TrueBV | GEBV | M_accuracy | F_accuracy | heritability | unlist(hete) | unlist(gain) | \n",
       "|---|---|---|---|---|---|---|---|---|---|\n",
       "|  1         |  14.682569 |  14.478334 | -0.3628455 | 0.8176792  | 0.8198696  | 0.6829073  | 0.39590631 |  0.00000   | \n",
       "|  2         |   2.232497 |   2.060189 |  4.9574035 | 0.7659951  | 0.7315190  | 0.4758015  | 0.28593024 | 12.45007   | \n",
       "|  3         |  -5.621684 |  -5.613904 | -7.1633135 | 0.6278530  | 0.5902660  | 0.3706593  | 0.23830117 | 20.30425   | \n",
       "|  4         | -11.438713 | -11.274532 | -6.9337312 | 0.6796939  | 0.7187948  | 0.3979275  | 0.22675662 | 26.12128   | \n",
       "|  5         | -15.785809 | -15.778707 | -2.6606829 | 0.5999974  | 0.5757610  | 0.3167830  | 0.19705957 | 30.46838   | \n",
       "|  6         | -23.271197 | -23.131492 | -6.2074202 | 0.6291051  | 0.6249988  | 0.2959675  | 0.16693075 | 37.95377   | \n",
       "|  7         | -28.782729 | -28.873011 | -8.2783810 | 0.6739883  | 0.6812832  | 0.3040785  | 0.13938595 | 43.46530   | \n",
       "|  8         | -35.334361 | -35.329185 | -7.9526510 | 0.5513620  | 0.5435248  | 0.2496089  | 0.10525407 | 50.01693   | \n",
       "|  9         | -36.839918 | -37.022392 | 15.5210121 | 0.5788379  | 0.5681730  | 0.2247094  | 0.10429735 | 51.52249   | \n",
       "| 10         | -38.755593 | -38.896725 | 24.3612179 | 0.6648804  | 0.6473467  | 0.1877287  | 0.09371385 | 53.43816   | \n",
       "\n",
       "\n"
      ],
      "text/plain": [
       "   Generation Phenotype  TrueBV     GEBV       M_accuracy F_accuracy\n",
       "1   1          14.682569  14.478334 -0.3628455 0.8176792  0.8198696 \n",
       "2   2           2.232497   2.060189  4.9574035 0.7659951  0.7315190 \n",
       "3   3          -5.621684  -5.613904 -7.1633135 0.6278530  0.5902660 \n",
       "4   4         -11.438713 -11.274532 -6.9337312 0.6796939  0.7187948 \n",
       "5   5         -15.785809 -15.778707 -2.6606829 0.5999974  0.5757610 \n",
       "6   6         -23.271197 -23.131492 -6.2074202 0.6291051  0.6249988 \n",
       "7   7         -28.782729 -28.873011 -8.2783810 0.6739883  0.6812832 \n",
       "8   8         -35.334361 -35.329185 -7.9526510 0.5513620  0.5435248 \n",
       "9   9         -36.839918 -37.022392 15.5210121 0.5788379  0.5681730 \n",
       "10 10         -38.755593 -38.896725 24.3612179 0.6648804  0.6473467 \n",
       "   heritability unlist(hete) unlist(gain)\n",
       "1  0.6829073    0.39590631    0.00000    \n",
       "2  0.4758015    0.28593024   12.45007    \n",
       "3  0.3706593    0.23830117   20.30425    \n",
       "4  0.3979275    0.22675662   26.12128    \n",
       "5  0.3167830    0.19705957   30.46838    \n",
       "6  0.2959675    0.16693075   37.95377    \n",
       "7  0.3040785    0.13938595   43.46530    \n",
       "8  0.2496089    0.10525407   50.01693    \n",
       "9  0.2247094    0.10429735   51.52249    \n",
       "10 0.1877287    0.09371385   53.43816    "
      ]
     },
     "metadata": {},
     "output_type": "display_data"
    }
   ],
   "source": [
    "hete<-list()\n",
    "for (i in seq(1,10,1)){\n",
    "n<-bin_snp(RP10_nocc$output[[i+1]]$mrk[,3:7858])\n",
    "hete[i]<-hetero_loci(n)}\n",
    "for (i in seq(1,9,1)){\n",
    "gain[i+1]<-abs(RP10_nocc$summary_data$Phenotype[i+1]-RP10_nocc$summary_data$Phenotype[1])\n",
    "}\n",
    "(fnocc<-cbind(RP10_nocc$summary_data,unlist(hete),unlist(gain)))"
   ]
  },
  {
   "cell_type": "code",
   "execution_count": 54,
   "metadata": {},
   "outputs": [],
   "source": [
    "write.xlsx(fnocc, \"2.2fnocc.xlsx\") "
   ]
  },
  {
   "cell_type": "code",
   "execution_count": 1,
   "metadata": {},
   "outputs": [],
   "source": [
    "library(\"readxl\")\n",
    "fnocc<-read_excel(\"2.2fnocc.xlsx\")\n",
    "fcc<-read_excel(\"2.2fcc.xlsx\")"
   ]
  },
  {
   "cell_type": "code",
   "execution_count": 2,
   "metadata": {},
   "outputs": [],
   "source": [
    "plot<-data.frame(heterozygosity=c(unlist(fcc[,9]),unlist(fnocc[,9])),\n",
    "                 heritability=c(unlist(fcc[,8]),unlist(fnocc[,8])),\n",
    "                 selectionResponse=c(unlist(fcc[,10]),unlist(fnocc[,10])),\n",
    "                 ng=as.factor(rep(seq(1,10,1),2)),\n",
    "                 CompletCross=as.factor(rep(c(\"Yes\",\"No\"),each = 10)))"
   ]
  },
  {
   "cell_type": "code",
   "execution_count": 3,
   "metadata": {
    "scrolled": false
   },
   "outputs": [
    {
     "data": {
      "text/html": [
       "<table>\n",
       "<thead><tr><th></th><th scope=col>heterozygosity</th><th scope=col>heritability</th><th scope=col>selectionResponse</th><th scope=col>ng</th><th scope=col>CompletCross</th></tr></thead>\n",
       "<tbody>\n",
       "\t<tr><th scope=row>unlist(hetecc)1</th><td>0.39521945</td><td>0.6671791 </td><td> 0.00000  </td><td>1         </td><td>Yes       </td></tr>\n",
       "\t<tr><th scope=row>unlist(hetecc)2</th><td>0.34931390</td><td>0.4934025 </td><td>14.10710  </td><td>2         </td><td>Yes       </td></tr>\n",
       "\t<tr><th scope=row>unlist(hetecc)3</th><td>0.32371029</td><td>0.6134671 </td><td>23.11493  </td><td>3         </td><td>Yes       </td></tr>\n",
       "\t<tr><th scope=row>unlist(hetecc)4</th><td>0.29905677</td><td>0.5156925 </td><td>32.36834  </td><td>4         </td><td>Yes       </td></tr>\n",
       "\t<tr><th scope=row>unlist(hetecc)5</th><td>0.25923549</td><td>0.4900132 </td><td>41.87974  </td><td>5         </td><td>Yes       </td></tr>\n",
       "\t<tr><th scope=row>unlist(hetecc)6</th><td>0.21107714</td><td>0.3691684 </td><td>51.15018  </td><td>6         </td><td>Yes       </td></tr>\n",
       "\t<tr><th scope=row>unlist(hetecc)7</th><td>0.19402928</td><td>0.3184227 </td><td>57.16558  </td><td>7         </td><td>Yes       </td></tr>\n",
       "\t<tr><th scope=row>unlist(hetecc)8</th><td>0.18232205</td><td>0.3704608 </td><td>62.76470  </td><td>8         </td><td>Yes       </td></tr>\n",
       "\t<tr><th scope=row>unlist(hetecc)9</th><td>0.17101884</td><td>0.2239618 </td><td>68.72272  </td><td>9         </td><td>Yes       </td></tr>\n",
       "\t<tr><th scope=row>unlist(hetecc)10</th><td>0.15200051</td><td>0.2686808 </td><td>73.11659  </td><td>10        </td><td>Yes       </td></tr>\n",
       "\t<tr><th scope=row>unlist(hete)1</th><td>0.39590631</td><td>0.6829073 </td><td> 0.00000  </td><td>1         </td><td>No        </td></tr>\n",
       "\t<tr><th scope=row>unlist(hete)2</th><td>0.28593024</td><td>0.4758015 </td><td>12.45007  </td><td>2         </td><td>No        </td></tr>\n",
       "\t<tr><th scope=row>unlist(hete)3</th><td>0.23830117</td><td>0.3706593 </td><td>20.30425  </td><td>3         </td><td>No        </td></tr>\n",
       "\t<tr><th scope=row>unlist(hete)4</th><td>0.22675662</td><td>0.3979275 </td><td>26.12128  </td><td>4         </td><td>No        </td></tr>\n",
       "\t<tr><th scope=row>unlist(hete)5</th><td>0.19705957</td><td>0.3167830 </td><td>30.46838  </td><td>5         </td><td>No        </td></tr>\n",
       "\t<tr><th scope=row>unlist(hete)6</th><td>0.16693075</td><td>0.2959675 </td><td>37.95377  </td><td>6         </td><td>No        </td></tr>\n",
       "\t<tr><th scope=row>unlist(hete)7</th><td>0.13938595</td><td>0.3040785 </td><td>43.46530  </td><td>7         </td><td>No        </td></tr>\n",
       "\t<tr><th scope=row>unlist(hete)8</th><td>0.10525407</td><td>0.2496089 </td><td>50.01693  </td><td>8         </td><td>No        </td></tr>\n",
       "\t<tr><th scope=row>unlist(hete)9</th><td>0.10429735</td><td>0.2247094 </td><td>51.52249  </td><td>9         </td><td>No        </td></tr>\n",
       "\t<tr><th scope=row>unlist(hete)10</th><td>0.09371385</td><td>0.1877287 </td><td>53.43816  </td><td>10        </td><td>No        </td></tr>\n",
       "</tbody>\n",
       "</table>\n"
      ],
      "text/latex": [
       "\\begin{tabular}{r|lllll}\n",
       "  & heterozygosity & heritability & selectionResponse & ng & CompletCross\\\\\n",
       "\\hline\n",
       "\tunlist(hetecc)1 & 0.39521945 & 0.6671791  &  0.00000   & 1          & Yes       \\\\\n",
       "\tunlist(hetecc)2 & 0.34931390 & 0.4934025  & 14.10710   & 2          & Yes       \\\\\n",
       "\tunlist(hetecc)3 & 0.32371029 & 0.6134671  & 23.11493   & 3          & Yes       \\\\\n",
       "\tunlist(hetecc)4 & 0.29905677 & 0.5156925  & 32.36834   & 4          & Yes       \\\\\n",
       "\tunlist(hetecc)5 & 0.25923549 & 0.4900132  & 41.87974   & 5          & Yes       \\\\\n",
       "\tunlist(hetecc)6 & 0.21107714 & 0.3691684  & 51.15018   & 6          & Yes       \\\\\n",
       "\tunlist(hetecc)7 & 0.19402928 & 0.3184227  & 57.16558   & 7          & Yes       \\\\\n",
       "\tunlist(hetecc)8 & 0.18232205 & 0.3704608  & 62.76470   & 8          & Yes       \\\\\n",
       "\tunlist(hetecc)9 & 0.17101884 & 0.2239618  & 68.72272   & 9          & Yes       \\\\\n",
       "\tunlist(hetecc)10 & 0.15200051 & 0.2686808  & 73.11659   & 10         & Yes       \\\\\n",
       "\tunlist(hete)1 & 0.39590631 & 0.6829073  &  0.00000   & 1          & No        \\\\\n",
       "\tunlist(hete)2 & 0.28593024 & 0.4758015  & 12.45007   & 2          & No        \\\\\n",
       "\tunlist(hete)3 & 0.23830117 & 0.3706593  & 20.30425   & 3          & No        \\\\\n",
       "\tunlist(hete)4 & 0.22675662 & 0.3979275  & 26.12128   & 4          & No        \\\\\n",
       "\tunlist(hete)5 & 0.19705957 & 0.3167830  & 30.46838   & 5          & No        \\\\\n",
       "\tunlist(hete)6 & 0.16693075 & 0.2959675  & 37.95377   & 6          & No        \\\\\n",
       "\tunlist(hete)7 & 0.13938595 & 0.3040785  & 43.46530   & 7          & No        \\\\\n",
       "\tunlist(hete)8 & 0.10525407 & 0.2496089  & 50.01693   & 8          & No        \\\\\n",
       "\tunlist(hete)9 & 0.10429735 & 0.2247094  & 51.52249   & 9          & No        \\\\\n",
       "\tunlist(hete)10 & 0.09371385 & 0.1877287  & 53.43816   & 10         & No        \\\\\n",
       "\\end{tabular}\n"
      ],
      "text/markdown": [
       "\n",
       "| <!--/--> | heterozygosity | heritability | selectionResponse | ng | CompletCross | \n",
       "|---|---|---|---|---|---|---|---|---|---|---|---|---|---|---|---|---|---|---|---|\n",
       "| unlist(hetecc)1 | 0.39521945 | 0.6671791  |  0.00000   | 1          | Yes        | \n",
       "| unlist(hetecc)2 | 0.34931390 | 0.4934025  | 14.10710   | 2          | Yes        | \n",
       "| unlist(hetecc)3 | 0.32371029 | 0.6134671  | 23.11493   | 3          | Yes        | \n",
       "| unlist(hetecc)4 | 0.29905677 | 0.5156925  | 32.36834   | 4          | Yes        | \n",
       "| unlist(hetecc)5 | 0.25923549 | 0.4900132  | 41.87974   | 5          | Yes        | \n",
       "| unlist(hetecc)6 | 0.21107714 | 0.3691684  | 51.15018   | 6          | Yes        | \n",
       "| unlist(hetecc)7 | 0.19402928 | 0.3184227  | 57.16558   | 7          | Yes        | \n",
       "| unlist(hetecc)8 | 0.18232205 | 0.3704608  | 62.76470   | 8          | Yes        | \n",
       "| unlist(hetecc)9 | 0.17101884 | 0.2239618  | 68.72272   | 9          | Yes        | \n",
       "| unlist(hetecc)10 | 0.15200051 | 0.2686808  | 73.11659   | 10         | Yes        | \n",
       "| unlist(hete)1 | 0.39590631 | 0.6829073  |  0.00000   | 1          | No         | \n",
       "| unlist(hete)2 | 0.28593024 | 0.4758015  | 12.45007   | 2          | No         | \n",
       "| unlist(hete)3 | 0.23830117 | 0.3706593  | 20.30425   | 3          | No         | \n",
       "| unlist(hete)4 | 0.22675662 | 0.3979275  | 26.12128   | 4          | No         | \n",
       "| unlist(hete)5 | 0.19705957 | 0.3167830  | 30.46838   | 5          | No         | \n",
       "| unlist(hete)6 | 0.16693075 | 0.2959675  | 37.95377   | 6          | No         | \n",
       "| unlist(hete)7 | 0.13938595 | 0.3040785  | 43.46530   | 7          | No         | \n",
       "| unlist(hete)8 | 0.10525407 | 0.2496089  | 50.01693   | 8          | No         | \n",
       "| unlist(hete)9 | 0.10429735 | 0.2247094  | 51.52249   | 9          | No         | \n",
       "| unlist(hete)10 | 0.09371385 | 0.1877287  | 53.43816   | 10         | No         | \n",
       "\n",
       "\n"
      ],
      "text/plain": [
       "                 heterozygosity heritability selectionResponse ng CompletCross\n",
       "unlist(hetecc)1  0.39521945     0.6671791     0.00000          1  Yes         \n",
       "unlist(hetecc)2  0.34931390     0.4934025    14.10710          2  Yes         \n",
       "unlist(hetecc)3  0.32371029     0.6134671    23.11493          3  Yes         \n",
       "unlist(hetecc)4  0.29905677     0.5156925    32.36834          4  Yes         \n",
       "unlist(hetecc)5  0.25923549     0.4900132    41.87974          5  Yes         \n",
       "unlist(hetecc)6  0.21107714     0.3691684    51.15018          6  Yes         \n",
       "unlist(hetecc)7  0.19402928     0.3184227    57.16558          7  Yes         \n",
       "unlist(hetecc)8  0.18232205     0.3704608    62.76470          8  Yes         \n",
       "unlist(hetecc)9  0.17101884     0.2239618    68.72272          9  Yes         \n",
       "unlist(hetecc)10 0.15200051     0.2686808    73.11659          10 Yes         \n",
       "unlist(hete)1    0.39590631     0.6829073     0.00000          1  No          \n",
       "unlist(hete)2    0.28593024     0.4758015    12.45007          2  No          \n",
       "unlist(hete)3    0.23830117     0.3706593    20.30425          3  No          \n",
       "unlist(hete)4    0.22675662     0.3979275    26.12128          4  No          \n",
       "unlist(hete)5    0.19705957     0.3167830    30.46838          5  No          \n",
       "unlist(hete)6    0.16693075     0.2959675    37.95377          6  No          \n",
       "unlist(hete)7    0.13938595     0.3040785    43.46530          7  No          \n",
       "unlist(hete)8    0.10525407     0.2496089    50.01693          8  No          \n",
       "unlist(hete)9    0.10429735     0.2247094    51.52249          9  No          \n",
       "unlist(hete)10   0.09371385     0.1877287    53.43816          10 No          "
      ]
     },
     "metadata": {},
     "output_type": "display_data"
    }
   ],
   "source": [
    "plot"
   ]
  },
  {
   "cell_type": "code",
   "execution_count": 4,
   "metadata": {},
   "outputs": [],
   "source": [
    "library(ggplot2)\n",
    "options(repr.plot.width=6, repr.plot.height=4)\n",
    "p <- ggplot(plot, aes(x=ng, y=heterozygosity,group=CompletCross)) + \n",
    "       geom_line(aes(color=CompletCross))+\n",
    "       geom_point(aes(color=CompletCross))+    \n",
    "       scale_colour_manual(values=c(\"red\", \"blue\"),\n",
    "                       name=\"Full diallel \\n crossing\")+\n",
    "       labs(x = \"Generation\",y=\"Mean heterozygosity\")+\n",
    "       theme(axis.text.y= element_text(size = rel(1.2)),\n",
    "             axis.text.x = element_text(size = rel(1.2)),\n",
    "             text=element_text(size=10, family=\"serif\"),\n",
    "            legend.position=\"none\")"
   ]
  },
  {
   "cell_type": "code",
   "execution_count": 5,
   "metadata": {},
   "outputs": [],
   "source": [
    "library(ggplot2)\n",
    "options(repr.plot.width=6, repr.plot.height=4)\n",
    "p1 <- ggplot(plot, aes(x=ng, y=heterozygosity,group=CompletCross)) + \n",
    "       geom_line(aes(color=CompletCross))+\n",
    "       geom_point(aes(color=CompletCross))+    \n",
    "       scale_colour_manual(values=c(\"red\", \"blue\"),\n",
    "                       name=\"Full diallel \\n crossing\")+\n",
    "       labs(x = \"Generation\",y=\"Heritability\")+\n",
    "       theme(axis.text.y= element_text(size = rel(1.2)),\n",
    "             axis.text.x = element_text(size = rel(1.2)),\n",
    "             text=element_text(size=10, family=\"serif\"),\n",
    "             legend.position=\"none\")"
   ]
  },
  {
   "cell_type": "code",
   "execution_count": 6,
   "metadata": {},
   "outputs": [],
   "source": [
    "library(ggplot2)\n",
    "options(repr.plot.width=6, repr.plot.height=4)\n",
    "p2 <- ggplot(plot, aes(x=ng, y=selectionResponse,group=CompletCross)) + \n",
    "       geom_line(aes(color=CompletCross))+\n",
    "       geom_point(aes(color=CompletCross))+\n",
    "       scale_colour_manual(values=c(\"red\", \"blue\"),\n",
    "                       name=\"Full diallel \\n crossing\")+\n",
    "       labs(x = \"Generation\",y=\"AASR\")+\n",
    "       theme(axis.text.y= element_text(size = rel(1.2)),\n",
    "             axis.text.x = element_text(size = rel(1.2)),\n",
    "             text=element_text(size=10, family=\"serif\"))"
   ]
  },
  {
   "cell_type": "code",
   "execution_count": 7,
   "metadata": {},
   "outputs": [
    {
     "name": "stderr",
     "output_type": "stream",
     "text": [
      "\n",
      "\n",
      "*******************************************************\n",
      "Note: cowplot does not change the default ggplot2 theme\n",
      "anymore. To recover the previous behavior, execute:\n",
      "  theme_set(theme_cowplot())\n",
      "*******************************************************\n",
      "\n"
     ]
    },
    {
     "data": {},
     "metadata": {},
     "output_type": "display_data"
    },
    {
     "data": {
      "image/png": "[encoded data removed]",
      "text/plain": [
       "plot without title"
      ]
     },
     "metadata": {},
     "output_type": "display_data"
    }
   ],
   "source": [
    "library(\"cowplot\")\n",
    "options(repr.plot.width=8, repr.plot.height=8)\n",
    "all<- ggdraw() +\n",
    "  draw_plot(p, x = 0, y = .5, width = .5, height = .5) +\n",
    "  draw_plot(p1, x = .5, y = .5, width = .5, height = .5) +\n",
    "  draw_plot(p2, x = 0, y = 0, width = .62, height = 0.5) +\n",
    "  draw_plot_label(label = c(\"a\", \"b\", \"c\"), size = 15,\n",
    "                  x = c(0, 0.5, 0), y = c(1, 1, 0.5))\n",
    "all"
   ]
  },
  {
   "cell_type": "code",
   "execution_count": 8,
   "metadata": {},
   "outputs": [
    {
     "data": {},
     "metadata": {},
     "output_type": "display_data"
    },
    {
     "data": {
      "text/html": [
       "<strong>png:</strong> 2"
      ],
      "text/latex": [
       "\\textbf{png:} 2"
      ],
      "text/markdown": [
       "**png:** 2"
      ],
      "text/plain": [
       "png \n",
       "  2 "
      ]
     },
     "metadata": {},
     "output_type": "display_data"
    }
   ],
   "source": [
    "png(\"1.1FullDiallel.png\", width=8, height=8, units=\"in\", res=300)\n",
    "all\n",
    "dev.off()"
   ]
  },
  {
   "cell_type": "code",
   "execution_count": null,
   "metadata": {},
   "outputs": [],
   "source": []
  }
 ],
 "metadata": {
  "kernelspec": {
   "display_name": "R",
   "language": "R",
   "name": "ir"
  },
  "language_info": {
   "codemirror_mode": "r",
   "file_extension": ".r",
   "mimetype": "text/x-r-source",
   "name": "R",
   "pygments_lexer": "r",
   "version": "3.5.1"
  }
 },
 "nbformat": 4,
 "nbformat_minor": 2
}
