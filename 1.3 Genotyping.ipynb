{
 "cells": [
  {
   "cell_type": "code",
   "execution_count": 2,
   "metadata": {},
   "outputs": [],
   "source": [
    "# Loading data\n",
    "geno <-read.table(\"./Hetero_realigned_cov10_filtered3.raw\", \n",
    "                  row.names=1, header=T)\n",
    "row.names(geno)=1:240"
   ]
  },
  {
   "cell_type": "markdown",
   "metadata": {},
   "source": [
    "## Number of SNPs for each chromosome"
   ]
  },
  {
   "cell_type": "code",
   "execution_count": 3,
   "metadata": {},
   "outputs": [
    {
     "data": {
      "text/html": [
       "3928"
      ],
      "text/latex": [
       "3928"
      ],
      "text/markdown": [
       "3928"
      ],
      "text/plain": [
       "[1] 3928"
      ]
     },
     "metadata": {},
     "output_type": "display_data"
    }
   ],
   "source": [
    "# Position data\n",
    "lin_map<-read.table(\"raw.map\")\n",
    "m<-1:22; chr<-1:22\n",
    "for(i in chr) {m[i]=dim(lin_map[lin_map$V1==i,])[1]}\n",
    "data<-data.frame(SNP=m,chr=chr)\n",
    "sum(data$SNP) # total SNPs "
   ]
  },
  {
   "cell_type": "code",
   "execution_count": 15,
   "metadata": {},
   "outputs": [
    {
     "data": {
      "text/html": [
       "<strong>png:</strong> 2"
      ],
      "text/latex": [
       "\\textbf{png:} 2"
      ],
      "text/markdown": [
       "**png:** 2"
      ],
      "text/plain": [
       "png \n",
       "  2 "
      ]
     },
     "metadata": {},
     "output_type": "display_data"
    },
    {
     "data": {},
     "metadata": {},
     "output_type": "display_data"
    },
    {
     "data": {
      "image/png": "[encoded data removed]",
      "text/plain": [
       "plot without title"
      ]
     },
     "metadata": {},
     "output_type": "display_data"
    }
   ],
   "source": [
    "library(\"extrafont\")\n",
    "library(ggplot2)\n",
    "options(repr.plot.width=8, repr.plot.height=4)\n",
    "p<-ggplot(data=data, aes(x=chr, y=SNP))+\n",
    "  geom_bar(stat=\"identity\", fill=\"steelblue\")+\n",
    "  geom_text(aes(label=SNP), hjust = 0, color =\"black\",\n",
    "            family=\"serif\", size=4)+\n",
    "  labs(x=\"Chromosome\", y=\"Numbers of SNPs\")+\n",
    "  theme(axis.text.y=element_text(size=10),\n",
    "        axis.text.x=element_text(size=10),\n",
    "        text=element_text(size=10, \n",
    "        family=\"serif\"))+\n",
    "  coord_flip()\n",
    "png(\"Marker_distrbution.png\", width=8, height=4, units=\"in\", res=300)\n",
    "# Horizontal bar plot\n",
    "plot(p)\n",
    "dev.off()\n",
    "p"
   ]
  },
  {
   "cell_type": "markdown",
   "metadata": {},
   "source": [
    "## Heterozigosity"
   ]
  },
  {
   "cell_type": "code",
   "execution_count": 29,
   "metadata": {},
   "outputs": [],
   "source": [
    "# Function for calculation of heterozigosity\n",
    "hetero_loci<-function(geno){\n",
    "   n<-list()\n",
    "   for (i in 1:length(geno)){\n",
    "   m<-(data.frame(table(geno[,i])))    \n",
    "   n[i]<-m[m[,1]==1,][1,2]/240\n",
    "       }\n",
    "    return(n)\n",
    "    }"
   ]
  },
  {
   "cell_type": "code",
   "execution_count": 30,
   "metadata": {},
   "outputs": [
    {
     "data": {
      "text/plain": [
       "    Min.  1st Qu.   Median     Mean  3rd Qu.     Max. \n",
       "0.008333 0.554167 0.779167 0.705820 0.908333 1.000000 "
      ]
     },
     "metadata": {},
     "output_type": "display_data"
    }
   ],
   "source": [
    "i<-hetero_loci(geno)\n",
    "summary(as.numeric(i))"
   ]
  },
  {
   "cell_type": "code",
   "execution_count": null,
   "metadata": {},
   "outputs": [],
   "source": []
  }
 ],
 "metadata": {
  "kernelspec": {
   "display_name": "R",
   "language": "R",
   "name": "ir"
  },
  "language_info": {
   "codemirror_mode": "r",
   "file_extension": ".r",
   "mimetype": "text/x-r-source",
   "name": "R",
   "pygments_lexer": "r",
   "version": "3.5.1"
  }
 },
 "nbformat": 4,
 "nbformat_minor": 2
}
