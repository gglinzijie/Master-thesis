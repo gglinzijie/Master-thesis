{
 "cells": [
  {
   "cell_type": "code",
   "execution_count": 1,
   "metadata": {},
   "outputs": [],
   "source": [
    "# Loading data\n",
    "geno <-read.table(\"./Hetero_realigned_cov10_filtered3.raw\", row.names=1, header=T)\n",
    "row.names(geno)=1:240\n",
    "x <- as.matrix(geno)-1   \n",
    "pheno <- read.csv(\"./2017heteroPheno.csv\", header=T)\n",
    "attach(pheno)"
   ]
  },
  {
   "cell_type": "markdown",
   "metadata": {},
   "source": [
    "## Heritability estimates for H. okamotoi count and body length. "
   ]
  },
  {
   "cell_type": "code",
   "execution_count": 2,
   "metadata": {},
   "outputs": [
    {
     "data": {
      "text/plain": [
       "[1] '4.6'"
      ]
     },
     "metadata": {},
     "output_type": "display_data"
    }
   ],
   "source": [
    "library(rrBLUP)\n",
    "packageVersion(\"rrBLUP\")"
   ]
  },
  {
   "cell_type": "code",
   "execution_count": 3,
   "metadata": {},
   "outputs": [
    {
     "name": "stdout",
     "output_type": "stream",
     "text": [
      "[1] \"h2_bcw 0.646466246474394\"\n",
      "[1] \"h2_length 0.843382207015855\"\n"
     ]
    }
   ],
   "source": [
    "A <- A.mat(x, n.core=8)\n",
    "data <- data.frame(tbcw=sqrt(pheno$bcw+1),length=pheno$length,gid=1:240,x=x)\n",
    "row.names(A)=1:240;colnames(A)=1:240\n",
    "ans_bcw <- kin.blup(data,geno=\"gid\", pheno=\"tbcw\",K=A)\n",
    "ans_length <- kin.blup(data,geno=\"gid\",pheno=\"length\",K = A)\n",
    "h2_bcw <- ans_bcw$Vg/(ans_bcw$Vg+ans_bcw$Ve)        \n",
    "h2_length <- ans_length$Vg/(ans_length$Vg+ans_length$Ve)\n",
    "print(paste(\"h2_bcw\", h2_bcw))\n",
    "print(paste(\"h2_length\", h2_length))"
   ]
  }
 ],
 "metadata": {
  "kernelspec": {
   "display_name": "R",
   "language": "R",
   "name": "ir"
  },
  "language_info": {
   "codemirror_mode": "r",
   "file_extension": ".r",
   "mimetype": "text/x-r-source",
   "name": "R",
   "pygments_lexer": "r",
   "version": "3.5.1"
  }
 },
 "nbformat": 4,
 "nbformat_minor": 2
}
