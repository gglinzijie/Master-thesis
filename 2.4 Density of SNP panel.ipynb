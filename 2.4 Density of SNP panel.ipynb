{
 "cells": [
  {
   "cell_type": "code",
   "execution_count": 1,
   "metadata": {},
   "outputs": [
    {
     "data": {
      "text/html": [
       "'windows'"
      ],
      "text/latex": [
       "'windows'"
      ],
      "text/markdown": [
       "'windows'"
      ],
      "text/plain": [
       "[1] \"windows\""
      ]
     },
     "metadata": {},
     "output_type": "display_data"
    },
    {
     "data": {
      "text/html": [
       "'R version 3.5.1 (2018-07-02)'"
      ],
      "text/latex": [
       "'R version 3.5.1 (2018-07-02)'"
      ],
      "text/markdown": [
       "'R version 3.5.1 (2018-07-02)'"
      ],
      "text/plain": [
       "[1] \"R version 3.5.1 (2018-07-02)\""
      ]
     },
     "metadata": {},
     "output_type": "display_data"
    },
    {
     "data": {
      "text/html": [
       "'Intel(R) Core(TM) i7-7700HQ CPU @ 2.80GHz'"
      ],
      "text/latex": [
       "'Intel(R) Core(TM) i7-7700HQ CPU @ 2.80GHz'"
      ],
      "text/markdown": [
       "'Intel(R) Core(TM) i7-7700HQ CPU @ 2.80GHz'"
      ],
      "text/plain": [
       "[1] \"Intel(R) Core(TM) i7-7700HQ CPU @ 2.80GHz\""
      ]
     },
     "metadata": {},
     "output_type": "display_data"
    },
    {
     "data": {
      "text/html": [
       "8"
      ],
      "text/latex": [
       "8"
      ],
      "text/markdown": [
       "8"
      ],
      "text/plain": [
       "[1] 8"
      ]
     },
     "metadata": {},
     "output_type": "display_data"
    },
    {
     "data": {
      "text/plain": [
       "8.59 GB"
      ]
     },
     "metadata": {},
     "output_type": "display_data"
    }
   ],
   "source": [
    "library(benchmarkme)\n",
    "get_platform_info()$OS.type\n",
    "get_r_version()$version.string\n",
    "get_cpu()$model_name;get_cpu()$no_of_cores\n",
    "get_ram()"
   ]
  },
  {
   "cell_type": "code",
   "execution_count": 2,
   "metadata": {},
   "outputs": [
    {
     "name": "stderr",
     "output_type": "stream",
     "text": [
      "(\"|-----------------------------------------------------|\")\n",
      "(\"|                      xbreed                         |\")\n",
      "(\"|    Genomic simulation of purebreds and crossbreds   |\")\n",
      "(\"|               March 2017 Version 1.0.1              |\")\n",
      "(\"|                                                     |\")\n",
      "(\"|             H.Esfandyari,A.C.Sorensen               |\")\n",
      "(\"| Center for Quantitative Qenetics and Genomics (QGG) |\")\n",
      "(\"|             Aarhus University,Denmark               |\")\n",
      "(\"|                                                     |\")\n",
      "(\"|-----------------------------------------------------|\")\n",
      "(\"|Questions and bugs: esfandyari.hadi@gmail.com        |\")\n",
      "(\"|Development of xbreed was supported by GenSAP.       |\")\n",
      "(\"|-----------------------------------------------------|\")\n"
     ]
    }
   ],
   "source": [
    "##Package was modified to allow complete cross mating\n",
    "#library(\"devtools\")\n",
    "#install_github(\"gglinzijie/xbreed\")\n",
    "library(\"xbreed\")"
   ]
  },
  {
   "cell_type": "markdown",
   "metadata": {},
   "source": [
    "# Genome specification"
   ]
  },
  {
   "cell_type": "code",
   "execution_count": 3,
   "metadata": {},
   "outputs": [
    {
     "data": {
      "text/html": [
       "3928"
      ],
      "text/latex": [
       "3928"
      ],
      "text/markdown": [
       "3928"
      ],
      "text/plain": [
       "[1] 3928"
      ]
     },
     "metadata": {},
     "output_type": "display_data"
    }
   ],
   "source": [
    "#Number of markers per chr from chapter 1\n",
    "lin_map<-read.table(\"raw.map\")\n",
    "m=1:22\n",
    "for(i in 1:22) {m[i]=dim(lin_map[lin_map$V1==i,])[1]}\n",
    "sum(m)"
   ]
  },
  {
   "cell_type": "code",
   "execution_count": 4,
   "metadata": {},
   "outputs": [],
   "source": [
    "#data from chaptre 1\n",
    "geno<-read.table(\"Hetero_realigned_cov10_filtered3.raw\")\n",
    "pheno<-read.csv(\"2017heteroPheno.csv\", header=T)\n",
    "attach(pheno)"
   ]
  },
  {
   "cell_type": "code",
   "execution_count": 7,
   "metadata": {},
   "outputs": [],
   "source": [
    "#parameter of genome\n",
    "no.chr<-22\n",
    "genome<-data.frame(matrix(NA, nrow=no.chr, ncol=6))\n",
    "names(genome)<-c(\"chr\",\"len\",\"nmrk\",\"mpos\",\"nqtl\",\"qpos\")\n",
    "genome$chr<-c(1:no.chr) #Chromosome id from 1 to 22\n",
    "genome$len<-c(200,rep(100,21))#Chromosome length in cM\n",
    "genome$nmrk<-c(3*m) #Number of markers, 3*3928 in total \n",
    "genome$mpos<-c('even') \n",
    "genome$nqtl<-c(40) #Number of qtl  40*22 = 880 in total\n",
    "genome$qpos<-c('rnd')"
   ]
  },
  {
   "cell_type": "markdown",
   "metadata": {},
   "source": [
    "# Historiacal population"
   ]
  },
  {
   "cell_type": "code",
   "execution_count": 8,
   "metadata": {},
   "outputs": [
    {
     "name": "stdout",
     "output_type": "stream",
     "text": [
      "---sel_seq_qtl is missing, it has been set to default value of 0\n",
      "---sel_seq_mrk is missing, it has been set to default value of 0\n",
      "Historical pop is initialized...\n",
      "Simulating trait ...\n",
      "Output data preparation ...\n",
      "Establishment of historical population completed\n"
     ]
    }
   ],
   "source": [
    "#Historical population \n",
    "hp<-make_hp(hpsize=1000 ,ng=1000,h2=0.654,d2=0,phen_var=84,\n",
    "            genome=genome,mutr=2.5*10**-4,laf=1)"
   ]
  },
  {
   "cell_type": "code",
   "execution_count": 9,
   "metadata": {},
   "outputs": [
    {
     "data": {
      "text/html": [
       "0.333333333333333"
      ],
      "text/latex": [
       "0.333333333333333"
      ],
      "text/markdown": [
       "0.333333333333333"
      ],
      "text/plain": [
       "[1] 0.3333333"
      ]
     },
     "metadata": {},
     "output_type": "display_data"
    },
    {
     "data": {
      "text/html": [
       "0.281956245595249"
      ],
      "text/latex": [
       "0.281956245595249"
      ],
      "text/markdown": [
       "0.281956245595249"
      ],
      "text/plain": [
       "[1] 0.2819562"
      ]
     },
     "metadata": {},
     "output_type": "display_data"
    }
   ],
   "source": [
    "#validation\n",
    "mutr<-2.5*10**-4\n",
    "ne<-1000\n",
    "k<-2 \n",
    "Fneu<-4*ne*mutr\n",
    "(Expected_het1<-1-((1+((Fneu)/(k-1)))/(1+((Fneu*k)/(k-1)))))\n",
    "(het_observed<-mean(2*(hp$freqMrk[,3]*hp$freqMrk[,4])))"
   ]
  },
  {
   "cell_type": "code",
   "execution_count": 10,
   "metadata": {},
   "outputs": [],
   "source": [
    "Male_founders<-data.frame(number=10,select='rnd')\n",
    "Female_founders<-data.frame(number=10,select='rnd')"
   ]
  },
  {
   "cell_type": "code",
   "execution_count": 11,
   "metadata": {},
   "outputs": [],
   "source": [
    "Selection<-data.frame(matrix(NA, nrow=2, ncol=3))\n",
    "names(Selection)<-c('Number','type','Value') \n",
    "Selection$Number[1:2]<-c(10,10)\n",
    "Selection$type[1:2]<-c('rnd','rnd')\n",
    "Selection$Value[1:2]<-c('l','l')"
   ]
  },
  {
   "cell_type": "code",
   "execution_count": 12,
   "metadata": {},
   "outputs": [],
   "source": [
    "sh_output<-data.frame(matrix(NA, nrow=1, ncol=4))\n",
    "names(sh_output)<-c(\"data\",\"qtl\",\"freq_mrk\",\"marker\")\n",
    "sh_output[1]<-c(1) \n",
    "sh_output[2]<-c(1) \n",
    "sh_output[3]<-c(1)\n",
    "sh_output[4]<-c(1)"
   ]
  },
  {
   "cell_type": "code",
   "execution_count": 13,
   "metadata": {
    "scrolled": true
   },
   "outputs": [
    {
     "name": "stdout",
     "output_type": "stream",
     "text": [
      "Controlling input data ...\n",
      "Intializing base population ...\n",
      "Generation 0 started ......... \n",
      "Generation 0 is finished. Time taken: 12.84763\n",
      "Generation 1 started ......... \n",
      "Generation 1 is finished. Time taken: 17.4952\n",
      "Output data preparation ...\n",
      "Writing output files ...\n",
      "Sampling hp is done!\n"
     ]
    }
   ],
   "source": [
    "#10 sires and 10 dams perform complete cross; 200 eggs were produced per dam.\n",
    "RP<-sample_hp(hp_out=hp,Male_founders= Male_founders,\n",
    "              Female_founders=Female_founders,ng=1,Selection=Selection, \n",
    "              litter_size=100,saveAt=\"SNP3928\",sh_output=sh_output,Display=FALSE)"
   ]
  },
  {
   "cell_type": "code",
   "execution_count": 14,
   "metadata": {},
   "outputs": [],
   "source": [
    "#function for calculate the allele coding, which is 0, 1, 2\n",
    "bin_snp<-function(mat){\n",
    "s1<-seq(1,ncol(mat),2)\n",
    "s2<-seq(2,ncol(mat),2)\n",
    "a1<-mat[,s1]+mat[,s2]\n",
    "a1[a1==3]=1\n",
    "a1[a1==4]=0\n",
    "snp_code<-a1\n",
    "return(snp_code)\n",
    " }"
   ]
  },
  {
   "cell_type": "code",
   "execution_count": 21,
   "metadata": {},
   "outputs": [],
   "source": [
    "##geno and pheno from simulated data\n",
    "pheno<-RP$output[[2]]$data$phen\n",
    "n<-bin_snp(RP$output[[2]]$mrk[,3:23570])\n",
    "x<-as.matrix(n)-1\n",
    "data <- data.frame(tbcw=pheno,gid=1:1000)"
   ]
  },
  {
   "cell_type": "code",
   "execution_count": 23,
   "metadata": {},
   "outputs": [
    {
     "name": "stderr",
     "output_type": "stream",
     "text": [
      "Loading required package: foreach\n",
      "Loading required package: iterators\n",
      "Loading required package: parallel\n"
     ]
    },
    {
     "data": {
      "text/plain": [
       "[1] '4.6'"
      ]
     },
     "metadata": {},
     "output_type": "display_data"
    }
   ],
   "source": [
    "##load packages\n",
    "library(doParallel)\n",
    "library(foreach)\n",
    "cl<-makeCluster(8) \n",
    "repeats <- 10\n",
    "n.fold <- 5 \n",
    "acc<-list()\n",
    "library(rrBLUP)\n",
    "packageVersion(\"rrBLUP\") "
   ]
  },
  {
   "cell_type": "code",
   "execution_count": 24,
   "metadata": {},
   "outputs": [],
   "source": [
    "# Function for calculating the accuracy of GP with \n",
    "# varying size of reference population and varying denstiy of SNP panel\n",
    "cal_acc<-function(x,n.sample,n.snp){\n",
    "id<-sample(1:dim(x)[1],n.sample)\n",
    "snpId<-sample(1:dim(x)[2],n.snp)\n",
    "#relationship matrix (Endelman at al. 2011)\n",
    "A <- A.mat(x[id,snpId], n.core=8)\n",
    "row.names(A)=1:n.sample;colnames(A)=1:n.sample\n",
    "data <- data.frame(tbcw=pheno[id],gid=1:n.sample)\n",
    "registerDoParallel(cl)\n",
    "GBLUP<-foreach(j=1:repeats,.combine = \"rbind\") %do% {\n",
    "        set.seed(100+3*j+1)\n",
    "        id <- sample(1:n.sample %% n.fold) + 1 \n",
    "        foreach(i=1:n.fold,.packages=\"rrBLUP\") %do% {\n",
    "         bcw_test <- data\n",
    "         bcw_test$tbcw[id == i] <- NA\n",
    "         res <- kin.blup(bcw_test, K=A, geno=\"gid\", pheno=\"tbcw\")\n",
    "         cor(data$tbcw[id==i],res$pred[id==i])\n",
    "    }\n",
    "   }\n",
    "stopImplicitCluster()\n",
    "acc<-unlist(GBLUP)\n",
    "return(acc)\n",
    "}"
   ]
  },
  {
   "cell_type": "code",
   "execution_count": 74,
   "metadata": {},
   "outputs": [],
   "source": [
    "sum_m<-sum(m)\n",
    "n.snp<-rep(c(round(0.1*sum_m),round(0.2*sum_m), \n",
    "             round(0.3*sum_m),round(0.4*sum_m),\n",
    "             round(0.5*sum_m),round(0.6*sum_m),\n",
    "             round(0.7*sum_m),round(0.8*sum_m),\n",
    "             round(0.9*sum_m),sum_m,\n",
    "             2*sum_m, 3*sum_m),each=2)\n",
    "             \n",
    "n.sample<-rep(c(500,1000),12)\n",
    "pair<-data.frame(n.snp=n.snp,n.sample=n.sample)"
   ]
  },
  {
   "cell_type": "code",
   "execution_count": 75,
   "metadata": {},
   "outputs": [],
   "source": [
    "#implemente the caculation \n",
    "all_acc<-matrix(NA,nrow = length(n.sample),ncol = repeats*n.fold)\n",
    "for (i in 1:length(n.sample)){\n",
    "    all_acc[i,]<-cal_acc(x,n.sample[i],n.snp[i])}"
   ]
  },
  {
   "cell_type": "code",
   "execution_count": 104,
   "metadata": {},
   "outputs": [],
   "source": [
    "#Boxplot\n",
    "library(ggplot2)\n",
    "options(repr.plot.width=8, repr.plot.height=4)\n",
    "plot<-data.frame(correlation=as.vector(t(all_acc)),\n",
    "                 no_of_sample=as.factor(rep(n.sample,each = n.fold*repeats)),\n",
    "                 n.snp=as.factor(rep(n.snp,each = n.fold*repeats)))\n",
    "p <- ggplot(plot, aes(x=n.snp, y=correlation,fill=no_of_sample)) + \n",
    "     geom_boxplot()+\n",
    "     scale_fill_manual(values=c(\"white\", \"skyblue\"),\n",
    "                       name=\"Size of \\n reference\\n population\")+\n",
    "     labs(x = \"Density of SNP panel\",y=\"Accuracy of GP\")+\n",
    "     theme(axis.text.y= element_text(size = rel(1.2)),\n",
    "           axis.text.x = element_text(size = rel(1.2)),\n",
    "           text=element_text(size=10, family=\"serif\"))"
   ]
  },
  {
   "cell_type": "code",
   "execution_count": 105,
   "metadata": {},
   "outputs": [
    {
     "data": {},
     "metadata": {},
     "output_type": "display_data"
    },
    {
     "data": {
      "image/png": "[encoded data removed]",
      "text/plain": [
       "plot without title"
      ]
     },
     "metadata": {},
     "output_type": "display_data"
    }
   ],
   "source": [
    "p"
   ]
  },
  {
   "cell_type": "code",
   "execution_count": 106,
   "metadata": {},
   "outputs": [
    {
     "data": {},
     "metadata": {},
     "output_type": "display_data"
    },
    {
     "data": {
      "text/html": [
       "<strong>png:</strong> 2"
      ],
      "text/latex": [
       "\\textbf{png:} 2"
      ],
      "text/markdown": [
       "**png:** 2"
      ],
      "text/plain": [
       "png \n",
       "  2 "
      ]
     },
     "metadata": {},
     "output_type": "display_data"
    }
   ],
   "source": [
    "png(\"2.2 Density of SNP panel.png\", width=8, height=4, units=\"in\", res=300)\n",
    "p\n",
    "dev.off()"
   ]
  },
  {
   "cell_type": "code",
   "execution_count": 125,
   "metadata": {},
   "outputs": [
    {
     "data": {
      "text/html": [
       "<table>\n",
       "<thead><tr><th scope=col>n.snp</th><th scope=col>no_of_sample</th><th scope=col>acc_mean</th><th scope=col>acc_se</th></tr></thead>\n",
       "<tbody>\n",
       "\t<tr><td>  393</td><td> 500 </td><td>0.447</td><td>0.021</td></tr>\n",
       "\t<tr><td>  393</td><td>1000 </td><td>0.447</td><td>0.015</td></tr>\n",
       "\t<tr><td>  786</td><td> 500 </td><td>0.468</td><td>0.020</td></tr>\n",
       "\t<tr><td>  786</td><td>1000 </td><td>0.494</td><td>0.013</td></tr>\n",
       "\t<tr><td> 1178</td><td> 500 </td><td>0.473</td><td>0.021</td></tr>\n",
       "\t<tr><td> 1178</td><td>1000 </td><td>0.510</td><td>0.014</td></tr>\n",
       "\t<tr><td> 1571</td><td> 500 </td><td>0.471</td><td>0.020</td></tr>\n",
       "\t<tr><td> 1571</td><td>1000 </td><td>0.518</td><td>0.013</td></tr>\n",
       "\t<tr><td> 1964</td><td> 500 </td><td>0.471</td><td>0.020</td></tr>\n",
       "\t<tr><td> 1964</td><td>1000 </td><td>0.521</td><td>0.013</td></tr>\n",
       "\t<tr><td> 2357</td><td> 500 </td><td>0.476</td><td>0.020</td></tr>\n",
       "\t<tr><td> 2357</td><td>1000 </td><td>0.518</td><td>0.013</td></tr>\n",
       "\t<tr><td> 2750</td><td> 500 </td><td>0.482</td><td>0.020</td></tr>\n",
       "\t<tr><td> 2750</td><td>1000 </td><td>0.521</td><td>0.014</td></tr>\n",
       "\t<tr><td> 3142</td><td> 500 </td><td>0.482</td><td>0.020</td></tr>\n",
       "\t<tr><td> 3142</td><td>1000 </td><td>0.522</td><td>0.013</td></tr>\n",
       "\t<tr><td> 3535</td><td> 500 </td><td>0.486</td><td>0.020</td></tr>\n",
       "\t<tr><td> 3535</td><td>1000 </td><td>0.524</td><td>0.013</td></tr>\n",
       "\t<tr><td> 3928</td><td> 500 </td><td>0.487</td><td>0.020</td></tr>\n",
       "\t<tr><td> 3928</td><td>1000 </td><td>0.523</td><td>0.013</td></tr>\n",
       "\t<tr><td> 7856</td><td> 500 </td><td>0.504</td><td>0.019</td></tr>\n",
       "\t<tr><td> 7856</td><td>1000 </td><td>0.545</td><td>0.013</td></tr>\n",
       "\t<tr><td>11784</td><td> 500 </td><td>0.510</td><td>0.020</td></tr>\n",
       "\t<tr><td>11784</td><td>1000 </td><td>0.547</td><td>0.013</td></tr>\n",
       "</tbody>\n",
       "</table>\n"
      ],
      "text/latex": [
       "\\begin{tabular}{r|llll}\n",
       " n.snp & no\\_of\\_sample & acc\\_mean & acc\\_se\\\\\n",
       "\\hline\n",
       "\t   393 &  500  & 0.447 & 0.021\\\\\n",
       "\t   393 & 1000  & 0.447 & 0.015\\\\\n",
       "\t   786 &  500  & 0.468 & 0.020\\\\\n",
       "\t   786 & 1000  & 0.494 & 0.013\\\\\n",
       "\t  1178 &  500  & 0.473 & 0.021\\\\\n",
       "\t  1178 & 1000  & 0.510 & 0.014\\\\\n",
       "\t  1571 &  500  & 0.471 & 0.020\\\\\n",
       "\t  1571 & 1000  & 0.518 & 0.013\\\\\n",
       "\t  1964 &  500  & 0.471 & 0.020\\\\\n",
       "\t  1964 & 1000  & 0.521 & 0.013\\\\\n",
       "\t  2357 &  500  & 0.476 & 0.020\\\\\n",
       "\t  2357 & 1000  & 0.518 & 0.013\\\\\n",
       "\t  2750 &  500  & 0.482 & 0.020\\\\\n",
       "\t  2750 & 1000  & 0.521 & 0.014\\\\\n",
       "\t  3142 &  500  & 0.482 & 0.020\\\\\n",
       "\t  3142 & 1000  & 0.522 & 0.013\\\\\n",
       "\t  3535 &  500  & 0.486 & 0.020\\\\\n",
       "\t  3535 & 1000  & 0.524 & 0.013\\\\\n",
       "\t  3928 &  500  & 0.487 & 0.020\\\\\n",
       "\t  3928 & 1000  & 0.523 & 0.013\\\\\n",
       "\t  7856 &  500  & 0.504 & 0.019\\\\\n",
       "\t  7856 & 1000  & 0.545 & 0.013\\\\\n",
       "\t 11784 &  500  & 0.510 & 0.020\\\\\n",
       "\t 11784 & 1000  & 0.547 & 0.013\\\\\n",
       "\\end{tabular}\n"
      ],
      "text/markdown": [
       "\n",
       "n.snp | no_of_sample | acc_mean | acc_se | \n",
       "|---|---|---|---|---|---|---|---|---|---|---|---|---|---|---|---|---|---|---|---|---|---|---|---|\n",
       "|   393 |  500  | 0.447 | 0.021 | \n",
       "|   393 | 1000  | 0.447 | 0.015 | \n",
       "|   786 |  500  | 0.468 | 0.020 | \n",
       "|   786 | 1000  | 0.494 | 0.013 | \n",
       "|  1178 |  500  | 0.473 | 0.021 | \n",
       "|  1178 | 1000  | 0.510 | 0.014 | \n",
       "|  1571 |  500  | 0.471 | 0.020 | \n",
       "|  1571 | 1000  | 0.518 | 0.013 | \n",
       "|  1964 |  500  | 0.471 | 0.020 | \n",
       "|  1964 | 1000  | 0.521 | 0.013 | \n",
       "|  2357 |  500  | 0.476 | 0.020 | \n",
       "|  2357 | 1000  | 0.518 | 0.013 | \n",
       "|  2750 |  500  | 0.482 | 0.020 | \n",
       "|  2750 | 1000  | 0.521 | 0.014 | \n",
       "|  3142 |  500  | 0.482 | 0.020 | \n",
       "|  3142 | 1000  | 0.522 | 0.013 | \n",
       "|  3535 |  500  | 0.486 | 0.020 | \n",
       "|  3535 | 1000  | 0.524 | 0.013 | \n",
       "|  3928 |  500  | 0.487 | 0.020 | \n",
       "|  3928 | 1000  | 0.523 | 0.013 | \n",
       "|  7856 |  500  | 0.504 | 0.019 | \n",
       "|  7856 | 1000  | 0.545 | 0.013 | \n",
       "| 11784 |  500  | 0.510 | 0.020 | \n",
       "| 11784 | 1000  | 0.547 | 0.013 | \n",
       "\n",
       "\n"
      ],
      "text/plain": [
       "   n.snp no_of_sample acc_mean acc_se\n",
       "1    393  500         0.447    0.021 \n",
       "2    393 1000         0.447    0.015 \n",
       "3    786  500         0.468    0.020 \n",
       "4    786 1000         0.494    0.013 \n",
       "5   1178  500         0.473    0.021 \n",
       "6   1178 1000         0.510    0.014 \n",
       "7   1571  500         0.471    0.020 \n",
       "8   1571 1000         0.518    0.013 \n",
       "9   1964  500         0.471    0.020 \n",
       "10  1964 1000         0.521    0.013 \n",
       "11  2357  500         0.476    0.020 \n",
       "12  2357 1000         0.518    0.013 \n",
       "13  2750  500         0.482    0.020 \n",
       "14  2750 1000         0.521    0.014 \n",
       "15  3142  500         0.482    0.020 \n",
       "16  3142 1000         0.522    0.013 \n",
       "17  3535  500         0.486    0.020 \n",
       "18  3535 1000         0.524    0.013 \n",
       "19  3928  500         0.487    0.020 \n",
       "20  3928 1000         0.523    0.013 \n",
       "21  7856  500         0.504    0.019 \n",
       "22  7856 1000         0.545    0.013 \n",
       "23 11784  500         0.510    0.020 \n",
       "24 11784 1000         0.547    0.013 "
      ]
     },
     "metadata": {},
     "output_type": "display_data"
    }
   ],
   "source": [
    "#caculate the mean and se of accuracy of GP\n",
    "cal_se<-function(acc){sd(acc)/sqrt(repeats-1)}\n",
    "(sum<-data.frame(n.snp=n.snp,\n",
    "                 no_of_sample=n.sample,\n",
    "                 acc_mean = apply(all_acc, 1, function(x) round(mean(x),3)),\n",
    "                 acc_se = apply(all_acc, 1, function(x) round(cal_se(x),3))))"
   ]
  },
  {
   "cell_type": "code",
   "execution_count": 126,
   "metadata": {},
   "outputs": [],
   "source": [
    "#save to xlsx file\n",
    "library(\"xlsx\")\n",
    "write.xlsx(sum, \"2_2.xlsx\") "
   ]
  },
  {
   "cell_type": "code",
   "execution_count": null,
   "metadata": {},
   "outputs": [],
   "source": []
  }
 ],
 "metadata": {
  "kernelspec": {
   "display_name": "R",
   "language": "R",
   "name": "ir"
  },
  "language_info": {
   "codemirror_mode": "r",
   "file_extension": ".r",
   "mimetype": "text/x-r-source",
   "name": "R",
   "pygments_lexer": "r",
   "version": "3.5.1"
  }
 },
 "nbformat": 4,
 "nbformat_minor": 2
}
